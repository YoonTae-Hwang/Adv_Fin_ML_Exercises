{
 "cells": [
  {
   "cell_type": "markdown",
   "metadata": {
    "toc": true
   },
   "source": [
    "<h1>Table of Contents<span class=\"tocSkip\"></span></h1>\n",
    "<div class=\"toc\"><ul class=\"toc-item\"><li><span><a href=\"#Labeling-and-MetaLabeling\" data-toc-modified-id=\"Labeling-and-MetaLabeling-1\"><span class=\"toc-item-num\">1&nbsp;&nbsp;</span>Labeling and MetaLabeling</a></span><ul class=\"toc-item\"><li><span><a href=\"#Overview\" data-toc-modified-id=\"Overview-1.1\"><span class=\"toc-item-num\">1.1&nbsp;&nbsp;</span>Overview</a></span></li><li><span><a href=\"#Code-Snippets\" data-toc-modified-id=\"Code-Snippets-1.2\"><span class=\"toc-item-num\">1.2&nbsp;&nbsp;</span>Code Snippets</a></span><ul class=\"toc-item\"><li><span><a href=\"#Symmetric-CUSUM-Filter-[2.5.2.1]\" data-toc-modified-id=\"Symmetric-CUSUM-Filter-[2.5.2.1]-1.2.1\"><span class=\"toc-item-num\">1.2.1&nbsp;&nbsp;</span>Symmetric CUSUM Filter [2.5.2.1]</a></span></li><li><span><a href=\"#Daily-Volatility-Estimator-[3.1]\" data-toc-modified-id=\"Daily-Volatility-Estimator-[3.1]-1.2.2\"><span class=\"toc-item-num\">1.2.2&nbsp;&nbsp;</span>Daily Volatility Estimator [3.1]</a></span></li><li><span><a href=\"#Triple-Barrier-Labeling-Method-[3.2]\" data-toc-modified-id=\"Triple-Barrier-Labeling-Method-[3.2]-1.2.3\"><span class=\"toc-item-num\">1.2.3&nbsp;&nbsp;</span>Triple-Barrier Labeling Method [3.2]</a></span></li><li><span><a href=\"#Gettting-Time-of-First-Touch-(getEvents)-[3.3],-[3.6]\" data-toc-modified-id=\"Gettting-Time-of-First-Touch-(getEvents)-[3.3],-[3.6]-1.2.4\"><span class=\"toc-item-num\">1.2.4&nbsp;&nbsp;</span>Gettting Time of First Touch (getEvents) [3.3], [3.6]</a></span></li><li><span><a href=\"#Adding-Vertical-Barrier-[3.4]\" data-toc-modified-id=\"Adding-Vertical-Barrier-[3.4]-1.2.5\"><span class=\"toc-item-num\">1.2.5&nbsp;&nbsp;</span>Adding Vertical Barrier [3.4]</a></span></li><li><span><a href=\"#Labeling-for-side-and-size-[3.5]\" data-toc-modified-id=\"Labeling-for-side-and-size-[3.5]-1.2.6\"><span class=\"toc-item-num\">1.2.6&nbsp;&nbsp;</span>Labeling for side and size [3.5]</a></span></li><li><span><a href=\"#Expanding-getBins-to-Incorporate-Meta-Labeling-[3.7]\" data-toc-modified-id=\"Expanding-getBins-to-Incorporate-Meta-Labeling-[3.7]-1.2.7\"><span class=\"toc-item-num\">1.2.7&nbsp;&nbsp;</span>Expanding getBins to Incorporate Meta-Labeling [3.7]</a></span></li><li><span><a href=\"#Dropping-Unnecessary-Labels-[3.8]\" data-toc-modified-id=\"Dropping-Unnecessary-Labels-[3.8]-1.2.8\"><span class=\"toc-item-num\">1.2.8&nbsp;&nbsp;</span>Dropping Unnecessary Labels [3.8]</a></span></li><li><span><a href=\"#Linear-Partitions-[20.4.1]\" data-toc-modified-id=\"Linear-Partitions-[20.4.1]-1.2.9\"><span class=\"toc-item-num\">1.2.9&nbsp;&nbsp;</span>Linear Partitions [20.4.1]</a></span></li><li><span><a href=\"#multiprocessing-snippet-[20.7]\" data-toc-modified-id=\"multiprocessing-snippet-[20.7]-1.2.10\"><span class=\"toc-item-num\">1.2.10&nbsp;&nbsp;</span>multiprocessing snippet [20.7]</a></span></li><li><span><a href=\"#single-thread-execution-for-debugging-[20.8]\" data-toc-modified-id=\"single-thread-execution-for-debugging-[20.8]-1.2.11\"><span class=\"toc-item-num\">1.2.11&nbsp;&nbsp;</span>single-thread execution for debugging [20.8]</a></span></li><li><span><a href=\"#Example-of-async-call-to-multiprocessing-lib-[20.9]\" data-toc-modified-id=\"Example-of-async-call-to-multiprocessing-lib-[20.9]-1.2.12\"><span class=\"toc-item-num\">1.2.12&nbsp;&nbsp;</span>Example of async call to multiprocessing lib [20.9]</a></span></li><li><span><a href=\"#Unwrapping-the-Callback-[20.10]\" data-toc-modified-id=\"Unwrapping-the-Callback-[20.10]-1.2.13\"><span class=\"toc-item-num\">1.2.13&nbsp;&nbsp;</span>Unwrapping the Callback [20.10]</a></span></li><li><span><a href=\"#Pickle-Unpickling-Objects-[20.11]\" data-toc-modified-id=\"Pickle-Unpickling-Objects-[20.11]-1.2.14\"><span class=\"toc-item-num\">1.2.14&nbsp;&nbsp;</span>Pickle Unpickling Objects [20.11]</a></span></li></ul></li></ul></li><li><span><a href=\"#Exercises\" data-toc-modified-id=\"Exercises-2\"><span class=\"toc-item-num\">2&nbsp;&nbsp;</span>Exercises</a></span><ul class=\"toc-item\"><li><span><a href=\"#Import-Dataset\" data-toc-modified-id=\"Import-Dataset-2.1\"><span class=\"toc-item-num\">2.1&nbsp;&nbsp;</span>Import Dataset</a></span></li><li><span><a href=\"#[3.1]-Form-Dollar-Bars\" data-toc-modified-id=\"[3.1]-Form-Dollar-Bars-2.2\"><span class=\"toc-item-num\">2.2&nbsp;&nbsp;</span>[3.1] Form Dollar Bars</a></span><ul class=\"toc-item\"><li><span><a href=\"#(a)-Run-cusum-filter-with-threshold-equal-to-std-dev-of-daily-returns\" data-toc-modified-id=\"(a)-Run-cusum-filter-with-threshold-equal-to-std-dev-of-daily-returns-2.2.1\"><span class=\"toc-item-num\">2.2.1&nbsp;&nbsp;</span>(a) Run cusum filter with threshold equal to std dev of daily returns</a></span></li><li><span><a href=\"#(b)-Add-vertical-barrier\" data-toc-modified-id=\"(b)-Add-vertical-barrier-2.2.2\"><span class=\"toc-item-num\">2.2.2&nbsp;&nbsp;</span>(b) Add vertical barrier</a></span></li><li><span><a href=\"#(c)-Apply-triple-barrier-method-where-ptSl-=-[1,1]-and-t1-is-the-series-created-in-1.b\" data-toc-modified-id=\"(c)-Apply-triple-barrier-method-where-ptSl-=-[1,1]-and-t1-is-the-series-created-in-1.b-2.2.3\"><span class=\"toc-item-num\">2.2.3&nbsp;&nbsp;</span>(c) Apply triple-barrier method where <code>ptSl = [1,1]</code> and <code>t1</code> is the series created in <code>1.b</code></a></span></li><li><span><a href=\"#(d)-Apply-getBins-to-generate-labels\" data-toc-modified-id=\"(d)-Apply-getBins-to-generate-labels-2.2.4\"><span class=\"toc-item-num\">2.2.4&nbsp;&nbsp;</span>(d) Apply <code>getBins</code> to generate labels</a></span></li></ul></li><li><span><a href=\"#[3.2]-Use-snippet-3.8-to-drop-under-populated-labels\" data-toc-modified-id=\"[3.2]-Use-snippet-3.8-to-drop-under-populated-labels-2.3\"><span class=\"toc-item-num\">2.3&nbsp;&nbsp;</span>[3.2] Use snippet 3.8 to drop under-populated labels</a></span></li><li><span><a href=\"#[3.3]-Adjust-the-getBins-function-to-return-a-0-whenever-the-vertical-barrier-is-the-one-touched-first.\" data-toc-modified-id=\"[3.3]-Adjust-the-getBins-function-to-return-a-0-whenever-the-vertical-barrier-is-the-one-touched-first.-2.4\"><span class=\"toc-item-num\">2.4&nbsp;&nbsp;</span>[3.3] Adjust the <code>getBins</code> function to return a <code>0</code> whenever the vertical barrier is the one touched first.</a></span></li><li><span><a href=\"#[3.4]-Develop-moving-average-crossover-strategy.-For-each-obs.-the-model-suggests-a-side-but-not-size-of-the-bet\" data-toc-modified-id=\"[3.4]-Develop-moving-average-crossover-strategy.-For-each-obs.-the-model-suggests-a-side-but-not-size-of-the-bet-2.5\"><span class=\"toc-item-num\">2.5&nbsp;&nbsp;</span>[3.4] Develop moving average crossover strategy. For each obs. the model suggests a side but not size of the bet</a></span><ul class=\"toc-item\"><li><span><a href=\"#(a)-Derive-meta-labels-for-ptSl-=-[1,2]-and-t1-where-numdays=1.-Use-as-trgt-dailyVol-computed-by-snippet-3.1-(get-events-with-sides)\" data-toc-modified-id=\"(a)-Derive-meta-labels-for-ptSl-=-[1,2]-and-t1-where-numdays=1.-Use-as-trgt-dailyVol-computed-by-snippet-3.1-(get-events-with-sides)-2.5.1\"><span class=\"toc-item-num\">2.5.1&nbsp;&nbsp;</span>(a) Derive meta-labels for <code>ptSl = [1,2]</code> and <code>t1</code> where <code>numdays=1</code>. Use as <code>trgt</code> dailyVol computed by snippet 3.1 (get events with sides)</a></span></li><li><span><a href=\"#(b)-Train-Random-Forest-to-decide-whether-to-trade-or-not-{0,1}-since-underlying-model-(crossing-m.a.)-has-decided-the-side,-{-1,1}\" data-toc-modified-id=\"(b)-Train-Random-Forest-to-decide-whether-to-trade-or-not-{0,1}-since-underlying-model-(crossing-m.a.)-has-decided-the-side,-{-1,1}-2.5.2\"><span class=\"toc-item-num\">2.5.2&nbsp;&nbsp;</span>(b) Train Random Forest to decide whether to trade or not <code>{0,1}</code> since underlying model (crossing m.a.) has decided the side, <code>{-1,1}</code></a></span></li></ul></li><li><span><a href=\"#[3.5]-Develop-mean-reverting-Bollinger-Band-Strategy.-For-each-obs.-model-suggests-a-side-but-not-size-of-the-bet.\" data-toc-modified-id=\"[3.5]-Develop-mean-reverting-Bollinger-Band-Strategy.-For-each-obs.-model-suggests-a-side-but-not-size-of-the-bet.-2.6\"><span class=\"toc-item-num\">2.6&nbsp;&nbsp;</span>[3.5] Develop mean-reverting Bollinger Band Strategy. For each obs. model suggests a side but not size of the bet.</a></span><ul class=\"toc-item\"><li><span><a href=\"#(a)-Derive-meta-labels-for-ptSl=[0,2]-and-t1-where-numdays=1.-Use-as-trgt-dailyVol.\" data-toc-modified-id=\"(a)-Derive-meta-labels-for-ptSl=[0,2]-and-t1-where-numdays=1.-Use-as-trgt-dailyVol.-2.6.1\"><span class=\"toc-item-num\">2.6.1&nbsp;&nbsp;</span>(a) Derive meta-labels for <code>ptSl=[0,2]</code> and <code>t1</code> where <code>numdays=1</code>. Use as <code>trgt</code> dailyVol.</a></span></li><li><span><a href=\"#(b)-train-random-forest-to-decide-to-trade-or-not.-Use-features:-volatility,-serial-correlation,-and-the-crossing-moving-averages-from-exercise-2.\" data-toc-modified-id=\"(b)-train-random-forest-to-decide-to-trade-or-not.-Use-features:-volatility,-serial-correlation,-and-the-crossing-moving-averages-from-exercise-2.-2.6.2\"><span class=\"toc-item-num\">2.6.2&nbsp;&nbsp;</span>(b) train random forest to decide to trade or not. Use features: volatility, serial correlation, and the crossing moving averages from exercise 2.</a></span></li><li><span><a href=\"#(c)-What-is-accuracy-of-predictions-from-primary-model-if-the-secondary-model-does-not-filter-bets?-What-is-classification-report?\" data-toc-modified-id=\"(c)-What-is-accuracy-of-predictions-from-primary-model-if-the-secondary-model-does-not-filter-bets?-What-is-classification-report?-2.6.3\"><span class=\"toc-item-num\">2.6.3&nbsp;&nbsp;</span>(c) What is accuracy of predictions from primary model if the secondary model does not filter bets? What is classification report?</a></span></li></ul></li></ul></li></ul></div>"
   ]
  },
  {
   "cell_type": "markdown",
   "metadata": {},
   "source": [
    "# Labeling and MetaLabeling"
   ]
  },
  {
   "cell_type": "markdown",
   "metadata": {},
   "source": [
    "## Overview\n",
    "\n",
    "In this chapter of the book AFML, De Prado introduces several novel techniques for labeling returns for the purposes of supervised machine learning. \n",
    "\n",
    "First he identifies the typical issues of fixed-time horizon labeling methods - primarily that it is easy to mislabel a return due to dynamic nature of volatility throughout a trading period.\n",
    "\n",
    "More importantly he addresses a major overlooked aspect of the financial literature. He emphasizes that every investment strategy makes use of stop-loss limits of some kind, whether those are enforced by a margin call, risk department or self-imposed. He highlights how unrealistic it is to test/implement/propagate a strategy that profits from positions that would have been stopped out. \n",
    "\n",
    "> That virtually no publication accounts for that when labeling observations tells you something about the current state of financial literature.\n",
    ">\n",
    "> -De Prado, \"Advances in Financial Machine Learning\", pg.44\n",
    "\n",
    "He also introduces a technique called metalabeling, which is used to augment a strategy by improving recall while also reducing the likelihood of overfitting."
   ]
  },
  {
   "cell_type": "code",
   "execution_count": 1,
   "metadata": {},
   "outputs": [],
   "source": [
    "# 경고무시\n",
    "import warnings\n",
    "warnings.simplefilter('ignore')"
   ]
  },
  {
   "cell_type": "code",
   "execution_count": 2,
   "metadata": {
    "ExecuteTime": {
     "end_time": "2019-03-01T17:54:13.812868Z",
     "start_time": "2019-03-01T17:54:08.567716Z"
    }
   },
   "outputs": [
    {
     "name": "stdout",
     "output_type": "stream",
     "text": [
      "2020-05-08T14:26:34+09:00\n",
      "\n",
      "CPython 3.7.3\n",
      "IPython 7.13.0\n",
      "\n",
      "compiler   : MSC v.1915 64 bit (AMD64)\n",
      "system     : Windows\n",
      "release    : 10\n",
      "machine    : AMD64\n",
      "processor  : Intel64 Family 6 Model 142 Stepping 10, GenuineIntel\n",
      "CPU cores  : 8\n",
      "interpreter: 64bit\n",
      "The autoreload extension is already loaded. To reload it, use:\n",
      "  %reload_ext autoreload\n",
      "C:\\Dev\\Adv_Fin_ML_Exercises\\Adv_Fin_ML_Exercises\n",
      "\n",
      "pandas 1.0.3\n",
      "pandas_datareader 0.8.1\n",
      "dask 2.15.0\n",
      "numpy 1.18.3\n",
      "sklearn 0.21.3\n",
      "statsmodels 0.11.0\n",
      "scipy 1.4.1\n",
      "ffn 0.3.4\n",
      "matplotlib 3.2.1\n",
      "seaborn 0.10.0\n"
     ]
    }
   ],
   "source": [
    "%load_ext watermark\n",
    "%watermark\n",
    "\n",
    "%load_ext autoreload\n",
    "%autoreload 2\n",
    "\n",
    "# import standard libs\n",
    "from IPython.display import display\n",
    "from IPython.core.debugger import set_trace as bp\n",
    "from pathlib import PurePath, Path\n",
    "import sys\n",
    "import time\n",
    "from collections import OrderedDict as od\n",
    "import re\n",
    "import os\n",
    "module_path = os.path.abspath(os.path.join('..'))\n",
    "print(module_path)\n",
    "if module_path not in sys.path:\n",
    "    sys.path.append(module_path)\n",
    "    #sys.path.append(module_path+\"\\\\src\")\n",
    "import json\n",
    "\n",
    "# import python scientific stack\n",
    "import pandas as pd\n",
    "import pandas_datareader.data as web\n",
    "pd.set_option('display.max_rows', 100)\n",
    "from dask import dataframe as dd\n",
    "from dask.diagnostics import ProgressBar\n",
    "from multiprocessing import cpu_count\n",
    "pbar = ProgressBar()\n",
    "pbar.register()\n",
    "import numpy as np\n",
    "import scipy.stats as stats\n",
    "import statsmodels.api as sm\n",
    "from numba import jit\n",
    "import math\n",
    "import ffn\n",
    "\n",
    "# import visual tools\n",
    "import matplotlib as mpl\n",
    "import matplotlib.pyplot as plt\n",
    "import matplotlib.gridspec as gridspec\n",
    "%matplotlib inline\n",
    "import seaborn as sns\n",
    "\n",
    "plt.style.use('seaborn-talk')\n",
    "plt.style.use('bmh')\n",
    "#plt.rcParams['font.family'] = 'DejaVu Sans Mono'\n",
    "plt.rcParams['font.size'] = 9.5\n",
    "plt.rcParams['font.weight'] = 'medium'\n",
    "plt.rcParams['figure.figsize'] = 10,7\n",
    "blue, green, red, purple, gold, teal = sns.color_palette('colorblind', 6)\n",
    "\n",
    "# import util libs\n",
    "from tqdm import tqdm, tqdm_notebook\n",
    "import warnings\n",
    "warnings.filterwarnings(\"ignore\")\n",
    "import missingno as msno\n",
    "from src.utils.utils import *\n",
    "import src.features.bars as brs\n",
    "import src.features.snippets as snp\n",
    "\n",
    "RANDOM_STATE = 777\n",
    "\n",
    "pdir = get_relative_project_dir('Adv_Fin_ML_Exercises', partial=False)\n",
    "data_dir = pdir / 'data/external'\n",
    "\n",
    "print()\n",
    "%watermark -p pandas,pandas_datareader,dask,numpy,sklearn,statsmodels,scipy,ffn,matplotlib,seaborn"
   ]
  },
  {
   "cell_type": "code",
   "execution_count": 3,
   "metadata": {},
   "outputs": [
    {
     "data": {
      "text/plain": [
       "WindowsPath('C:/Dev/Adv_Fin_ML_Exercises/Adv_Fin_ML_Exercises/data/external')"
      ]
     },
     "execution_count": 3,
     "metadata": {},
     "output_type": "execute_result"
    }
   ],
   "source": [
    "data_dir"
   ]
  },
  {
   "cell_type": "markdown",
   "metadata": {},
   "source": [
    "## Code Snippets\n",
    "\n",
    "Below I reproduce all the relevant code snippets found in the book that are necessary to work through the excercises found at the end of chapter 3."
   ]
  },
  {
   "cell_type": "markdown",
   "metadata": {},
   "source": [
    "### Symmetric CUSUM Filter [2.5.2.1]"
   ]
  },
  {
   "cell_type": "code",
   "execution_count": 733,
   "metadata": {
    "ExecuteTime": {
     "end_time": "2019-03-01T17:54:14.136573Z",
     "start_time": "2019-03-01T17:54:13.814830Z"
    }
   },
   "outputs": [],
   "source": [
    "def getTEvents(gRaw, h):\n",
    "    tEvents, sPos, sNeg = [], 0, 0\n",
    "    diff = np.log(gRaw).diff().dropna()\n",
    "    for i in tqdm(diff.index):  \n",
    "        try:\n",
    "            pos, neg = float(sPos+diff.loc[i]),float(sNeg+diff.loc[i])\n",
    "        except Exception as e:\n",
    "            print(e)\n",
    "            print(sPos+diff.loc[i], type(sPos+diff.loc[i]))\n",
    "            print(sNeg+diff.loc[i], type(sNeg+diff.loc[i]))\n",
    "            break\n",
    "        sPos, sNeg=max(0., pos), min(0., neg)\n",
    "        if sNeg<-h:\n",
    "            sNeg=0;tEvents.append(i)\n",
    "        elif sPos>h:\n",
    "            sPos=0;tEvents.append(i)\n",
    "    return pd.DatetimeIndex(tEvents)"
   ]
  },
  {
   "cell_type": "markdown",
   "metadata": {},
   "source": [
    "### Daily Volatility Estimator [3.1]"
   ]
  },
  {
   "cell_type": "code",
   "execution_count": 997,
   "metadata": {
    "ExecuteTime": {
     "end_time": "2019-03-01T17:54:14.430421Z",
     "start_time": "2019-03-01T17:54:14.138108Z"
    }
   },
   "outputs": [],
   "source": [
    "def getDailyVol(close,span0=100):\n",
    "    # daily vol reindexed to close\n",
    "    df0=close.index.searchsorted(close.index-pd.Timedelta(days=1))\n",
    "    df0=df0[df0>0]\n",
    "    df0=(pd.Series(close.index[df0-1],\n",
    "        index=close.index[close.shape[0]-df0.shape[0]:]))\n",
    "    try:\n",
    "        df0=close.loc[df0.index]/close.loc[df0.values].values-1 # daily rets\n",
    "        #df0=np.log(close.loc[df0.index]/close.loc[df0.values].values) # daily log rets\n",
    "    except Exception as e:\n",
    "        print(f'error: {e}\\nplease confirm no duplicate indices')\n",
    "    df0=df0.ewm(span=span0).std().rename('dailyVol').dropna()\n",
    "    return df0"
   ]
  },
  {
   "cell_type": "markdown",
   "metadata": {},
   "source": [
    "### Triple-Barrier Labeling Method [3.2]"
   ]
  },
  {
   "cell_type": "code",
   "execution_count": 1084,
   "metadata": {
    "ExecuteTime": {
     "end_time": "2019-03-01T17:54:14.746120Z",
     "start_time": "2019-03-01T17:54:14.432530Z"
    }
   },
   "outputs": [],
   "source": [
    "def applyPtSlOnT1(close,events,ptSl,molecule):\n",
    "    # apply stop loss/profit taking, if it takes place before t1 (end of event)\n",
    "    events_=events.loc[molecule]\n",
    "    out=events_[['t1']].copy(deep=True)\n",
    "    if ptSl[0]>0: pt=ptSl[0]*events_['trgt']\n",
    "    else: pt=pd.Series(index=events.index) # NaNs\n",
    "    if ptSl[1]>0: sl=-ptSl[1]*events_['trgt']\n",
    "    else: sl=pd.Series(index=events.index) # NaNs\n",
    "    for loc,t1 in events_['t1'].fillna(close.index[-1]).iteritems():\n",
    "        df0=close[loc:t1] # path prices\n",
    "        df0=(df0/close[loc]-1)*events_.at[loc,'side'] # path returns\n",
    "        out.loc[loc,'sl']=df0[df0<sl[loc]].index.min() # earliest stop loss\n",
    "        out.loc[loc,'pt']=df0[df0>pt[loc]].index.min() # earliest profit taking\n",
    "    return out"
   ]
  },
  {
   "cell_type": "markdown",
   "metadata": {},
   "source": [
    "### Gettting Time of First Touch (getEvents) [3.3], [3.6]"
   ]
  },
  {
   "cell_type": "code",
   "execution_count": 1085,
   "metadata": {
    "ExecuteTime": {
     "end_time": "2019-03-01T17:54:15.090397Z",
     "start_time": "2019-03-01T17:54:14.748256Z"
    }
   },
   "outputs": [],
   "source": [
    "def getEvents(close, tEvents, ptSl, trgt, minRet, numThreads, t1=False, side=None):\n",
    "    #1) get target\n",
    "    trgt=trgt.loc[tEvents]\n",
    "    trgt=trgt[trgt>minRet] # minRet\n",
    "    #2) get t1 (max holding period)\n",
    "    if t1 is False:t1=pd.Series(pd.NaT, index=tEvents)\n",
    "    #3) form events object, apply stop loss on t1\n",
    "    if side is None:side_,ptSl_=pd.Series(1.,index=trgt.index), [ptSl[0],ptSl[0]]\n",
    "    else: side_,ptSl_=side.loc[trgt.index],ptSl[:2]\n",
    "    events=(pd.concat({'t1':t1,'trgt':trgt,'side':side_}, axis=1)\n",
    "            .dropna(subset=['trgt']))\n",
    "    df0=mpPandasObj(func=applyPtSlOnT1,pdObj=('molecule',events.index),\n",
    "                    numThreads=numThreads,close=close,events=events,\n",
    "                    ptSl=ptSl_)\n",
    "    events['t1']=df0.dropna(how='all').min(axis=1) # pd.min ignores nan\n",
    "    if side is None:events=events.drop('side',axis=1)\n",
    "    return events"
   ]
  },
  {
   "cell_type": "markdown",
   "metadata": {},
   "source": [
    "### Adding Vertical Barrier [3.4]"
   ]
  },
  {
   "cell_type": "code",
   "execution_count": 1086,
   "metadata": {
    "ExecuteTime": {
     "end_time": "2019-03-01T17:54:15.400850Z",
     "start_time": "2019-03-01T17:54:15.092280Z"
    }
   },
   "outputs": [],
   "source": [
    "def addVerticalBarrier(tEvents, close, numDays=1):\n",
    "    t1=close.index.searchsorted(tEvents+pd.Timedelta(days=numDays))\n",
    "    t1=t1[t1<close.shape[0]]\n",
    "    t1=(pd.Series(close.index[t1],index=tEvents[:t1.shape[0]]))\n",
    "    return t1"
   ]
  },
  {
   "cell_type": "markdown",
   "metadata": {},
   "source": [
    "### Labeling for side and size [3.5]"
   ]
  },
  {
   "cell_type": "code",
   "execution_count": 9,
   "metadata": {
    "ExecuteTime": {
     "end_time": "2019-03-01T17:54:15.708129Z",
     "start_time": "2019-03-01T17:54:15.403089Z"
    }
   },
   "outputs": [],
   "source": [
    "def getBinsOld(events,close):\n",
    "    #1) prices aligned with events\n",
    "    events_=events.dropna(subset=['t1'])\n",
    "    px=events_.index.union(events_['t1'].values).drop_duplicates()\n",
    "    px=close.reindex(px,method='bfill')\n",
    "    #2) create out object\n",
    "    out=pd.DataFrame(index=events_.index)\n",
    "    out['ret']=px.loc[events_['t1'].values].values/px.loc[events_.index]-1\n",
    "    out['bin']=np.sign(out['ret'])\n",
    "    # where out index and t1 (vertical barrier) intersect label 0\n",
    "    try:\n",
    "        locs = out.query('index in @t1').index\n",
    "        out.loc[locs, 'bin'] = 0\n",
    "    except:\n",
    "        pass\n",
    "    return out"
   ]
  },
  {
   "cell_type": "markdown",
   "metadata": {},
   "source": [
    "### Expanding getBins to Incorporate Meta-Labeling [3.7]"
   ]
  },
  {
   "cell_type": "code",
   "execution_count": 10,
   "metadata": {
    "ExecuteTime": {
     "end_time": "2019-03-01T17:54:15.997926Z",
     "start_time": "2019-03-01T17:54:15.710104Z"
    }
   },
   "outputs": [],
   "source": [
    "def getBins(events, close):\n",
    "    '''\n",
    "    Compute event's outcome (including side information, if provided).\n",
    "    events is a DataFrame where:\n",
    "    -events.index is event's starttime\n",
    "    -events['t1'] is event's endtime\n",
    "    -events['trgt'] is event's target\n",
    "    -events['side'] (optional) implies the algo's position side\n",
    "    Case 1: ('side' not in events): bin in (-1,1) <-label by price action\n",
    "    Case 2: ('side' in events): bin in (0,1) <-label by pnl (meta-labeling)\n",
    "    '''\n",
    "    #1) prices aligned with events\n",
    "    events_=events.dropna(subset=['t1'])\n",
    "    px=events_.index.union(events_['t1'].values).drop_duplicates()\n",
    "    px=close.reindex(px,method='bfill')\n",
    "    #2) create out object\n",
    "    out=pd.DataFrame(index=events_.index)\n",
    "    out['ret']=px.loc[events_['t1'].values].values/px.loc[events_.index]-1\n",
    "    if 'side' in events_:out['ret']*=events_['side'] # meta-labeling\n",
    "    out['bin']=np.sign(out['ret'])\n",
    "    if 'side' in events_:out.loc[out['ret']<=0,'bin']=0 # meta-labeling\n",
    "    return out"
   ]
  },
  {
   "cell_type": "markdown",
   "metadata": {},
   "source": [
    "### Dropping Unnecessary Labels [3.8]"
   ]
  },
  {
   "cell_type": "code",
   "execution_count": 11,
   "metadata": {
    "ExecuteTime": {
     "end_time": "2019-03-01T17:54:16.304495Z",
     "start_time": "2019-03-01T17:54:15.999884Z"
    }
   },
   "outputs": [],
   "source": [
    "def dropLabels(events, minPct=.05):\n",
    "    # apply weights, drop labels with insufficient examples\n",
    "    while True:\n",
    "        df0=events['bin'].value_counts(normalize=True)\n",
    "        if df0.min()>minPct or df0.shape[0]<3:break\n",
    "        print('dropped label: ', df0.argmin(),df0.min())\n",
    "        events=events[events['bin']!=df0.argmin()]\n",
    "    return events"
   ]
  },
  {
   "cell_type": "markdown",
   "metadata": {},
   "source": [
    "### Linear Partitions [20.4.1]"
   ]
  },
  {
   "cell_type": "code",
   "execution_count": 12,
   "metadata": {
    "ExecuteTime": {
     "end_time": "2019-03-01T17:54:16.614458Z",
     "start_time": "2019-03-01T17:54:16.306320Z"
    }
   },
   "outputs": [],
   "source": [
    "def linParts(numAtoms,numThreads):\n",
    "    # partition of atoms with a single loop\n",
    "    parts=np.linspace(0,numAtoms,min(numThreads,numAtoms)+1)\n",
    "    parts=np.ceil(parts).astype(int)\n",
    "    return parts"
   ]
  },
  {
   "cell_type": "code",
   "execution_count": 13,
   "metadata": {
    "ExecuteTime": {
     "end_time": "2019-03-01T17:54:16.943498Z",
     "start_time": "2019-03-01T17:54:16.616483Z"
    }
   },
   "outputs": [],
   "source": [
    "def nestedParts(numAtoms,numThreads,upperTriang=False):\n",
    "    # partition of atoms with an inner loop\n",
    "    parts,numThreads_=[0],min(numThreads,numAtoms)\n",
    "    for num in range(numThreads_):\n",
    "        part=1+4*(parts[-1]**2+parts[-1]+numAtoms*(numAtoms+1.)/numThreads_)\n",
    "        part=(-1+part**.5)/2.\n",
    "        parts.append(part)\n",
    "    parts=np.round(parts).astype(int)\n",
    "    if upperTriang: # the first rows are heaviest\n",
    "        parts=np.cumsum(np.diff(parts)[::-1])\n",
    "        parts=np.append(np.array([0]),parts)\n",
    "    return parts"
   ]
  },
  {
   "cell_type": "markdown",
   "metadata": {},
   "source": [
    "### multiprocessing snippet [20.7]"
   ]
  },
  {
   "cell_type": "code",
   "execution_count": 14,
   "metadata": {
    "ExecuteTime": {
     "end_time": "2019-03-01T17:54:17.274840Z",
     "start_time": "2019-03-01T17:54:16.945515Z"
    }
   },
   "outputs": [],
   "source": [
    "def mpPandasObj(func,pdObj,numThreads=24,mpBatches=1,linMols=True,**kargs):\n",
    "    '''\n",
    "    Parallelize jobs, return a dataframe or series\n",
    "    + func: function to be parallelized. Returns a DataFrame\n",
    "    + pdObj[0]: Name of argument used to pass the molecule\n",
    "    + pdObj[1]: List of atoms that will be grouped into molecules\n",
    "    + kwds: any other argument needed by func\n",
    "    \n",
    "    Example: df1=mpPandasObj(func,('molecule',df0.index),24,**kwds)\n",
    "    '''\n",
    "    import pandas as pd\n",
    "    #if linMols:parts=linParts(len(argList[1]),numThreads*mpBatches)\n",
    "    #else:parts=nestedParts(len(argList[1]),numThreads*mpBatches)\n",
    "    if linMols:parts=linParts(len(pdObj[1]),numThreads*mpBatches)\n",
    "    else:parts=nestedParts(len(pdObj[1]),numThreads*mpBatches)\n",
    "    \n",
    "    jobs=[]\n",
    "    for i in range(1,len(parts)):\n",
    "        job={pdObj[0]:pdObj[1][parts[i-1]:parts[i]],'func':func}\n",
    "        job.update(kargs)\n",
    "        jobs.append(job)\n",
    "    if numThreads==1:out=processJobs_(jobs)\n",
    "    else: out=processJobs(jobs,numThreads=numThreads)\n",
    "    if isinstance(out[0],pd.DataFrame):df0=pd.DataFrame()\n",
    "    elif isinstance(out[0],pd.Series):df0=pd.Series()\n",
    "    else:return out\n",
    "    for i in out:df0=df0.append(i)\n",
    "    df0=df0.sort_index()\n",
    "    return df0"
   ]
  },
  {
   "cell_type": "markdown",
   "metadata": {},
   "source": [
    "### single-thread execution for debugging [20.8]"
   ]
  },
  {
   "cell_type": "code",
   "execution_count": 15,
   "metadata": {
    "ExecuteTime": {
     "end_time": "2019-03-01T17:54:17.601019Z",
     "start_time": "2019-03-01T17:54:17.277000Z"
    }
   },
   "outputs": [],
   "source": [
    "def processJobs_(jobs):\n",
    "    # Run jobs sequentially, for debugging\n",
    "    out=[]\n",
    "    for job in jobs:\n",
    "        out_=expandCall(job)\n",
    "        out.append(out_)\n",
    "    return out"
   ]
  },
  {
   "cell_type": "markdown",
   "metadata": {},
   "source": [
    "### Example of async call to multiprocessing lib [20.9]"
   ]
  },
  {
   "cell_type": "code",
   "execution_count": 16,
   "metadata": {
    "ExecuteTime": {
     "end_time": "2019-03-01T17:54:17.934204Z",
     "start_time": "2019-03-01T17:54:17.602756Z"
    }
   },
   "outputs": [],
   "source": [
    "import multiprocessing as mp\n",
    "import datetime as dt\n",
    "\n",
    "#________________________________\n",
    "def reportProgress(jobNum,numJobs,time0,task):\n",
    "    # Report progress as asynch jobs are completed\n",
    "    msg=[float(jobNum)/numJobs, (time.time()-time0)/60.]\n",
    "    msg.append(msg[1]*(1/msg[0]-1))\n",
    "    timeStamp=str(dt.datetime.fromtimestamp(time.time()))\n",
    "    msg=timeStamp+' '+str(round(msg[0]*100,2))+'% '+task+' done after '+ \\\n",
    "        str(round(msg[1],2))+' minutes. Remaining '+str(round(msg[2],2))+' minutes.'\n",
    "    if jobNum<numJobs:sys.stderr.write(msg+'\\r')\n",
    "    else:sys.stderr.write(msg+'\\n')\n",
    "    return\n",
    "#________________________________\n",
    "def processJobs(jobs,task=None,numThreads=24):\n",
    "    # Run in parallel.\n",
    "    # jobs must contain a 'func' callback, for expandCall\n",
    "    if task is None:task=jobs[0]['func'].__name__\n",
    "    pool=mp.Pool(processes=numThreads)\n",
    "    outputs,out,time0=pool.imap_unordered(expandCall,jobs),[],time.time()\n",
    "    # Process asyn output, report progress\n",
    "    for i,out_ in enumerate(outputs,1):\n",
    "        out.append(out_)\n",
    "        reportProgress(i,len(jobs),time0,task)\n",
    "    pool.close();pool.join() # this is needed to prevent memory leaks\n",
    "    return out"
   ]
  },
  {
   "cell_type": "markdown",
   "metadata": {},
   "source": [
    "### Unwrapping the Callback [20.10]"
   ]
  },
  {
   "cell_type": "code",
   "execution_count": 17,
   "metadata": {
    "ExecuteTime": {
     "end_time": "2019-03-01T17:54:18.252804Z",
     "start_time": "2019-03-01T17:54:17.936043Z"
    }
   },
   "outputs": [],
   "source": [
    "def expandCall(kargs):\n",
    "    # Expand the arguments of a callback function, kargs['func']\n",
    "    func=kargs['func']\n",
    "    del kargs['func']\n",
    "    out=func(**kargs)\n",
    "    return out"
   ]
  },
  {
   "cell_type": "markdown",
   "metadata": {},
   "source": [
    "### Pickle Unpickling Objects [20.11]"
   ]
  },
  {
   "cell_type": "code",
   "execution_count": 18,
   "metadata": {
    "ExecuteTime": {
     "end_time": "2019-03-01T17:54:18.563865Z",
     "start_time": "2019-03-01T17:54:18.254387Z"
    }
   },
   "outputs": [],
   "source": [
    "def _pickle_method(method):\n",
    "    func_name=method.im_func.__name__\n",
    "    obj=method.im_self\n",
    "    cls=method.im_class\n",
    "    return _unpickle_method, (func_name,obj,cls)\n",
    "#________________________________\n",
    "def _unpickle_method(func_name,obj,cls):\n",
    "    for cls in cls.mro():\n",
    "        try:func=cls.__dict__[func_name]\n",
    "        except KeyError:pass\n",
    "        else:break\n",
    "    return func.__get__(obj,cls)\n",
    "#________________________________\n",
    "import copyreg,types, multiprocessing as mp\n",
    "copyreg.pickle(types.MethodType,_pickle_method,_unpickle_method)"
   ]
  },
  {
   "cell_type": "markdown",
   "metadata": {},
   "source": [
    "# Exercises"
   ]
  },
  {
   "cell_type": "markdown",
   "metadata": {},
   "source": [
    "## Import Dataset\n",
    "\n",
    "Note this dataset below has been resampled to `1s` and then `NaNs` removed. This was done to remove any duplicate indices not accounted for in a simple call to `pd.DataFrame.drop_duplicates()`. "
   ]
  },
  {
   "cell_type": "code",
   "execution_count": 736,
   "metadata": {},
   "outputs": [
    {
     "data": {
      "text/plain": [
       "PureWindowsPath('C:/Dev/Adv_Fin_ML_Exercises/Adv_Fin_ML_Exercises/data/external/processed/IVE_dollarValue_resampled_1s.parquet')"
      ]
     },
     "execution_count": 736,
     "metadata": {},
     "output_type": "execute_result"
    }
   ],
   "source": [
    "infp = PurePath(data_dir/'processed'/'IVE_dollarValue_resampled_1s.parquet')\n",
    "infp"
   ]
  },
  {
   "cell_type": "markdown",
   "metadata": {},
   "source": [
    "* \"Tick, Volume, Dollar Volume Bars.ipynb\" 에서 생성 했던 \"clean_IVE_fut_prices.parq\" 파일을 \n",
    "* \"IVE_dollarValue_resampled_1s.parquet\" 파일명으로 복사 한다"
   ]
  },
  {
   "cell_type": "code",
   "execution_count": 737,
   "metadata": {},
   "outputs": [
    {
     "name": "stdout",
     "output_type": "stream",
     "text": [
      "-------------------------------------------------------------------------------\n",
      "dataframe information\n",
      "-------------------------------------------------------------------------------\n",
      "                      price     bid     ask   size      v          dv\n",
      "dates                                                                \n",
      "2020-04-17 15:59:59  106.05  106.05  106.10    100    100    10605.00\n",
      "2020-04-17 16:00:00  106.03  106.05  106.10  39005  39005  4135700.15\n",
      "2020-04-17 16:02:24  106.00  106.00  107.79    149    149    15794.00\n",
      "2020-04-17 16:10:00  106.03  100.28  107.34      0      0        0.00\n",
      "2020-04-17 18:30:00  106.03  100.28  107.87      0      0        0.00\n",
      "--------------------------------------------------\n",
      "<class 'pandas.core.frame.DataFrame'>\n",
      "DatetimeIndex: 1873270 entries, 2009-09-28 09:30:00 to 2020-04-17 18:30:00\n",
      "Data columns (total 6 columns):\n",
      " #   Column  Dtype  \n",
      "---  ------  -----  \n",
      " 0   price   float64\n",
      " 1   bid     float64\n",
      " 2   ask     float64\n",
      " 3   size    int64  \n",
      " 4   v       int64  \n",
      " 5   dv      float64\n",
      "dtypes: float64(4), int64(2)\n",
      "memory usage: 100.0 MB\n",
      "None\n",
      "-------------------------------------------------------------------------------\n",
      "\n"
     ]
    }
   ],
   "source": [
    "infp = PurePath(data_dir/'processed'/'IVE_dollarValue_resampled_1s.parquet')\n",
    "df = pd.read_parquet(infp)\n",
    "cprint(df)"
   ]
  },
  {
   "cell_type": "markdown",
   "metadata": {},
   "source": [
    "## [3.1] Form Dollar Bars"
   ]
  },
  {
   "cell_type": "code",
   "execution_count": 738,
   "metadata": {
    "ExecuteTime": {
     "end_time": "2019-03-01T17:54:19.835164Z",
     "start_time": "2019-03-01T17:54:19.142594Z"
    }
   },
   "outputs": [
    {
     "name": "stderr",
     "output_type": "stream",
     "text": [
      "100%|███████████████████████████████████████████████████████████████████| 1873270/1873270 [00:00<00:00, 2461586.42it/s]\n"
     ]
    },
    {
     "name": "stdout",
     "output_type": "stream",
     "text": [
      "-------------------------------------------------------------------------------\n",
      "dataframe information\n",
      "-------------------------------------------------------------------------------\n",
      "                        price     bid     ask   size      v            dv\n",
      "dates                                                                    \n",
      "2020-04-17 15:53:10  106.1542  106.15  106.18    633    633  6.719561e+04\n",
      "2020-04-17 15:58:06  105.9600  105.95  105.96    266    266  2.818536e+04\n",
      "2020-04-17 15:59:01  105.9700  105.97  106.00    390    390  4.132830e+04\n",
      "2020-04-17 15:59:48  106.0600  106.05  106.06   1600   1600  1.696960e+05\n",
      "2020-04-17 16:00:00  106.0300  106.05  106.10  39005  39005  4.135700e+06\n",
      "--------------------------------------------------\n",
      "<class 'pandas.core.frame.DataFrame'>\n",
      "DatetimeIndex: 68758 entries, 2009-09-28 09:46:35 to 2020-04-17 16:00:00\n",
      "Data columns (total 6 columns):\n",
      " #   Column  Non-Null Count  Dtype  \n",
      "---  ------  --------------  -----  \n",
      " 0   price   68758 non-null  float64\n",
      " 1   bid     68758 non-null  float64\n",
      " 2   ask     68758 non-null  float64\n",
      " 3   size    68758 non-null  int64  \n",
      " 4   v       68758 non-null  int64  \n",
      " 5   dv      68758 non-null  float64\n",
      "dtypes: float64(4), int64(2)\n",
      "memory usage: 3.7 MB\n",
      "None\n",
      "-------------------------------------------------------------------------------\n",
      "\n"
     ]
    }
   ],
   "source": [
    "dbars = brs.dollar_bar_df(df, 'dv', 1_000_000).drop_duplicates().dropna()\n",
    "cprint(dbars)"
   ]
  },
  {
   "cell_type": "markdown",
   "metadata": {},
   "source": [
    "### (a) Run cusum filter with threshold equal to std dev of daily returns"
   ]
  },
  {
   "cell_type": "markdown",
   "metadata": {},
   "source": [
    "### ============================= getDailyVol Test Start ============================\n",
    "* getDailyVol_Test.xlsx 파일 참조 : getDailyVol method가 어떻게 동작하는지 시험 해본것\n",
    "* 일간 가격 또는 거래량등의 변동은 국내 주식 처럼 9시에 시가, 3시에 종가를 나타내는 것이 아니라\n",
    "* 어느 지정된 시점 부터 1일(24시간) 전의 가격 또는 거래량을 시가, 지정된 시점의 가격 또는 거래량을 종가로 본다\n",
    "* 예를 들어\n",
    "* 2020-01-20 11:10:11, 2020-01-20 11:10:13 에 거래 가 있었다면 1일전 형성된 가격 즉 시가는 \n",
    "* 2020-01-19 11:10:11, 2020-01-19 11:10:13 에 형성된 가격을 의미한다. 2020-01-20 11:10:11, 2020-01-20 11:10:13 시점의 거래를 중심으로\n",
    "* 정획히 1일전에 즉 2020-01-19 11:10:11, 2020-01-19 11:10:13 시점에 거래가 없을 수 있기 때문에 1일전에 가장 가까운 일시를 설정하여 \n",
    "* 시가로 사용한다."
   ]
  },
  {
   "cell_type": "code",
   "execution_count": 998,
   "metadata": {},
   "outputs": [
    {
     "data": {
      "text/plain": [
       "dates\n",
       "2009-09-28 09:46:35     51.0700\n",
       "2009-09-28 09:53:49     51.1400\n",
       "2009-09-28 09:55:26     51.1400\n",
       "2009-09-28 10:02:52     51.2500\n",
       "2009-09-28 10:10:21     51.2900\n",
       "                         ...   \n",
       "2020-04-17 15:53:10    106.1542\n",
       "2020-04-17 15:58:06    105.9600\n",
       "2020-04-17 15:59:01    105.9700\n",
       "2020-04-17 15:59:48    106.0600\n",
       "2020-04-17 16:00:00    106.0300\n",
       "Name: price, Length: 68758, dtype: float64"
      ]
     },
     "execution_count": 998,
     "metadata": {},
     "output_type": "execute_result"
    }
   ],
   "source": [
    "close = dbars.price.copy() #.drop_duplicates().dropna()\n",
    "close"
   ]
  },
  {
   "cell_type": "markdown",
   "metadata": {},
   "source": [
    "### 중요 : 중복 index가 있기 때문에 index별로 합계를 내고 index를 재설정 한다."
   ]
  },
  {
   "cell_type": "code",
   "execution_count": 999,
   "metadata": {},
   "outputs": [],
   "source": [
    "close = close.groupby(close.index).sum().reset_index()\n",
    "close = close.set_index('dates')"
   ]
  },
  {
   "cell_type": "code",
   "execution_count": 1000,
   "metadata": {},
   "outputs": [
    {
     "data": {
      "text/plain": [
       "dates\n",
       "2009-09-28 09:46:35     51.0700\n",
       "2009-09-28 09:53:49     51.1400\n",
       "2009-09-28 09:55:26     51.1400\n",
       "2009-09-28 10:02:52     51.2500\n",
       "2009-09-28 10:10:21     51.2900\n",
       "                         ...   \n",
       "2020-04-17 15:53:10    106.1542\n",
       "2020-04-17 15:58:06    105.9600\n",
       "2020-04-17 15:59:01    105.9700\n",
       "2020-04-17 15:59:48    106.0600\n",
       "2020-04-17 16:00:00    106.0300\n",
       "Name: price, Length: 67586, dtype: float64"
      ]
     },
     "execution_count": 1000,
     "metadata": {},
     "output_type": "execute_result"
    }
   ],
   "source": [
    "close = close.price\n",
    "close"
   ]
  },
  {
   "cell_type": "code",
   "execution_count": 1001,
   "metadata": {},
   "outputs": [
    {
     "data": {
      "text/plain": [
       "DatetimeIndex(['2009-09-27 09:46:35', '2009-09-27 09:53:49',\n",
       "               '2009-09-27 09:55:26', '2009-09-27 10:02:52',\n",
       "               '2009-09-27 10:10:21', '2009-09-27 10:19:36',\n",
       "               '2009-09-27 10:24:23', '2009-09-27 10:34:30',\n",
       "               '2009-09-27 10:45:25', '2009-09-27 11:10:57',\n",
       "               ...\n",
       "               '2020-04-16 15:32:12', '2020-04-16 15:37:43',\n",
       "               '2020-04-16 15:43:40', '2020-04-16 15:46:18',\n",
       "               '2020-04-16 15:48:35', '2020-04-16 15:53:10',\n",
       "               '2020-04-16 15:58:06', '2020-04-16 15:59:01',\n",
       "               '2020-04-16 15:59:48', '2020-04-16 16:00:00'],\n",
       "              dtype='datetime64[ns]', name='dates', length=67586, freq=None)"
      ]
     },
     "execution_count": 1001,
     "metadata": {},
     "output_type": "execute_result"
    }
   ],
   "source": [
    "# 현재 날짜에서 1일을 뺀다\n",
    "close.index-pd.Timedelta(days=1)"
   ]
  },
  {
   "cell_type": "markdown",
   "metadata": {},
   "source": [
    "* close.index.searchsorted : 순서를 유지하면서 삽이될 위치가 어디인지 index를 돌려 준다\n",
    "* pandas.index.serchsorted의 설명서 : https://pandas.pydata.org/pandas-docs/stable/reference/api/pandas.Index.searchsorted.html"
   ]
  },
  {
   "cell_type": "code",
   "execution_count": 1002,
   "metadata": {},
   "outputs": [
    {
     "data": {
      "text/plain": [
       "array([    0,     0,     0, ..., 67532, 67533, 67533], dtype=int64)"
      ]
     },
     "execution_count": 1002,
     "metadata": {},
     "output_type": "execute_result"
    }
   ],
   "source": [
    "# close.index-pd.Timedelta(days=1) : 주어진 일시에서 1일을 뺀 일시가 삽입 될 수 있는 numpy index 목록을 돌려 준다\n",
    "# 현재  index 즉 일시  에서 1일을 뺀 일자를 삽일 할 수 있는 위치를 돌려 준다.\n",
    "# 이는 현재 일시가 2010-10-21 10:20:10 이라면 2010-10-20 10:20:10이 삽일 될 수 있는 위치가 index상에 몇번쩨 인지 가지고 온다.\n",
    "# 이는 현재 일시와 1일 차이가나가는 가장 가까운 index를 돌려 준다.\n",
    "\n",
    "df0=close.index.searchsorted(close.index-pd.Timedelta(days=1))\n",
    "df0"
   ]
  },
  {
   "cell_type": "markdown",
   "metadata": {},
   "source": [
    "* index보다 1일이 더 작은 index(일시)는 0번째 삽입이 될수 있는데 1일이 적은 index는 index에 없기 때문에 버린다\n",
    "* df0=df0[df0>0]"
   ]
  },
  {
   "cell_type": "code",
   "execution_count": 1003,
   "metadata": {},
   "outputs": [
    {
     "data": {
      "text/plain": [
       "27"
      ]
     },
     "execution_count": 1003,
     "metadata": {},
     "output_type": "execute_result"
    }
   ],
   "source": [
    "# 버려지는 index의 갯수 즉 index가 0 인것\n",
    "len(df0[df0==0])"
   ]
  },
  {
   "cell_type": "code",
   "execution_count": 1004,
   "metadata": {},
   "outputs": [
    {
     "data": {
      "text/plain": [
       "array([    3,     4,     7, ..., 67532, 67533, 67533], dtype=int64)"
      ]
     },
     "execution_count": 1004,
     "metadata": {},
     "output_type": "execute_result"
    }
   ],
   "source": [
    "# index가 0 보다 큰 놈만 남긴다\n",
    "\n",
    "df0=df0[df0>0]\n",
    "df0"
   ]
  },
  {
   "cell_type": "markdown",
   "metadata": {},
   "source": [
    "* 예를 들어 일시가 2010-10-21 10:20:10 이라면 2010-10-20 10:20:10이 삽일 될 수 있는 곳이 2010-10-20 10:22:10 앞이 될 수 있는데 만약 2010-10-20 10:22:10 바로 앞에 2010-10-20 10:19:03이 있다면 바로 이전것을 선택하는 것이 1일간의 가격 변동을 취하는데 더 좋을 수 있어 -1을 해준다"
   ]
  },
  {
   "cell_type": "code",
   "execution_count": 1005,
   "metadata": {},
   "outputs": [
    {
     "data": {
      "text/plain": [
       "array([    2,     3,     6, ..., 67531, 67532, 67532], dtype=int64)"
      ]
     },
     "execution_count": 1005,
     "metadata": {},
     "output_type": "execute_result"
    }
   ],
   "source": [
    "df0-1"
   ]
  },
  {
   "cell_type": "markdown",
   "metadata": {},
   "source": [
    "* 1일전 index 로 뽑인 index들은 시가를 지정하는 index 로 사용된다."
   ]
  },
  {
   "cell_type": "code",
   "execution_count": 1006,
   "metadata": {},
   "outputs": [
    {
     "data": {
      "text/plain": [
       "DatetimeIndex(['2009-09-28 09:55:26', '2009-09-28 10:02:52',\n",
       "               '2009-09-28 10:24:23', '2009-09-28 10:45:25',\n",
       "               '2009-09-28 11:24:29', '2009-09-28 11:51:43',\n",
       "               '2009-09-28 12:33:18', '2009-09-28 13:20:29',\n",
       "               '2009-09-28 14:11:43', '2009-09-28 14:57:19',\n",
       "               ...\n",
       "               '2020-04-16 15:31:14', '2020-04-16 15:31:14',\n",
       "               '2020-04-16 15:41:27', '2020-04-16 15:41:27',\n",
       "               '2020-04-16 15:41:27', '2020-04-16 15:52:23',\n",
       "               '2020-04-16 15:57:41', '2020-04-16 15:57:41',\n",
       "               '2020-04-16 15:59:45', '2020-04-16 15:59:45'],\n",
       "              dtype='datetime64[ns]', name='dates', length=67559, freq=None)"
      ]
     },
     "execution_count": 1006,
     "metadata": {},
     "output_type": "execute_result"
    }
   ],
   "source": [
    "close.index[df0-1]"
   ]
  },
  {
   "cell_type": "markdown",
   "metadata": {},
   "source": [
    "앞부분에 제외된(버려진) index 이 후 부터 데이터를 취한다"
   ]
  },
  {
   "cell_type": "code",
   "execution_count": 1007,
   "metadata": {},
   "outputs": [
    {
     "data": {
      "text/plain": [
       "27"
      ]
     },
     "execution_count": 1007,
     "metadata": {},
     "output_type": "execute_result"
    }
   ],
   "source": [
    "close.shape[0]-df0.shape[0]"
   ]
  },
  {
   "cell_type": "markdown",
   "metadata": {},
   "source": [
    "* 앞에서 제외된 index 이 후 부터 시작되는 index는 종가 index로 사용된다."
   ]
  },
  {
   "cell_type": "code",
   "execution_count": 1008,
   "metadata": {},
   "outputs": [
    {
     "data": {
      "text/plain": [
       "DatetimeIndex(['2009-09-29 09:59:21', '2009-09-29 10:04:46',\n",
       "               '2009-09-29 10:31:39', '2009-09-29 10:52:23',\n",
       "               '2009-09-29 11:34:53', '2009-09-29 12:00:17',\n",
       "               '2009-09-29 12:34:54', '2009-09-29 13:30:07',\n",
       "               '2009-09-29 14:18:35', '2009-09-29 15:09:13',\n",
       "               ...\n",
       "               '2020-04-17 15:32:12', '2020-04-17 15:37:43',\n",
       "               '2020-04-17 15:43:40', '2020-04-17 15:46:18',\n",
       "               '2020-04-17 15:48:35', '2020-04-17 15:53:10',\n",
       "               '2020-04-17 15:58:06', '2020-04-17 15:59:01',\n",
       "               '2020-04-17 15:59:48', '2020-04-17 16:00:00'],\n",
       "              dtype='datetime64[ns]', name='dates', length=67559, freq=None)"
      ]
     },
     "execution_count": 1008,
     "metadata": {},
     "output_type": "execute_result"
    }
   ],
   "source": [
    "close.index[close.shape[0]-df0.shape[0]:]"
   ]
  },
  {
   "cell_type": "markdown",
   "metadata": {},
   "source": [
    "* index(close.index[close.shape[0]-df0.shape[0]:])는 종가를 나타내는 index 로 사용되며\n",
    "* 값(close.index[df0-1])은 시가를 나타내는 index 로 사용됨"
   ]
  },
  {
   "cell_type": "markdown",
   "metadata": {},
   "source": [
    "* 당일로 부터 1일전 가격 index (시가 index)"
   ]
  },
  {
   "cell_type": "markdown",
   "metadata": {},
   "source": [
    "* 당일로 부터 1일전 시가"
   ]
  },
  {
   "cell_type": "code",
   "execution_count": 1009,
   "metadata": {},
   "outputs": [
    {
     "data": {
      "text/plain": [
       "array([    2,     3,     6, ..., 67531, 67532, 67532], dtype=int64)"
      ]
     },
     "execution_count": 1009,
     "metadata": {},
     "output_type": "execute_result"
    }
   ],
   "source": [
    "df0-1"
   ]
  },
  {
   "cell_type": "code",
   "execution_count": 1010,
   "metadata": {},
   "outputs": [
    {
     "data": {
      "text/plain": [
       "dates\n",
       "2009-09-28 09:55:26     51.1400\n",
       "2009-09-28 10:02:52     51.2500\n",
       "2009-09-28 10:24:23     51.2500\n",
       "2009-09-28 10:45:25     51.3200\n",
       "2009-09-28 11:24:29     51.3200\n",
       "                         ...   \n",
       "2020-04-16 15:52:23    102.4700\n",
       "2020-04-16 15:57:41    102.4602\n",
       "2020-04-16 15:57:41    102.4602\n",
       "2020-04-16 15:59:45    102.3500\n",
       "2020-04-16 15:59:45    102.3500\n",
       "Name: price, Length: 67559, dtype: float64"
      ]
     },
     "execution_count": 1010,
     "metadata": {},
     "output_type": "execute_result"
    }
   ],
   "source": [
    "close.loc[close.index[df0-1]]"
   ]
  },
  {
   "cell_type": "markdown",
   "metadata": {},
   "source": [
    "* 당일 종가"
   ]
  },
  {
   "cell_type": "code",
   "execution_count": 1011,
   "metadata": {},
   "outputs": [
    {
     "data": {
      "text/plain": [
       "dates\n",
       "2009-09-29 09:59:21     51.9300\n",
       "2009-09-29 10:04:46     51.6082\n",
       "2009-09-29 10:31:39     51.6900\n",
       "2009-09-29 10:52:23     51.6000\n",
       "2009-09-29 11:34:53     51.5600\n",
       "                         ...   \n",
       "2020-04-17 15:53:10    106.1542\n",
       "2020-04-17 15:58:06    105.9600\n",
       "2020-04-17 15:59:01    105.9700\n",
       "2020-04-17 15:59:48    106.0600\n",
       "2020-04-17 16:00:00    106.0300\n",
       "Name: price, Length: 67559, dtype: float64"
      ]
     },
     "execution_count": 1011,
     "metadata": {},
     "output_type": "execute_result"
    }
   ],
   "source": [
    "close.loc[close.index[close.shape[0]-df0.shape[0]:]]"
   ]
  },
  {
   "cell_type": "code",
   "execution_count": 1012,
   "metadata": {},
   "outputs": [
    {
     "data": {
      "text/plain": [
       "dates\n",
       "2009-09-29 09:59:21   2009-09-28 09:55:26\n",
       "2009-09-29 10:04:46   2009-09-28 10:02:52\n",
       "2009-09-29 10:31:39   2009-09-28 10:24:23\n",
       "2009-09-29 10:52:23   2009-09-28 10:45:25\n",
       "2009-09-29 11:34:53   2009-09-28 11:24:29\n",
       "                              ...        \n",
       "2020-04-17 15:53:10   2020-04-16 15:52:23\n",
       "2020-04-17 15:58:06   2020-04-16 15:57:41\n",
       "2020-04-17 15:59:01   2020-04-16 15:57:41\n",
       "2020-04-17 15:59:48   2020-04-16 15:59:45\n",
       "2020-04-17 16:00:00   2020-04-16 15:59:45\n",
       "Name: dates, Length: 67559, dtype: datetime64[ns]"
      ]
     },
     "execution_count": 1012,
     "metadata": {},
     "output_type": "execute_result"
    }
   ],
   "source": [
    "df0=(pd.Series(close.index[df0-1],\n",
    "    index=close.index[close.shape[0]-df0.shape[0]:]))\n",
    "df0"
   ]
  },
  {
   "cell_type": "markdown",
   "metadata": {},
   "source": [
    "* 1일전 시가"
   ]
  },
  {
   "cell_type": "code",
   "execution_count": 1013,
   "metadata": {},
   "outputs": [
    {
     "data": {
      "text/plain": [
       "dates\n",
       "2009-09-28 09:55:26     51.1400\n",
       "2009-09-28 10:02:52     51.2500\n",
       "2009-09-28 10:24:23     51.2500\n",
       "2009-09-28 10:45:25     51.3200\n",
       "2009-09-28 11:24:29     51.3200\n",
       "                         ...   \n",
       "2020-04-16 15:52:23    102.4700\n",
       "2020-04-16 15:57:41    102.4602\n",
       "2020-04-16 15:57:41    102.4602\n",
       "2020-04-16 15:59:45    102.3500\n",
       "2020-04-16 15:59:45    102.3500\n",
       "Name: price, Length: 67559, dtype: float64"
      ]
     },
     "execution_count": 1013,
     "metadata": {},
     "output_type": "execute_result"
    }
   ],
   "source": [
    "close.loc[df0.values]"
   ]
  },
  {
   "cell_type": "markdown",
   "metadata": {},
   "source": [
    "* 당일종가"
   ]
  },
  {
   "cell_type": "code",
   "execution_count": 1014,
   "metadata": {},
   "outputs": [
    {
     "data": {
      "text/plain": [
       "dates\n",
       "2009-09-29 09:59:21     51.9300\n",
       "2009-09-29 10:04:46     51.6082\n",
       "2009-09-29 10:31:39     51.6900\n",
       "2009-09-29 10:52:23     51.6000\n",
       "2009-09-29 11:34:53     51.5600\n",
       "                         ...   \n",
       "2020-04-17 15:53:10    106.1542\n",
       "2020-04-17 15:58:06    105.9600\n",
       "2020-04-17 15:59:01    105.9700\n",
       "2020-04-17 15:59:48    106.0600\n",
       "2020-04-17 16:00:00    106.0300\n",
       "Name: price, Length: 67559, dtype: float64"
      ]
     },
     "execution_count": 1014,
     "metadata": {},
     "output_type": "execute_result"
    }
   ],
   "source": [
    "close.loc[df0.index]"
   ]
  },
  {
   "cell_type": "markdown",
   "metadata": {},
   "source": [
    "* 일일수익율 = $\\frac{\\text{당일 종가}}{\\text{1일전 시가}} - 1$\n",
    "* 로그일일수익률 = $\\log \\frac{\\text{당일 종가}}{\\text{1일전 시가}}$"
   ]
  },
  {
   "cell_type": "code",
   "execution_count": 1015,
   "metadata": {},
   "outputs": [
    {
     "data": {
      "text/plain": [
       "dates\n",
       "2009-09-29 09:59:21    0.015448\n",
       "2009-09-29 10:04:46    0.006989\n",
       "2009-09-29 10:31:39    0.008585\n",
       "2009-09-29 10:52:23    0.005456\n",
       "2009-09-29 11:34:53    0.004677\n",
       "                         ...   \n",
       "2020-04-17 15:53:10    0.035954\n",
       "2020-04-17 15:58:06    0.034158\n",
       "2020-04-17 15:59:01    0.034255\n",
       "2020-04-17 15:59:48    0.036248\n",
       "2020-04-17 16:00:00    0.035955\n",
       "Name: price, Length: 67559, dtype: float64"
      ]
     },
     "execution_count": 1015,
     "metadata": {},
     "output_type": "execute_result"
    }
   ],
   "source": [
    "df0 = close.loc[df0.index]/close.loc[df0.values].values-1 # daily rets\n",
    "#df0 = np.log(close.loc[df0.index]/close.loc[df0.values].values)\n",
    "df0"
   ]
  },
  {
   "cell_type": "markdown",
   "metadata": {},
   "source": [
    "*  daily volatility = daily return의 지수가중평균의 표준편차"
   ]
  },
  {
   "cell_type": "code",
   "execution_count": 1016,
   "metadata": {},
   "outputs": [
    {
     "data": {
      "text/plain": [
       "dates\n",
       "2009-09-29 10:04:46    0.005981\n",
       "2009-09-29 10:31:39    0.004469\n",
       "2009-09-29 10:52:23    0.004376\n",
       "2009-09-29 11:34:53    0.004261\n",
       "2009-09-29 12:00:17    0.004977\n",
       "                         ...   \n",
       "2020-04-17 15:53:10    0.021691\n",
       "2020-04-17 15:58:06    0.021639\n",
       "2020-04-17 15:59:01    0.021583\n",
       "2020-04-17 15:59:48    0.021557\n",
       "2020-04-17 16:00:00    0.021518\n",
       "Name: dailyVol, Length: 67558, dtype: float64"
      ]
     },
     "execution_count": 1016,
     "metadata": {},
     "output_type": "execute_result"
    }
   ],
   "source": [
    "df0=df0.ewm(span=100).std().rename('dailyVol').dropna()\n",
    "df0"
   ]
  },
  {
   "cell_type": "code",
   "execution_count": 1017,
   "metadata": {},
   "outputs": [
    {
     "data": {
      "text/plain": [
       "0.14125174583587805"
      ]
     },
     "execution_count": 1017,
     "metadata": {},
     "output_type": "execute_result"
    }
   ],
   "source": [
    "df0.mean()"
   ]
  },
  {
   "cell_type": "code",
   "execution_count": 1018,
   "metadata": {},
   "outputs": [
    {
     "data": {
      "text/html": [
       "<div>\n",
       "<style scoped>\n",
       "    .dataframe tbody tr th:only-of-type {\n",
       "        vertical-align: middle;\n",
       "    }\n",
       "\n",
       "    .dataframe tbody tr th {\n",
       "        vertical-align: top;\n",
       "    }\n",
       "\n",
       "    .dataframe thead th {\n",
       "        text-align: right;\n",
       "    }\n",
       "</style>\n",
       "<table border=\"1\" class=\"dataframe\">\n",
       "  <thead>\n",
       "    <tr style=\"text-align: right;\">\n",
       "      <th></th>\n",
       "      <th>dailyVol</th>\n",
       "    </tr>\n",
       "    <tr>\n",
       "      <th>dates</th>\n",
       "      <th></th>\n",
       "    </tr>\n",
       "  </thead>\n",
       "  <tbody>\n",
       "    <tr>\n",
       "      <th>2009-09-29 10:04:46</th>\n",
       "      <td>0.005981</td>\n",
       "    </tr>\n",
       "    <tr>\n",
       "      <th>2009-09-29 10:31:39</th>\n",
       "      <td>0.004469</td>\n",
       "    </tr>\n",
       "    <tr>\n",
       "      <th>2009-09-29 10:52:23</th>\n",
       "      <td>0.004376</td>\n",
       "    </tr>\n",
       "    <tr>\n",
       "      <th>2009-09-29 11:34:53</th>\n",
       "      <td>0.004261</td>\n",
       "    </tr>\n",
       "    <tr>\n",
       "      <th>2009-09-29 12:00:17</th>\n",
       "      <td>0.004977</td>\n",
       "    </tr>\n",
       "    <tr>\n",
       "      <th>...</th>\n",
       "      <td>...</td>\n",
       "    </tr>\n",
       "    <tr>\n",
       "      <th>2020-04-17 15:53:10</th>\n",
       "      <td>0.021691</td>\n",
       "    </tr>\n",
       "    <tr>\n",
       "      <th>2020-04-17 15:58:06</th>\n",
       "      <td>0.021639</td>\n",
       "    </tr>\n",
       "    <tr>\n",
       "      <th>2020-04-17 15:59:01</th>\n",
       "      <td>0.021583</td>\n",
       "    </tr>\n",
       "    <tr>\n",
       "      <th>2020-04-17 15:59:48</th>\n",
       "      <td>0.021557</td>\n",
       "    </tr>\n",
       "    <tr>\n",
       "      <th>2020-04-17 16:00:00</th>\n",
       "      <td>0.021518</td>\n",
       "    </tr>\n",
       "  </tbody>\n",
       "</table>\n",
       "<p>67558 rows × 1 columns</p>\n",
       "</div>"
      ],
      "text/plain": [
       "                     dailyVol\n",
       "dates                        \n",
       "2009-09-29 10:04:46  0.005981\n",
       "2009-09-29 10:31:39  0.004469\n",
       "2009-09-29 10:52:23  0.004376\n",
       "2009-09-29 11:34:53  0.004261\n",
       "2009-09-29 12:00:17  0.004977\n",
       "...                       ...\n",
       "2020-04-17 15:53:10  0.021691\n",
       "2020-04-17 15:58:06  0.021639\n",
       "2020-04-17 15:59:01  0.021583\n",
       "2020-04-17 15:59:48  0.021557\n",
       "2020-04-17 16:00:00  0.021518\n",
       "\n",
       "[67558 rows x 1 columns]"
      ]
     },
     "execution_count": 1018,
     "metadata": {},
     "output_type": "execute_result"
    }
   ],
   "source": [
    "df0.to_frame()"
   ]
  },
  {
   "cell_type": "markdown",
   "metadata": {},
   "source": [
    "### ============================= getDailyVol Test End ============================"
   ]
  },
  {
   "cell_type": "markdown",
   "metadata": {},
   "source": [
    "* daily volatility(dailyVol) : daily return의 ewma의 표준편차 "
   ]
  },
  {
   "cell_type": "code",
   "execution_count": 1019,
   "metadata": {
    "ExecuteTime": {
     "end_time": "2019-03-01T17:54:20.241528Z",
     "start_time": "2019-03-01T17:54:19.837138Z"
    }
   },
   "outputs": [
    {
     "data": {
      "text/plain": [
       "dates\n",
       "2009-09-29 10:04:46    0.005981\n",
       "2009-09-29 10:31:39    0.004469\n",
       "2009-09-29 10:52:23    0.004376\n",
       "2009-09-29 11:34:53    0.004261\n",
       "2009-09-29 12:00:17    0.004977\n",
       "                         ...   \n",
       "2020-04-17 15:53:10    0.021691\n",
       "2020-04-17 15:58:06    0.021639\n",
       "2020-04-17 15:59:01    0.021583\n",
       "2020-04-17 15:59:48    0.021557\n",
       "2020-04-17 16:00:00    0.021518\n",
       "Name: dailyVol, Length: 67558, dtype: float64"
      ]
     },
     "execution_count": 1019,
     "metadata": {},
     "output_type": "execute_result"
    }
   ],
   "source": [
    "close = dbars.price.copy()\n",
    "close = close.groupby(close.index).sum().reset_index()\n",
    "close = close.set_index('dates').price\n",
    "dailyVol = getDailyVol(close)\n",
    "dailyVol"
   ]
  },
  {
   "cell_type": "code",
   "execution_count": 1020,
   "metadata": {},
   "outputs": [
    {
     "data": {
      "text/plain": [
       "0.14125174583587805"
      ]
     },
     "execution_count": 1020,
     "metadata": {},
     "output_type": "execute_result"
    }
   ],
   "source": [
    "dailyVol.mean()"
   ]
  },
  {
   "cell_type": "code",
   "execution_count": 1021,
   "metadata": {},
   "outputs": [
    {
     "name": "stdout",
     "output_type": "stream",
     "text": [
      "-------------------------------------------------------------------------------\n",
      "dataframe information\n",
      "-------------------------------------------------------------------------------\n",
      "                     dailyVol\n",
      "dates                        \n",
      "2020-04-17 15:53:10  0.021691\n",
      "2020-04-17 15:58:06  0.021639\n",
      "2020-04-17 15:59:01  0.021583\n",
      "2020-04-17 15:59:48  0.021557\n",
      "2020-04-17 16:00:00  0.021518\n",
      "--------------------------------------------------\n",
      "<class 'pandas.core.frame.DataFrame'>\n",
      "DatetimeIndex: 67558 entries, 2009-09-29 10:04:46 to 2020-04-17 16:00:00\n",
      "Data columns (total 1 columns):\n",
      " #   Column    Non-Null Count  Dtype  \n",
      "---  ------    --------------  -----  \n",
      " 0   dailyVol  67558 non-null  float64\n",
      "dtypes: float64(1)\n",
      "memory usage: 1.0 MB\n",
      "None\n",
      "-------------------------------------------------------------------------------\n",
      "\n"
     ]
    }
   ],
   "source": [
    "cprint(dailyVol.to_frame())"
   ]
  },
  {
   "cell_type": "code",
   "execution_count": 1022,
   "metadata": {
    "ExecuteTime": {
     "end_time": "2019-03-01T17:54:20.789871Z",
     "start_time": "2019-03-01T17:54:20.243279Z"
    }
   },
   "outputs": [
    {
     "data": {
      "text/plain": [
       "<matplotlib.legend.Legend at 0x28ff518b710>"
      ]
     },
     "execution_count": 1022,
     "metadata": {},
     "output_type": "execute_result"
    },
    {
     "data": {
      "image/png": "[encoded data removed]",
      "text/plain": [
       "<Figure size 748.8x514.8 with 1 Axes>"
      ]
     },
     "metadata": {
      "needs_background": "light"
     },
     "output_type": "display_data"
    }
   ],
   "source": [
    "f,ax=plt.subplots()\n",
    "dailyVol.plot(ax=ax)\n",
    "ax.axhline(dailyVol.mean(),ls='--',color='r', label='평균 변동폭')\n",
    "ax.set_title('Daily return volatility(일일 수익률 변동폭)')\n",
    "ax.legend()"
   ]
  },
  {
   "cell_type": "markdown",
   "metadata": {},
   "source": [
    "### ============================= getTEvents Test Start ============================\n",
    "### Symmetric CUSUM Filter\n",
    "#### CUSUM : 데이터의 작은 변화를 감지하는데 주로 사용\n",
    "* 목표값이 설정되어 있고 목표값에서 프로세스의 평균이 얼마나 벗어 났는지 모니터링 함\n",
    "* dailyVol : daily return (일간수익률)의 지수가중평균(ewma)의 표준편차\n",
    "* h = dailyVol.mean() : daily volatility의 평균"
   ]
  },
  {
   "cell_type": "code",
   "execution_count": 1023,
   "metadata": {},
   "outputs": [
    {
     "data": {
      "text/plain": [
       "0.14125174583587805"
      ]
     },
     "execution_count": 1023,
     "metadata": {},
     "output_type": "execute_result"
    }
   ],
   "source": [
    "h = dailyVol.mean()\n",
    "h"
   ]
  },
  {
   "cell_type": "markdown",
   "metadata": {},
   "source": [
    "### CUSUM 관리도\n",
    "* CUSUM : cumulative sum\n",
    "* $C_i = \\sum^i_{j=1}(\\bar{x}_j - \\mu_0)$, 모든 과거 데이터가 동일하게 중요하다. 즉 가중치가 동일함 (EWMA에서 가중치가 다른것과 대비됨)\n",
    "* 과거의 관측값 $\\bar{x}_j$와 목표값의 차이가 누적되어 관리 경계 상,하안 값이 넘는 경우 관리 대상이 된다. \n",
    "* close : {$p_i$}\n",
    "* $\\mu_0$ :  목표값으로 통상 평균값이다. 이 예에서는 log return이 정규분포를 따르고 평균값은 0 즉 $\\mu_0=0$으로 본다.\n",
    "* $\\text{diff}=\\log \\frac{p_i}{p_{i-1}}=\\log p_i - \\log p_{i-1}$\n",
    "* diff.loc[i]=$\\bar{x}_j$\n",
    "* sPos+diff.loc[i]=\n",
    "* sPos : $C^+_i = \\text{max}(C^+_{i-1} + x_i,0)$\n",
    "* sNeg : $C^-_i = \\text{min}(C^-_{i-1} + x_i,0)$\n",
    "* return보다 log return이 정규분포를 더 잘 따르기 때문에 log return을 사용한다.\n",
    "* CUSUM 관리도는 데이터가 정규분포를 따른다고 가정하고 정의한 분산(관리경계 범위)내에 있으면 일반적인 데이터로 보고 관리경계 영역 밖에 있으면 이상 데이터로 간주하여 관리 대상이 된다."
   ]
  },
  {
   "cell_type": "markdown",
   "metadata": {},
   "source": [
    "#### diff : 틱간 로그 수익률"
   ]
  },
  {
   "cell_type": "code",
   "execution_count": 1024,
   "metadata": {},
   "outputs": [
    {
     "name": "stdout",
     "output_type": "stream",
     "text": [
      "67585\n"
     ]
    },
    {
     "data": {
      "text/plain": [
       "dates\n",
       "2009-09-28 09:53:49    0.001370\n",
       "2009-09-28 09:55:26    0.000000\n",
       "2009-09-28 10:02:52    0.002149\n",
       "2009-09-28 10:10:21    0.000780\n",
       "2009-09-28 10:19:36   -0.001171\n",
       "                         ...   \n",
       "2020-04-17 15:53:10    0.002577\n",
       "2020-04-17 15:58:06   -0.001831\n",
       "2020-04-17 15:59:01    0.000094\n",
       "2020-04-17 15:59:48    0.000849\n",
       "2020-04-17 16:00:00   -0.000283\n",
       "Name: price, Length: 67585, dtype: float64"
      ]
     },
     "execution_count": 1024,
     "metadata": {},
     "output_type": "execute_result"
    }
   ],
   "source": [
    "diff = np.log(close).diff().dropna()\n",
    "print(len(diff))\n",
    "diff"
   ]
  },
  {
   "cell_type": "code",
   "execution_count": 1025,
   "metadata": {},
   "outputs": [
    {
     "name": "stderr",
     "output_type": "stream",
     "text": [
      "100%|█████████████████████████████████████████████████████████████████████████| 67585/67585 [00:03<00:00, 17283.21it/s]\n"
     ]
    }
   ],
   "source": [
    "tEvents, sPos, sNeg = [], 0, 0\n",
    "cp,cn = [],[]\n",
    "cp_ano,cn_ano = [],[]\n",
    "cp_ano_idxs,cn_ano_idxs = [],[]\n",
    "for i in tqdm(diff.index):\n",
    "  pos, neg = float(sPos+diff.loc[i]),float(sNeg+diff.loc[i])\n",
    "  sPos,sNeg=max(0.,pos), min(0.,neg)\n",
    "  cp.append(sPos)\n",
    "  cn.append(sNeg)\n",
    "  if sNeg <-h:\n",
    "    cn_ano.append(sNeg)\n",
    "    cn_ano_idxs.append(i)\n",
    "    sNeg=0;tEvents.append(i)\n",
    "  elif sPos > h:\n",
    "    cp_ano.append(sPos)\n",
    "    cp_ano_idxs.append(i)    \n",
    "    sPos=0;tEvents.append(i)"
   ]
  },
  {
   "cell_type": "code",
   "execution_count": 1026,
   "metadata": {},
   "outputs": [],
   "source": [
    "cp = pd.Series(cp, index=diff.index)\n",
    "cn = pd.Series(cn, index=diff.index)\n",
    "cp_ano = pd.Series(cp_ano, index=cp_ano_idxs)\n",
    "cn_ano = pd.Series(cn_ano, index=cn_ano_idxs)"
   ]
  },
  {
   "cell_type": "code",
   "execution_count": 1027,
   "metadata": {},
   "outputs": [
    {
     "data": {
      "text/plain": [
       "1812"
      ]
     },
     "execution_count": 1027,
     "metadata": {},
     "output_type": "execute_result"
    }
   ],
   "source": [
    "len(tEvents)"
   ]
  },
  {
   "cell_type": "code",
   "execution_count": 1028,
   "metadata": {},
   "outputs": [
    {
     "data": {
      "text/plain": [
       "[Timestamp('2009-11-03 11:20:58'),\n",
       " Timestamp('2009-11-03 11:20:59'),\n",
       " Timestamp('2009-12-03 13:12:16')]"
      ]
     },
     "execution_count": 1028,
     "metadata": {},
     "output_type": "execute_result"
    }
   ],
   "source": [
    "tEvents[0:3]"
   ]
  },
  {
   "cell_type": "code",
   "execution_count": 1029,
   "metadata": {},
   "outputs": [
    {
     "data": {
      "text/plain": [
       "DatetimeIndex(['2009-11-03 11:20:58', '2009-11-03 11:20:59',\n",
       "               '2009-12-03 13:12:16', '2009-12-03 13:13:31',\n",
       "               '2009-12-03 15:51:45', '2009-12-03 15:51:48',\n",
       "               '2010-04-12 09:48:25', '2010-04-22 11:53:43',\n",
       "               '2010-04-22 12:23:34', '2010-05-03 14:16:31',\n",
       "               ...\n",
       "               '2020-03-30 14:58:58', '2020-03-30 15:03:41',\n",
       "               '2020-04-03 13:39:43', '2020-04-03 13:40:05',\n",
       "               '2020-04-03 15:18:54', '2020-04-03 15:18:57',\n",
       "               '2020-04-07 15:50:00', '2020-04-07 15:50:04',\n",
       "               '2020-04-07 15:59:00', '2020-04-07 15:59:15'],\n",
       "              dtype='datetime64[ns]', length=1812, freq=None)"
      ]
     },
     "execution_count": 1029,
     "metadata": {},
     "output_type": "execute_result"
    }
   ],
   "source": [
    "tEvents = pd.DatetimeIndex(tEvents)\n",
    "tEvents"
   ]
  },
  {
   "cell_type": "code",
   "execution_count": 1030,
   "metadata": {},
   "outputs": [],
   "source": [
    "import datetime"
   ]
  },
  {
   "cell_type": "code",
   "execution_count": 1031,
   "metadata": {},
   "outputs": [
    {
     "data": {
      "text/plain": [
       "0.14125174583587805"
      ]
     },
     "execution_count": 1031,
     "metadata": {},
     "output_type": "execute_result"
    }
   ],
   "source": [
    "h"
   ]
  },
  {
   "cell_type": "code",
   "execution_count": 1032,
   "metadata": {},
   "outputs": [
    {
     "data": {
      "text/plain": [
       "1812"
      ]
     },
     "execution_count": 1032,
     "metadata": {},
     "output_type": "execute_result"
    }
   ],
   "source": [
    "len(tEvents)"
   ]
  },
  {
   "cell_type": "code",
   "execution_count": 1033,
   "metadata": {},
   "outputs": [
    {
     "data": {
      "text/plain": [
       "(911, 901, 1812)"
      ]
     },
     "execution_count": 1033,
     "metadata": {},
     "output_type": "execute_result"
    }
   ],
   "source": [
    "cp_ano.shape[0],cn_ano.shape[0],cp_ano.shape[0]+cn_ano.shape[0]"
   ]
  },
  {
   "cell_type": "code",
   "execution_count": 1034,
   "metadata": {},
   "outputs": [
    {
     "data": {
      "text/plain": [
       "<matplotlib.legend.Legend at 0x28fe8444ba8>"
      ]
     },
     "execution_count": 1034,
     "metadata": {},
     "output_type": "execute_result"
    },
    {
     "data": {
      "image/png": "[encoded data removed]",
      "text/plain": [
       "<Figure size 748.8x514.8 with 1 Axes>"
      ]
     },
     "metadata": {
      "needs_background": "light"
     },
     "output_type": "display_data"
    }
   ],
   "source": [
    "f,ax=plt.subplots()\n",
    "cp.plot(ax=ax, label='CP')\n",
    "cn.plot(ax=ax, label='CL')\n",
    "ax.axhline(h,ls='--',color='r',label='h:Upper/Lower limit')\n",
    "ax.axhline(-h,ls='--',color='r')\n",
    "ax.set_title('Log return(로그수익률) CUSUM Chart')\n",
    "ax.legend()"
   ]
  },
  {
   "cell_type": "code",
   "execution_count": 1035,
   "metadata": {},
   "outputs": [
    {
     "data": {
      "text/plain": [
       "<matplotlib.legend.Legend at 0x28ff8014048>"
      ]
     },
     "execution_count": 1035,
     "metadata": {},
     "output_type": "execute_result"
    },
    {
     "data": {
      "image/png": "[encoded data removed]",
      "text/plain": [
       "<Figure size 748.8x514.8 with 1 Axes>"
      ]
     },
     "metadata": {
      "needs_background": "light"
     },
     "output_type": "display_data"
    }
   ],
   "source": [
    "f,ax=plt.subplots()\n",
    "cp2 = cp[datetime.datetime(2011,4,1):datetime.datetime(2016,10,1)]\n",
    "cn2 = cn[datetime.datetime(2011,4,1):datetime.datetime(2016,10,1)]\n",
    "cp_ano2 = cp_ano[datetime.datetime(2011,4,1):datetime.datetime(2016,10,1)]\n",
    "cn_ano2 = cn_ano[datetime.datetime(2011,4,1):datetime.datetime(2016,10,1)]\n",
    "\n",
    "cp2.plot(ax=ax, label='CP:$C^+$')\n",
    "cn2.plot(ax=ax, label='CL:$C_-$')\n",
    "ax.axhline(h,ls='--',color='r', label='h:Upper/Lower limit')\n",
    "ax.axhline(-h,ls='--',color='r')\n",
    "\n",
    "cp_ano2.plot( ax=ax, marker='o', ls='', markersize=5, color='black', label='Upper sampled index')\n",
    "cn_ano2.plot( ax=ax, marker='o', ls='', markersize=5, color='black', label='Lower sampled index')\n",
    "\n",
    "ax.set_title('Log return(로그수익률) CUSUM Chart')\n",
    "ax.legend()"
   ]
  },
  {
   "cell_type": "code",
   "execution_count": 1036,
   "metadata": {},
   "outputs": [
    {
     "data": {
      "text/plain": [
       "<matplotlib.legend.Legend at 0x28ff82b59e8>"
      ]
     },
     "execution_count": 1036,
     "metadata": {},
     "output_type": "execute_result"
    },
    {
     "data": {
      "image/png": "[encoded data removed]",
      "text/plain": [
       "<Figure size 748.8x514.8 with 1 Axes>"
      ]
     },
     "metadata": {
      "needs_background": "light"
     },
     "output_type": "display_data"
    }
   ],
   "source": [
    "f,ax=plt.subplots()\n",
    "diff.plot(ax=ax, label='daily log return')\n",
    "ax.axhline(h,ls='--',color='r', label='h')\n",
    "ax.axhline(-h,ls='--',color='r')\n",
    "ax.set_title('Log returns(로그 수익률)')\n",
    "ax.legend()"
   ]
  },
  {
   "cell_type": "code",
   "execution_count": 1037,
   "metadata": {},
   "outputs": [
    {
     "data": {
      "text/plain": [
       "<matplotlib.legend.Legend at 0x28ff9a83278>"
      ]
     },
     "execution_count": 1037,
     "metadata": {},
     "output_type": "execute_result"
    },
    {
     "data": {
      "image/png": "[encoded data removed]",
      "text/plain": [
       "<Figure size 748.8x514.8 with 1 Axes>"
      ]
     },
     "metadata": {
      "needs_background": "light"
     },
     "output_type": "display_data"
    }
   ],
   "source": [
    "f,ax=plt.subplots()\n",
    "diff2 = diff[datetime.datetime(2011,4,1):datetime.datetime(2016,10,1)]\n",
    "diff3 = diff[tEvents_idxs][datetime.datetime(2011,4,1):datetime.datetime(2016,10,1)]\n",
    "\n",
    "diff2.plot(ax=ax, label='Log return')\n",
    "ax.axhline(h,ls='--',color='r', label='h')\n",
    "ax.axhline(-h,ls='--',color='r')\n",
    "diff3.plot( ax=ax, marker='o', ls='', markersize=5, label='sampled point')\n",
    "ax.set_title('Log returns(로그 수익률)')\n",
    "ax.legend()"
   ]
  },
  {
   "cell_type": "markdown",
   "metadata": {},
   "source": [
    "### ============================= getTEvents Test End ============================"
   ]
  },
  {
   "cell_type": "code",
   "execution_count": 1038,
   "metadata": {
    "ExecuteTime": {
     "end_time": "2019-03-01T17:54:23.002687Z",
     "start_time": "2019-03-01T17:54:20.791410Z"
    }
   },
   "outputs": [
    {
     "name": "stderr",
     "output_type": "stream",
     "text": [
      "100%|█████████████████████████████████████████████████████████████████████████| 67585/67585 [00:03<00:00, 18813.75it/s]\n"
     ]
    },
    {
     "data": {
      "text/plain": [
       "DatetimeIndex(['2009-11-03 11:20:58', '2009-11-03 11:20:59',\n",
       "               '2009-12-03 13:12:16', '2009-12-03 13:13:31',\n",
       "               '2009-12-03 15:51:45', '2009-12-03 15:51:48',\n",
       "               '2010-04-12 09:48:25', '2010-04-22 11:53:43',\n",
       "               '2010-04-22 12:23:34', '2010-05-03 14:16:31',\n",
       "               ...\n",
       "               '2020-03-30 14:58:58', '2020-03-30 15:03:41',\n",
       "               '2020-04-03 13:39:43', '2020-04-03 13:40:05',\n",
       "               '2020-04-03 15:18:54', '2020-04-03 15:18:57',\n",
       "               '2020-04-07 15:50:00', '2020-04-07 15:50:04',\n",
       "               '2020-04-07 15:59:00', '2020-04-07 15:59:15'],\n",
       "              dtype='datetime64[ns]', length=1812, freq=None)"
      ]
     },
     "execution_count": 1038,
     "metadata": {},
     "output_type": "execute_result"
    }
   ],
   "source": [
    "tEvents = getTEvents(close,h=dailyVol.mean())\n",
    "tEvents"
   ]
  },
  {
   "cell_type": "code",
   "execution_count": 1039,
   "metadata": {},
   "outputs": [
    {
     "data": {
      "text/plain": [
       "1812"
      ]
     },
     "execution_count": 1039,
     "metadata": {},
     "output_type": "execute_result"
    }
   ],
   "source": [
    "len(tEvents)"
   ]
  },
  {
   "cell_type": "markdown",
   "metadata": {},
   "source": [
    "### (b) Add vertical barrier"
   ]
  },
  {
   "cell_type": "markdown",
   "metadata": {},
   "source": [
    "### ============================= addVerticalBarrier Test Start ============================"
   ]
  },
  {
   "cell_type": "markdown",
   "metadata": {},
   "source": [
    "* tEvents의 일시보다 1일 뒤에 있는 가장 가까운 일시 index 목록을 구한다"
   ]
  },
  {
   "cell_type": "code",
   "execution_count": 1040,
   "metadata": {},
   "outputs": [
    {
     "data": {
      "text/plain": [
       "array([  437,   437,   666, ..., 67205, 67213, 67216], dtype=int64)"
      ]
     },
     "execution_count": 1040,
     "metadata": {},
     "output_type": "execute_result"
    }
   ],
   "source": [
    "numDays = 1\n",
    "t1_idxs=close.index.searchsorted(tEvents+pd.Timedelta(days=numDays))\n",
    "t1_idxs"
   ]
  },
  {
   "cell_type": "code",
   "execution_count": 1041,
   "metadata": {},
   "outputs": [
    {
     "data": {
      "text/plain": [
       "1812"
      ]
     },
     "execution_count": 1041,
     "metadata": {},
     "output_type": "execute_result"
    }
   ],
   "source": [
    "t1_idxs.shape[0]"
   ]
  },
  {
   "cell_type": "code",
   "execution_count": 1042,
   "metadata": {},
   "outputs": [
    {
     "data": {
      "text/plain": [
       "67586"
      ]
     },
     "execution_count": 1042,
     "metadata": {},
     "output_type": "execute_result"
    }
   ],
   "source": [
    "close.shape[0]"
   ]
  },
  {
   "cell_type": "markdown",
   "metadata": {},
   "source": [
    "* close의 크기보다 큰 index는 버린다. 그런 index에 해당하는 data가 없기 때문임"
   ]
  },
  {
   "cell_type": "code",
   "execution_count": 1043,
   "metadata": {},
   "outputs": [
    {
     "name": "stdout",
     "output_type": "stream",
     "text": [
      "1812\n"
     ]
    },
    {
     "data": {
      "text/plain": [
       "array([  437,   437,   666, ..., 67205, 67213, 67216], dtype=int64)"
      ]
     },
     "execution_count": 1043,
     "metadata": {},
     "output_type": "execute_result"
    }
   ],
   "source": [
    "t1_idxs = t1_idxs[t1_idxs<close.shape[0]]\n",
    "print(len(t1_idxs))\n",
    "t1_idxs"
   ]
  },
  {
   "cell_type": "code",
   "execution_count": 1044,
   "metadata": {},
   "outputs": [
    {
     "data": {
      "text/plain": [
       "2009-11-03 11:20:58   2009-11-04 11:53:41\n",
       "2009-11-03 11:20:59   2009-11-04 11:53:41\n",
       "2009-12-03 13:12:16   2009-12-04 14:23:25\n",
       "2009-12-03 13:13:31   2009-12-04 14:23:25\n",
       "2009-12-03 15:51:45   2009-12-04 15:52:03\n",
       "                              ...        \n",
       "2020-04-03 15:18:57   2020-04-06 09:31:20\n",
       "2020-04-07 15:50:00   2020-04-08 15:50:05\n",
       "2020-04-07 15:50:04   2020-04-08 15:50:05\n",
       "2020-04-07 15:59:00   2020-04-08 15:59:00\n",
       "2020-04-07 15:59:15   2020-04-08 15:59:27\n",
       "Name: dates, Length: 1812, dtype: datetime64[ns]"
      ]
     },
     "execution_count": 1044,
     "metadata": {},
     "output_type": "execute_result"
    }
   ],
   "source": [
    "t1=(pd.Series(close.index[t1_idxs],index=tEvents[:t1_idxs.shape[0]]))\n",
    "t1"
   ]
  },
  {
   "cell_type": "markdown",
   "metadata": {},
   "source": [
    "### ============================= addVerticalBarrier Test End ============================"
   ]
  },
  {
   "cell_type": "markdown",
   "metadata": {},
   "source": [
    "* tEvents 일시 보다 1일 후 일시를 구하여 Series를 구성하고 index는 tEvent index를 사용한다."
   ]
  },
  {
   "cell_type": "code",
   "execution_count": 1045,
   "metadata": {
    "ExecuteTime": {
     "end_time": "2019-03-01T17:54:23.325936Z",
     "start_time": "2019-03-01T17:54:23.005620Z"
    },
    "scrolled": true
   },
   "outputs": [
    {
     "data": {
      "text/plain": [
       "2009-11-03 11:20:58   2009-11-04 11:53:41\n",
       "2009-11-03 11:20:59   2009-11-04 11:53:41\n",
       "2009-12-03 13:12:16   2009-12-04 14:23:25\n",
       "2009-12-03 13:13:31   2009-12-04 14:23:25\n",
       "2009-12-03 15:51:45   2009-12-04 15:52:03\n",
       "                              ...        \n",
       "2020-04-03 15:18:57   2020-04-06 09:31:20\n",
       "2020-04-07 15:50:00   2020-04-08 15:50:05\n",
       "2020-04-07 15:50:04   2020-04-08 15:50:05\n",
       "2020-04-07 15:59:00   2020-04-08 15:59:00\n",
       "2020-04-07 15:59:15   2020-04-08 15:59:27\n",
       "Name: dates, Length: 1812, dtype: datetime64[ns]"
      ]
     },
     "execution_count": 1045,
     "metadata": {},
     "output_type": "execute_result"
    }
   ],
   "source": [
    "t1 = addVerticalBarrier(tEvents, close, numDays=1)\n",
    "t1"
   ]
  },
  {
   "cell_type": "markdown",
   "metadata": {},
   "source": [
    "### (c) Apply triple-barrier method where `ptSl = [1,1]` and `t1` is the series created in `1.b`\n",
    "* 호라이존탈(2개), 버티컬(1개) 총 3개의 배리어 중 최초로 도달한 배리어에 따라 관측값을 달리 레이블\n",
    "* 호리존탈 배리어 : 이익 실현과 손실 제한 한계의해 정의되는데 추정 변동성(실현이든, 비실현이든)에 대한 동적 함수\n",
    "* 버티컬 배리어 : 포지션을 취한 후 지나간 바의 개수에 의해 정의(만기한도)\n",
    "* 상단 배리어가 먼저 도달하면 관측값을 1로 레이블\n",
    "* 하단 배리어가 먼저 도달하면 관측값을 -1로 레이블\n",
    "* 버티컬 배리어가 먼저 도달하면 두 가지 선택이 있다. 수익률의 부호로 하거나 0으로 정한다."
   ]
  },
  {
   "cell_type": "markdown",
   "metadata": {},
   "source": [
    "### ============================= getEvents Test Start ============================"
   ]
  },
  {
   "cell_type": "markdown",
   "metadata": {},
   "source": [
    "* ptsl : 호리존탈 배리어\n",
    "    * ptsl[0] : trgt에 곱해 상단 배리어 너비를 설정하는 인수, 값이 0 이면 상단 배리어가 없다.\n",
    "    * ptsl[0] : trgt에 곱해 하단 배리어 너비를 설정하는 인수, 값이 0 이면 하단 배리어가 없다."
   ]
  },
  {
   "cell_type": "code",
   "execution_count": 1046,
   "metadata": {},
   "outputs": [],
   "source": [
    "# create target series\n",
    "ptsl = [1,1]\n",
    "target=dailyVol\n",
    "# select minRet\n",
    "minRet = 0.01"
   ]
  },
  {
   "cell_type": "code",
   "execution_count": 1047,
   "metadata": {},
   "outputs": [
    {
     "data": {
      "text/plain": [
       "1"
      ]
     },
     "execution_count": 1047,
     "metadata": {},
     "output_type": "execute_result"
    }
   ],
   "source": [
    "# Run in single-threaded mode on Windows\n",
    "import platform\n",
    "if platform.system() == \"Windows\":\n",
    "    cpus = 1\n",
    "else:\n",
    "    cpus = cpu_count() - 1\n",
    "    \n",
    "cpus"
   ]
  },
  {
   "cell_type": "markdown",
   "metadata": {},
   "source": [
    "events = getEvents(close,tEvents,ptsl,target,minRet,cpus,t1=t1)\n",
    "* close : 종가\n",
    "* tEvents : CUSUM관리도에서 이상치 즉 1일간 로그 수익률 변동폭(표준편차)의 EWMA 평균값\n",
    "    * dailyVol(1일간 변동폭) : close의 daily return (일간수익률)의 지수가중평균(ewma)의 표준편차\n",
    "    * daily return : close[i+1]/close[i] - 1\n",
    "    * h = dailyVol.mean() : daily volatility(1일간 변동폭)의 평균\n",
    "    * close의 로그 수익률 log(close[i+1]/close[i])의 CUSUM필터 값이 +h, -h를 벗어나는 데이터 포인트(이상치) index를 샘플링 한것\n",
    "    * 즉 이상치에 해당하는 데이터 index 샘플\n",
    "* ptsl : 호라이존탈 배리어\n",
    "* target : dailyVol (1일간 변동폭)\n",
    "* minRet : 최소 수익률\n",
    "* t1 : 버티컬 배리어"
   ]
  },
  {
   "cell_type": "code",
   "execution_count": 1048,
   "metadata": {},
   "outputs": [
    {
     "data": {
      "text/plain": [
       "dates\n",
       "2009-09-29 10:04:46    0.005981\n",
       "2009-09-29 10:31:39    0.004469\n",
       "2009-09-29 10:52:23    0.004376\n",
       "2009-09-29 11:34:53    0.004261\n",
       "2009-09-29 12:00:17    0.004977\n",
       "                         ...   \n",
       "2020-04-17 15:53:10    0.021691\n",
       "2020-04-17 15:58:06    0.021639\n",
       "2020-04-17 15:59:01    0.021583\n",
       "2020-04-17 15:59:48    0.021557\n",
       "2020-04-17 16:00:00    0.021518\n",
       "Name: dailyVol, Length: 67558, dtype: float64"
      ]
     },
     "execution_count": 1048,
     "metadata": {},
     "output_type": "execute_result"
    }
   ],
   "source": [
    "dailyVol"
   ]
  },
  {
   "cell_type": "markdown",
   "metadata": {},
   "source": [
    "* 1) get target "
   ]
  },
  {
   "cell_type": "code",
   "execution_count": 1049,
   "metadata": {},
   "outputs": [
    {
     "data": {
      "text/plain": [
       "2009-11-03 11:20:58    0.138779\n",
       "2009-11-03 11:20:59    0.137438\n",
       "2009-12-03 13:12:16    0.141056\n",
       "2009-12-03 13:13:31    0.139685\n",
       "2009-12-03 15:51:45    0.189304\n",
       "                         ...   \n",
       "2020-04-03 15:18:57    1.391250\n",
       "2020-04-07 15:50:00    0.414122\n",
       "2020-04-07 15:50:04    0.410119\n",
       "2020-04-07 15:59:00    0.404723\n",
       "2020-04-07 15:59:15    0.400894\n",
       "Name: dailyVol, Length: 1812, dtype: float64"
      ]
     },
     "execution_count": 1049,
     "metadata": {},
     "output_type": "execute_result"
    }
   ],
   "source": [
    "trgt = target.loc[tEvents]\n",
    "trgt"
   ]
  },
  {
   "cell_type": "markdown",
   "metadata": {},
   "source": [
    "* 2) 1일간 수익률의 변동폭이 최소수익률(minRet) 보다 큰 데이터만 고른다"
   ]
  },
  {
   "cell_type": "code",
   "execution_count": 1050,
   "metadata": {},
   "outputs": [
    {
     "data": {
      "text/plain": [
       "2009-11-03 11:20:58    0.138779\n",
       "2009-11-03 11:20:59    0.137438\n",
       "2009-12-03 13:12:16    0.141056\n",
       "2009-12-03 13:13:31    0.139685\n",
       "2009-12-03 15:51:45    0.189304\n",
       "                         ...   \n",
       "2020-04-03 15:18:57    1.391250\n",
       "2020-04-07 15:50:00    0.414122\n",
       "2020-04-07 15:50:04    0.410119\n",
       "2020-04-07 15:59:00    0.404723\n",
       "2020-04-07 15:59:15    0.400894\n",
       "Name: dailyVol, Length: 1811, dtype: float64"
      ]
     },
     "execution_count": 1050,
     "metadata": {},
     "output_type": "execute_result"
    }
   ],
   "source": [
    "trgt = trgt[trgt>minRet]\n",
    "trgt"
   ]
  },
  {
   "cell_type": "markdown",
   "metadata": {},
   "source": [
    "* 3) get t1 (최대 보유 기간)\n",
    "* t1 : tEvents의 일시보다 1일 뒤에 있는 가장 가까운 일시 index 목록"
   ]
  },
  {
   "cell_type": "markdown",
   "metadata": {},
   "source": [
    "* events = getEvents(close,tEvents,ptsl,target,minRet,cpus,t1=t1)\n",
    "    * getEvents(close, tEvents, ptSl, trgt, minRet, numThreads, t1=False, side=None)"
   ]
  },
  {
   "cell_type": "code",
   "execution_count": 1051,
   "metadata": {},
   "outputs": [
    {
     "data": {
      "text/plain": [
       "2009-11-03 11:20:58   2009-11-04 11:53:41\n",
       "2009-11-03 11:20:59   2009-11-04 11:53:41\n",
       "2009-12-03 13:12:16   2009-12-04 14:23:25\n",
       "2009-12-03 13:13:31   2009-12-04 14:23:25\n",
       "2009-12-03 15:51:45   2009-12-04 15:52:03\n",
       "                              ...        \n",
       "2020-04-03 15:18:57   2020-04-06 09:31:20\n",
       "2020-04-07 15:50:00   2020-04-08 15:50:05\n",
       "2020-04-07 15:50:04   2020-04-08 15:50:05\n",
       "2020-04-07 15:59:00   2020-04-08 15:59:00\n",
       "2020-04-07 15:59:15   2020-04-08 15:59:27\n",
       "Name: dates, Length: 1812, dtype: datetime64[ns]"
      ]
     },
     "execution_count": 1051,
     "metadata": {},
     "output_type": "execute_result"
    }
   ],
   "source": [
    "t1"
   ]
  },
  {
   "cell_type": "code",
   "execution_count": 1052,
   "metadata": {},
   "outputs": [
    {
     "data": {
      "text/plain": [
       "2009-11-03 11:20:58   2009-11-04 11:53:41\n",
       "2009-11-03 11:20:59   2009-11-04 11:53:41\n",
       "2009-12-03 13:12:16   2009-12-04 14:23:25\n",
       "2009-12-03 13:13:31   2009-12-04 14:23:25\n",
       "2009-12-03 15:51:45   2009-12-04 15:52:03\n",
       "                              ...        \n",
       "2020-04-03 15:18:57   2020-04-06 09:31:20\n",
       "2020-04-07 15:50:00   2020-04-08 15:50:05\n",
       "2020-04-07 15:50:04   2020-04-08 15:50:05\n",
       "2020-04-07 15:59:00   2020-04-08 15:59:00\n",
       "2020-04-07 15:59:15   2020-04-08 15:59:27\n",
       "Name: dates, Length: 1812, dtype: datetime64[ns]"
      ]
     },
     "execution_count": 1052,
     "metadata": {},
     "output_type": "execute_result"
    }
   ],
   "source": [
    "if t1 is False: t1=pd.Series(pd.NaT, index=tEvents)\n",
    "t1"
   ]
  },
  {
   "cell_type": "markdown",
   "metadata": {},
   "source": [
    "* 4) form events object, apply stop loss on t1"
   ]
  },
  {
   "cell_type": "code",
   "execution_count": 1053,
   "metadata": {},
   "outputs": [],
   "source": [
    "side = None"
   ]
  },
  {
   "cell_type": "code",
   "execution_count": 1054,
   "metadata": {},
   "outputs": [],
   "source": [
    "if side is None: side_,ptSl_ = pd.Series(1.,index=trgt.index),[ptsl[0],ptsl[0]]\n",
    "else: side_, ptSl_ = side.loc[trgt.index],ptsl[:2]"
   ]
  },
  {
   "cell_type": "code",
   "execution_count": 1055,
   "metadata": {},
   "outputs": [
    {
     "data": {
      "text/plain": [
       "2009-11-03 11:20:58    1.0\n",
       "2009-11-03 11:20:59    1.0\n",
       "2009-12-03 13:12:16    1.0\n",
       "2009-12-03 13:13:31    1.0\n",
       "2009-12-03 15:51:45    1.0\n",
       "                      ... \n",
       "2020-04-03 15:18:57    1.0\n",
       "2020-04-07 15:50:00    1.0\n",
       "2020-04-07 15:50:04    1.0\n",
       "2020-04-07 15:59:00    1.0\n",
       "2020-04-07 15:59:15    1.0\n",
       "Length: 1811, dtype: float64"
      ]
     },
     "execution_count": 1055,
     "metadata": {},
     "output_type": "execute_result"
    }
   ],
   "source": [
    "side_"
   ]
  },
  {
   "cell_type": "code",
   "execution_count": 1056,
   "metadata": {},
   "outputs": [
    {
     "data": {
      "text/html": [
       "<div>\n",
       "<style scoped>\n",
       "    .dataframe tbody tr th:only-of-type {\n",
       "        vertical-align: middle;\n",
       "    }\n",
       "\n",
       "    .dataframe tbody tr th {\n",
       "        vertical-align: top;\n",
       "    }\n",
       "\n",
       "    .dataframe thead th {\n",
       "        text-align: right;\n",
       "    }\n",
       "</style>\n",
       "<table border=\"1\" class=\"dataframe\">\n",
       "  <thead>\n",
       "    <tr style=\"text-align: right;\">\n",
       "      <th></th>\n",
       "      <th>t1</th>\n",
       "      <th>trgt</th>\n",
       "      <th>side</th>\n",
       "    </tr>\n",
       "  </thead>\n",
       "  <tbody>\n",
       "    <tr>\n",
       "      <th>2009-11-03 11:20:58</th>\n",
       "      <td>2009-11-04 11:53:41</td>\n",
       "      <td>0.138779</td>\n",
       "      <td>1.0</td>\n",
       "    </tr>\n",
       "    <tr>\n",
       "      <th>2009-11-03 11:20:59</th>\n",
       "      <td>2009-11-04 11:53:41</td>\n",
       "      <td>0.137438</td>\n",
       "      <td>1.0</td>\n",
       "    </tr>\n",
       "    <tr>\n",
       "      <th>2009-12-03 13:12:16</th>\n",
       "      <td>2009-12-04 14:23:25</td>\n",
       "      <td>0.141056</td>\n",
       "      <td>1.0</td>\n",
       "    </tr>\n",
       "    <tr>\n",
       "      <th>2009-12-03 13:13:31</th>\n",
       "      <td>2009-12-04 14:23:25</td>\n",
       "      <td>0.139685</td>\n",
       "      <td>1.0</td>\n",
       "    </tr>\n",
       "    <tr>\n",
       "      <th>2009-12-03 15:51:45</th>\n",
       "      <td>2009-12-04 15:52:03</td>\n",
       "      <td>0.189304</td>\n",
       "      <td>1.0</td>\n",
       "    </tr>\n",
       "    <tr>\n",
       "      <th>...</th>\n",
       "      <td>...</td>\n",
       "      <td>...</td>\n",
       "      <td>...</td>\n",
       "    </tr>\n",
       "    <tr>\n",
       "      <th>2020-04-03 15:18:57</th>\n",
       "      <td>2020-04-06 09:31:20</td>\n",
       "      <td>1.391250</td>\n",
       "      <td>1.0</td>\n",
       "    </tr>\n",
       "    <tr>\n",
       "      <th>2020-04-07 15:50:00</th>\n",
       "      <td>2020-04-08 15:50:05</td>\n",
       "      <td>0.414122</td>\n",
       "      <td>1.0</td>\n",
       "    </tr>\n",
       "    <tr>\n",
       "      <th>2020-04-07 15:50:04</th>\n",
       "      <td>2020-04-08 15:50:05</td>\n",
       "      <td>0.410119</td>\n",
       "      <td>1.0</td>\n",
       "    </tr>\n",
       "    <tr>\n",
       "      <th>2020-04-07 15:59:00</th>\n",
       "      <td>2020-04-08 15:59:00</td>\n",
       "      <td>0.404723</td>\n",
       "      <td>1.0</td>\n",
       "    </tr>\n",
       "    <tr>\n",
       "      <th>2020-04-07 15:59:15</th>\n",
       "      <td>2020-04-08 15:59:27</td>\n",
       "      <td>0.400894</td>\n",
       "      <td>1.0</td>\n",
       "    </tr>\n",
       "  </tbody>\n",
       "</table>\n",
       "<p>1811 rows × 3 columns</p>\n",
       "</div>"
      ],
      "text/plain": [
       "                                     t1      trgt  side\n",
       "2009-11-03 11:20:58 2009-11-04 11:53:41  0.138779   1.0\n",
       "2009-11-03 11:20:59 2009-11-04 11:53:41  0.137438   1.0\n",
       "2009-12-03 13:12:16 2009-12-04 14:23:25  0.141056   1.0\n",
       "2009-12-03 13:13:31 2009-12-04 14:23:25  0.139685   1.0\n",
       "2009-12-03 15:51:45 2009-12-04 15:52:03  0.189304   1.0\n",
       "...                                 ...       ...   ...\n",
       "2020-04-03 15:18:57 2020-04-06 09:31:20  1.391250   1.0\n",
       "2020-04-07 15:50:00 2020-04-08 15:50:05  0.414122   1.0\n",
       "2020-04-07 15:50:04 2020-04-08 15:50:05  0.410119   1.0\n",
       "2020-04-07 15:59:00 2020-04-08 15:59:00  0.404723   1.0\n",
       "2020-04-07 15:59:15 2020-04-08 15:59:27  0.400894   1.0\n",
       "\n",
       "[1811 rows x 3 columns]"
      ]
     },
     "execution_count": 1056,
     "metadata": {},
     "output_type": "execute_result"
    }
   ],
   "source": [
    "events = (pd.concat({'t1':t1,'trgt':trgt,'side':side_},axis=1).dropna(subset=['trgt']))\n",
    "events"
   ]
  },
  {
   "cell_type": "code",
   "execution_count": 544,
   "metadata": {},
   "outputs": [],
   "source": [
    "# # pandas concat test\n",
    "# pp1 = pd.Series(['t2','t3','t4','t5','t6'],index=[2,3,4,5,6])\n",
    "# pp2 = pd.Series([10,20,30,40,50,60,70,80,90,100],index=[1,2,3,4,5,6,7,8,9,10])\n",
    "# pp3 = pd.Series(['a','b',pd.NA,'d'],index=[2,4,5,7])\n",
    "# ee = pd.concat({'pp1':pp1,'pp2':pp2,'pp3':pp3},axis=1).dropna(subset=['pp3'])\n",
    "# ee"
   ]
  },
  {
   "cell_type": "markdown",
   "metadata": {},
   "source": [
    "#### ============================= applyPtSlOnT1 Test Start ============================"
   ]
  },
  {
   "cell_type": "code",
   "execution_count": 1057,
   "metadata": {},
   "outputs": [
    {
     "data": {
      "text/html": [
       "<div>\n",
       "<style scoped>\n",
       "    .dataframe tbody tr th:only-of-type {\n",
       "        vertical-align: middle;\n",
       "    }\n",
       "\n",
       "    .dataframe tbody tr th {\n",
       "        vertical-align: top;\n",
       "    }\n",
       "\n",
       "    .dataframe thead th {\n",
       "        text-align: right;\n",
       "    }\n",
       "</style>\n",
       "<table border=\"1\" class=\"dataframe\">\n",
       "  <thead>\n",
       "    <tr style=\"text-align: right;\">\n",
       "      <th></th>\n",
       "      <th>t1</th>\n",
       "    </tr>\n",
       "  </thead>\n",
       "  <tbody>\n",
       "    <tr>\n",
       "      <th>2009-11-03 11:20:58</th>\n",
       "      <td>2009-11-04 11:53:41</td>\n",
       "    </tr>\n",
       "    <tr>\n",
       "      <th>2009-11-03 11:20:59</th>\n",
       "      <td>2009-11-04 11:53:41</td>\n",
       "    </tr>\n",
       "    <tr>\n",
       "      <th>2009-12-03 13:12:16</th>\n",
       "      <td>2009-12-04 14:23:25</td>\n",
       "    </tr>\n",
       "    <tr>\n",
       "      <th>2009-12-03 13:13:31</th>\n",
       "      <td>2009-12-04 14:23:25</td>\n",
       "    </tr>\n",
       "    <tr>\n",
       "      <th>2009-12-03 15:51:45</th>\n",
       "      <td>2009-12-04 15:52:03</td>\n",
       "    </tr>\n",
       "    <tr>\n",
       "      <th>...</th>\n",
       "      <td>...</td>\n",
       "    </tr>\n",
       "    <tr>\n",
       "      <th>2020-04-03 15:18:57</th>\n",
       "      <td>2020-04-06 09:31:20</td>\n",
       "    </tr>\n",
       "    <tr>\n",
       "      <th>2020-04-07 15:50:00</th>\n",
       "      <td>2020-04-08 15:50:05</td>\n",
       "    </tr>\n",
       "    <tr>\n",
       "      <th>2020-04-07 15:50:04</th>\n",
       "      <td>2020-04-08 15:50:05</td>\n",
       "    </tr>\n",
       "    <tr>\n",
       "      <th>2020-04-07 15:59:00</th>\n",
       "      <td>2020-04-08 15:59:00</td>\n",
       "    </tr>\n",
       "    <tr>\n",
       "      <th>2020-04-07 15:59:15</th>\n",
       "      <td>2020-04-08 15:59:27</td>\n",
       "    </tr>\n",
       "  </tbody>\n",
       "</table>\n",
       "<p>1811 rows × 1 columns</p>\n",
       "</div>"
      ],
      "text/plain": [
       "                                     t1\n",
       "2009-11-03 11:20:58 2009-11-04 11:53:41\n",
       "2009-11-03 11:20:59 2009-11-04 11:53:41\n",
       "2009-12-03 13:12:16 2009-12-04 14:23:25\n",
       "2009-12-03 13:13:31 2009-12-04 14:23:25\n",
       "2009-12-03 15:51:45 2009-12-04 15:52:03\n",
       "...                                 ...\n",
       "2020-04-03 15:18:57 2020-04-06 09:31:20\n",
       "2020-04-07 15:50:00 2020-04-08 15:50:05\n",
       "2020-04-07 15:50:04 2020-04-08 15:50:05\n",
       "2020-04-07 15:59:00 2020-04-08 15:59:00\n",
       "2020-04-07 15:59:15 2020-04-08 15:59:27\n",
       "\n",
       "[1811 rows x 1 columns]"
      ]
     },
     "execution_count": 1057,
     "metadata": {},
     "output_type": "execute_result"
    }
   ],
   "source": [
    "events_ = events\n",
    "out=events_[['t1']].copy(deep=True)\n",
    "out"
   ]
  },
  {
   "cell_type": "markdown",
   "metadata": {},
   "source": [
    "* Check upper horizontal : pt (profit target)\n",
    "* pt: profit taking\n",
    "* sl: stop loss"
   ]
  },
  {
   "cell_type": "code",
   "execution_count": 1058,
   "metadata": {},
   "outputs": [
    {
     "data": {
      "text/plain": [
       "2009-11-03 11:20:58    0.138779\n",
       "2009-11-03 11:20:59    0.137438\n",
       "2009-12-03 13:12:16    0.141056\n",
       "2009-12-03 13:13:31    0.139685\n",
       "2009-12-03 15:51:45    0.189304\n",
       "                         ...   \n",
       "2020-04-03 15:18:57    1.391250\n",
       "2020-04-07 15:50:00    0.414122\n",
       "2020-04-07 15:50:04    0.410119\n",
       "2020-04-07 15:59:00    0.404723\n",
       "2020-04-07 15:59:15    0.400894\n",
       "Name: trgt, Length: 1811, dtype: float64"
      ]
     },
     "execution_count": 1058,
     "metadata": {},
     "output_type": "execute_result"
    }
   ],
   "source": [
    "if ptSl[0] > 0: pt=ptSl[0]*events_['trgt']\n",
    "else: pt=pd.Series(index=events.index) # NaNs\n",
    "pt"
   ]
  },
  {
   "cell_type": "markdown",
   "metadata": {},
   "source": [
    "* Check lower horizontal :sl(stop loss)"
   ]
  },
  {
   "cell_type": "code",
   "execution_count": 1059,
   "metadata": {},
   "outputs": [
    {
     "data": {
      "text/plain": [
       "2009-11-03 11:20:58   -0.138779\n",
       "2009-11-03 11:20:59   -0.137438\n",
       "2009-12-03 13:12:16   -0.141056\n",
       "2009-12-03 13:13:31   -0.139685\n",
       "2009-12-03 15:51:45   -0.189304\n",
       "                         ...   \n",
       "2020-04-03 15:18:57   -1.391250\n",
       "2020-04-07 15:50:00   -0.414122\n",
       "2020-04-07 15:50:04   -0.410119\n",
       "2020-04-07 15:59:00   -0.404723\n",
       "2020-04-07 15:59:15   -0.400894\n",
       "Name: trgt, Length: 1811, dtype: float64"
      ]
     },
     "execution_count": 1059,
     "metadata": {},
     "output_type": "execute_result"
    }
   ],
   "source": [
    "if ptSl[1]>0: sl = -ptSl[1]*events_['trgt']\n",
    "else: sl=pd.Series(index=events.index) # NaNs\n",
    "sl"
   ]
  },
  {
   "cell_type": "code",
   "execution_count": 1060,
   "metadata": {},
   "outputs": [
    {
     "data": {
      "text/plain": [
       "2009-11-03 11:20:58   2009-11-04 11:53:41\n",
       "2009-11-03 11:20:59   2009-11-04 11:53:41\n",
       "2009-12-03 13:12:16   2009-12-04 14:23:25\n",
       "2009-12-03 13:13:31   2009-12-04 14:23:25\n",
       "2009-12-03 15:51:45   2009-12-04 15:52:03\n",
       "                              ...        \n",
       "2020-04-03 15:18:57   2020-04-06 09:31:20\n",
       "2020-04-07 15:50:00   2020-04-08 15:50:05\n",
       "2020-04-07 15:50:04   2020-04-08 15:50:05\n",
       "2020-04-07 15:59:00   2020-04-08 15:59:00\n",
       "2020-04-07 15:59:15   2020-04-08 15:59:27\n",
       "Name: t1, Length: 1811, dtype: datetime64[ns]"
      ]
     },
     "execution_count": 1060,
     "metadata": {},
     "output_type": "execute_result"
    }
   ],
   "source": [
    "events_['t1']"
   ]
  },
  {
   "cell_type": "code",
   "execution_count": 1061,
   "metadata": {},
   "outputs": [
    {
     "data": {
      "text/plain": [
       "Timestamp('2020-04-17 16:00:00')"
      ]
     },
     "execution_count": 1061,
     "metadata": {},
     "output_type": "execute_result"
    }
   ],
   "source": [
    "close.index[-1]"
   ]
  },
  {
   "cell_type": "markdown",
   "metadata": {},
   "source": [
    "* events_['t1']에서 NaT의 값을 close의 마지막 index로 채운다. 즉 데이터의 마지막 일시"
   ]
  },
  {
   "cell_type": "code",
   "execution_count": 1062,
   "metadata": {},
   "outputs": [
    {
     "data": {
      "text/plain": [
       "2009-11-03 11:20:58   2009-11-04 11:53:41\n",
       "2009-11-03 11:20:59   2009-11-04 11:53:41\n",
       "2009-12-03 13:12:16   2009-12-04 14:23:25\n",
       "2009-12-03 13:13:31   2009-12-04 14:23:25\n",
       "2009-12-03 15:51:45   2009-12-04 15:52:03\n",
       "                              ...        \n",
       "2020-04-03 15:18:57   2020-04-06 09:31:20\n",
       "2020-04-07 15:50:00   2020-04-08 15:50:05\n",
       "2020-04-07 15:50:04   2020-04-08 15:50:05\n",
       "2020-04-07 15:59:00   2020-04-08 15:59:00\n",
       "2020-04-07 15:59:15   2020-04-08 15:59:27\n",
       "Name: t1, Length: 1811, dtype: datetime64[ns]"
      ]
     },
     "execution_count": 1062,
     "metadata": {},
     "output_type": "execute_result"
    }
   ],
   "source": [
    "events_['t1'].fillna(close.index[-1])"
   ]
  },
  {
   "cell_type": "markdown",
   "metadata": {},
   "source": [
    "#### --------------------- path return, elarliest stop loss / profit taking Test Start-------------------------"
   ]
  },
  {
   "cell_type": "code",
   "execution_count": 1063,
   "metadata": {},
   "outputs": [
    {
     "data": {
      "text/plain": [
       "[(Timestamp('2009-11-03 11:20:58'), Timestamp('2009-11-04 11:53:41')),\n",
       " (Timestamp('2009-11-03 11:20:59'), Timestamp('2009-11-04 11:53:41')),\n",
       " (Timestamp('2009-12-03 13:12:16'), Timestamp('2009-12-04 14:23:25'))]"
      ]
     },
     "execution_count": 1063,
     "metadata": {},
     "output_type": "execute_result"
    }
   ],
   "source": [
    "its = [i for i in events_['t1'].fillna(close.index[-1]).iteritems()][0:3]\n",
    "its"
   ]
  },
  {
   "cell_type": "code",
   "execution_count": 1064,
   "metadata": {},
   "outputs": [
    {
     "data": {
      "text/plain": [
       "dates\n",
       "2009-11-03 11:20:58    98.8700\n",
       "2009-11-03 11:20:59    49.4400\n",
       "2009-11-03 11:21:01    49.4400\n",
       "2009-11-03 11:22:04    49.4400\n",
       "2009-11-03 11:22:37    49.4500\n",
       "2009-11-03 11:25:46    49.4200\n",
       "2009-11-03 11:26:01    49.4100\n",
       "2009-11-03 11:26:13    49.4200\n",
       "2009-11-03 11:33:22    49.3700\n",
       "2009-11-03 12:00:44    49.4554\n",
       "2009-11-03 12:17:16    49.3800\n",
       "2009-11-03 12:43:41    49.6045\n",
       "2009-11-03 13:32:03    49.6100\n",
       "2009-11-03 14:02:53    49.7650\n",
       "2009-11-03 14:30:02    49.7599\n",
       "2009-11-03 14:48:47    49.6999\n",
       "2009-11-03 15:16:14    49.6000\n",
       "2009-11-03 15:25:39    49.5850\n",
       "2009-11-03 15:44:27    49.7000\n",
       "2009-11-03 16:15:05    49.8101\n",
       "2009-11-04 09:36:09    50.2700\n",
       "2009-11-04 09:52:58    50.2400\n",
       "2009-11-04 10:00:01    50.3500\n",
       "2009-11-04 10:03:03    50.4700\n",
       "2009-11-04 10:21:15    50.5900\n",
       "2009-11-04 10:53:22    50.5500\n",
       "2009-11-04 11:53:41    50.3905\n",
       "Name: price, dtype: float64"
      ]
     },
     "execution_count": 1064,
     "metadata": {},
     "output_type": "execute_result"
    }
   ],
   "source": [
    "loc,t1 = its[0]\n",
    "df0 = close[loc:t1]\n",
    "df0"
   ]
  },
  {
   "cell_type": "code",
   "execution_count": 1065,
   "metadata": {},
   "outputs": [
    {
     "data": {
      "text/plain": [
       "98.87"
      ]
     },
     "execution_count": 1065,
     "metadata": {},
     "output_type": "execute_result"
    }
   ],
   "source": [
    "close[loc]"
   ]
  },
  {
   "cell_type": "code",
   "execution_count": 1066,
   "metadata": {},
   "outputs": [
    {
     "data": {
      "text/plain": [
       "dates\n",
       "2009-11-03 11:20:58    0.000000\n",
       "2009-11-03 11:20:59   -0.499949\n",
       "2009-11-03 11:21:01   -0.499949\n",
       "2009-11-03 11:22:04   -0.499949\n",
       "2009-11-03 11:22:37   -0.499848\n",
       "2009-11-03 11:25:46   -0.500152\n",
       "2009-11-03 11:26:01   -0.500253\n",
       "2009-11-03 11:26:13   -0.500152\n",
       "2009-11-03 11:33:22   -0.500657\n",
       "2009-11-03 12:00:44   -0.499794\n",
       "2009-11-03 12:17:16   -0.500556\n",
       "2009-11-03 12:43:41   -0.498286\n",
       "2009-11-03 13:32:03   -0.498230\n",
       "2009-11-03 14:02:53   -0.496662\n",
       "2009-11-03 14:30:02   -0.496714\n",
       "2009-11-03 14:48:47   -0.497321\n",
       "2009-11-03 15:16:14   -0.498331\n",
       "2009-11-03 15:25:39   -0.498483\n",
       "2009-11-03 15:44:27   -0.497320\n",
       "2009-11-03 16:15:05   -0.496206\n",
       "2009-11-04 09:36:09   -0.491555\n",
       "2009-11-04 09:52:58   -0.491858\n",
       "2009-11-04 10:00:01   -0.490745\n",
       "2009-11-04 10:03:03   -0.489532\n",
       "2009-11-04 10:21:15   -0.488318\n",
       "2009-11-04 10:53:22   -0.488723\n",
       "2009-11-04 11:53:41   -0.490336\n",
       "Name: price, dtype: float64"
      ]
     },
     "execution_count": 1066,
     "metadata": {},
     "output_type": "execute_result"
    }
   ],
   "source": [
    "# loc에서 t1까지 즉 1일 사이의 틱간 return\n",
    "(df0/close[loc] - 1)"
   ]
  },
  {
   "cell_type": "code",
   "execution_count": 1068,
   "metadata": {},
   "outputs": [
    {
     "data": {
      "text/plain": [
       "1.0"
      ]
     },
     "execution_count": 1068,
     "metadata": {},
     "output_type": "execute_result"
    }
   ],
   "source": [
    "events_.at[loc,'side']"
   ]
  },
  {
   "cell_type": "code",
   "execution_count": 1069,
   "metadata": {},
   "outputs": [
    {
     "data": {
      "text/plain": [
       "dates\n",
       "2009-11-03 11:20:58    0.000000\n",
       "2009-11-03 11:20:59   -0.499949\n",
       "2009-11-03 11:21:01   -0.499949\n",
       "2009-11-03 11:22:04   -0.499949\n",
       "2009-11-03 11:22:37   -0.499848\n",
       "2009-11-03 11:25:46   -0.500152\n",
       "2009-11-03 11:26:01   -0.500253\n",
       "2009-11-03 11:26:13   -0.500152\n",
       "2009-11-03 11:33:22   -0.500657\n",
       "2009-11-03 12:00:44   -0.499794\n",
       "2009-11-03 12:17:16   -0.500556\n",
       "2009-11-03 12:43:41   -0.498286\n",
       "2009-11-03 13:32:03   -0.498230\n",
       "2009-11-03 14:02:53   -0.496662\n",
       "2009-11-03 14:30:02   -0.496714\n",
       "2009-11-03 14:48:47   -0.497321\n",
       "2009-11-03 15:16:14   -0.498331\n",
       "2009-11-03 15:25:39   -0.498483\n",
       "2009-11-03 15:44:27   -0.497320\n",
       "2009-11-03 16:15:05   -0.496206\n",
       "2009-11-04 09:36:09   -0.491555\n",
       "2009-11-04 09:52:58   -0.491858\n",
       "2009-11-04 10:00:01   -0.490745\n",
       "2009-11-04 10:03:03   -0.489532\n",
       "2009-11-04 10:21:15   -0.488318\n",
       "2009-11-04 10:53:22   -0.488723\n",
       "2009-11-04 11:53:41   -0.490336\n",
       "Name: price, dtype: float64"
      ]
     },
     "execution_count": 1069,
     "metadata": {},
     "output_type": "execute_result"
    }
   ],
   "source": [
    "df0 = (df0/close[loc] - 1)*events_.at[loc,'side']\n",
    "df0"
   ]
  },
  {
   "cell_type": "code",
   "execution_count": 1070,
   "metadata": {},
   "outputs": [
    {
     "data": {
      "text/plain": [
       "-0.13877929581982926"
      ]
     },
     "execution_count": 1070,
     "metadata": {},
     "output_type": "execute_result"
    }
   ],
   "source": [
    "sl[loc]"
   ]
  },
  {
   "cell_type": "markdown",
   "metadata": {},
   "source": [
    "* 1일간 수익률 중 stop loss(손실기준) 이하로 내려간 최소 시점"
   ]
  },
  {
   "cell_type": "code",
   "execution_count": 1073,
   "metadata": {},
   "outputs": [
    {
     "data": {
      "text/plain": [
       "Timestamp('2009-11-03 11:20:59')"
      ]
     },
     "execution_count": 1073,
     "metadata": {},
     "output_type": "execute_result"
    }
   ],
   "source": [
    "# out.loc[loc,'sl'] =\n",
    "df0[df0<sl[loc]].index.min() # earliest stop loss"
   ]
  },
  {
   "cell_type": "markdown",
   "metadata": {},
   "source": [
    "* 1일간 수익률 중 profit taking(이익발생 기준) 이상으로 올라간 최소 시점"
   ]
  },
  {
   "cell_type": "code",
   "execution_count": 1074,
   "metadata": {},
   "outputs": [
    {
     "data": {
      "text/plain": [
       "NaT"
      ]
     },
     "execution_count": 1074,
     "metadata": {},
     "output_type": "execute_result"
    }
   ],
   "source": [
    "# out.loc[loc,'pt'] =\n",
    "df0[df0>pt[loc]].index.min()"
   ]
  },
  {
   "cell_type": "markdown",
   "metadata": {},
   "source": [
    "(index, value) 쌍"
   ]
  },
  {
   "cell_type": "code",
   "execution_count": 1075,
   "metadata": {},
   "outputs": [],
   "source": [
    "for loc, t1 in events_['t1'].fillna(close.index[-1]).iteritems():\n",
    "  df0=close[loc:t1] # path prices\n",
    "  df0 = (df0/close[loc] - 1)*events_.at[loc,'side'] # path returns\n",
    "  out.loc[loc,'sl'] = df0[df0<sl[loc]].index.min() # earliest stop loss\n",
    "  out.loc[loc,'pt'] = df0[df0>pt[loc]].index.min() # earliest profit taking"
   ]
  },
  {
   "cell_type": "markdown",
   "metadata": {},
   "source": [
    "* 1일간 손실/수익이 발생한 최소 시점"
   ]
  },
  {
   "cell_type": "code",
   "execution_count": 1076,
   "metadata": {},
   "outputs": [
    {
     "data": {
      "text/html": [
       "<div>\n",
       "<style scoped>\n",
       "    .dataframe tbody tr th:only-of-type {\n",
       "        vertical-align: middle;\n",
       "    }\n",
       "\n",
       "    .dataframe tbody tr th {\n",
       "        vertical-align: top;\n",
       "    }\n",
       "\n",
       "    .dataframe thead th {\n",
       "        text-align: right;\n",
       "    }\n",
       "</style>\n",
       "<table border=\"1\" class=\"dataframe\">\n",
       "  <thead>\n",
       "    <tr style=\"text-align: right;\">\n",
       "      <th></th>\n",
       "      <th>t1</th>\n",
       "      <th>sl</th>\n",
       "      <th>pt</th>\n",
       "    </tr>\n",
       "  </thead>\n",
       "  <tbody>\n",
       "    <tr>\n",
       "      <th>2009-11-03 11:20:58</th>\n",
       "      <td>2009-11-04 11:53:41</td>\n",
       "      <td>2009-11-03 11:20:59</td>\n",
       "      <td>NaT</td>\n",
       "    </tr>\n",
       "    <tr>\n",
       "      <th>2009-11-03 11:20:59</th>\n",
       "      <td>2009-11-04 11:53:41</td>\n",
       "      <td>NaT</td>\n",
       "      <td>NaT</td>\n",
       "    </tr>\n",
       "    <tr>\n",
       "      <th>2009-12-03 13:12:16</th>\n",
       "      <td>2009-12-04 14:23:25</td>\n",
       "      <td>2009-12-03 13:13:31</td>\n",
       "      <td>NaT</td>\n",
       "    </tr>\n",
       "    <tr>\n",
       "      <th>2009-12-03 13:13:31</th>\n",
       "      <td>2009-12-04 14:23:25</td>\n",
       "      <td>NaT</td>\n",
       "      <td>2009-12-03 15:51:45</td>\n",
       "    </tr>\n",
       "    <tr>\n",
       "      <th>2009-12-03 15:51:45</th>\n",
       "      <td>2009-12-04 15:52:03</td>\n",
       "      <td>2009-12-03 15:51:48</td>\n",
       "      <td>NaT</td>\n",
       "    </tr>\n",
       "    <tr>\n",
       "      <th>...</th>\n",
       "      <td>...</td>\n",
       "      <td>...</td>\n",
       "      <td>...</td>\n",
       "    </tr>\n",
       "    <tr>\n",
       "      <th>2020-04-03 15:18:57</th>\n",
       "      <td>2020-04-06 09:31:20</td>\n",
       "      <td>NaT</td>\n",
       "      <td>NaT</td>\n",
       "    </tr>\n",
       "    <tr>\n",
       "      <th>2020-04-07 15:50:00</th>\n",
       "      <td>2020-04-08 15:50:05</td>\n",
       "      <td>2020-04-07 15:50:04</td>\n",
       "      <td>NaT</td>\n",
       "    </tr>\n",
       "    <tr>\n",
       "      <th>2020-04-07 15:50:04</th>\n",
       "      <td>2020-04-08 15:50:05</td>\n",
       "      <td>NaT</td>\n",
       "      <td>2020-04-07 15:59:00</td>\n",
       "    </tr>\n",
       "    <tr>\n",
       "      <th>2020-04-07 15:59:00</th>\n",
       "      <td>2020-04-08 15:59:00</td>\n",
       "      <td>2020-04-07 15:59:15</td>\n",
       "      <td>NaT</td>\n",
       "    </tr>\n",
       "    <tr>\n",
       "      <th>2020-04-07 15:59:15</th>\n",
       "      <td>2020-04-08 15:59:27</td>\n",
       "      <td>NaT</td>\n",
       "      <td>NaT</td>\n",
       "    </tr>\n",
       "  </tbody>\n",
       "</table>\n",
       "<p>1811 rows × 3 columns</p>\n",
       "</div>"
      ],
      "text/plain": [
       "                                     t1                  sl  \\\n",
       "2009-11-03 11:20:58 2009-11-04 11:53:41 2009-11-03 11:20:59   \n",
       "2009-11-03 11:20:59 2009-11-04 11:53:41                 NaT   \n",
       "2009-12-03 13:12:16 2009-12-04 14:23:25 2009-12-03 13:13:31   \n",
       "2009-12-03 13:13:31 2009-12-04 14:23:25                 NaT   \n",
       "2009-12-03 15:51:45 2009-12-04 15:52:03 2009-12-03 15:51:48   \n",
       "...                                 ...                 ...   \n",
       "2020-04-03 15:18:57 2020-04-06 09:31:20                 NaT   \n",
       "2020-04-07 15:50:00 2020-04-08 15:50:05 2020-04-07 15:50:04   \n",
       "2020-04-07 15:50:04 2020-04-08 15:50:05                 NaT   \n",
       "2020-04-07 15:59:00 2020-04-08 15:59:00 2020-04-07 15:59:15   \n",
       "2020-04-07 15:59:15 2020-04-08 15:59:27                 NaT   \n",
       "\n",
       "                                     pt  \n",
       "2009-11-03 11:20:58                 NaT  \n",
       "2009-11-03 11:20:59                 NaT  \n",
       "2009-12-03 13:12:16                 NaT  \n",
       "2009-12-03 13:13:31 2009-12-03 15:51:45  \n",
       "2009-12-03 15:51:45                 NaT  \n",
       "...                                 ...  \n",
       "2020-04-03 15:18:57                 NaT  \n",
       "2020-04-07 15:50:00                 NaT  \n",
       "2020-04-07 15:50:04 2020-04-07 15:59:00  \n",
       "2020-04-07 15:59:00                 NaT  \n",
       "2020-04-07 15:59:15                 NaT  \n",
       "\n",
       "[1811 rows x 3 columns]"
      ]
     },
     "execution_count": 1076,
     "metadata": {},
     "output_type": "execute_result"
    }
   ],
   "source": [
    "out"
   ]
  },
  {
   "cell_type": "markdown",
   "metadata": {},
   "source": [
    "#### ============================= applyPtSlOnT1 Test End ============================"
   ]
  },
  {
   "cell_type": "code",
   "execution_count": 1077,
   "metadata": {},
   "outputs": [],
   "source": [
    "df0=mpPandasObj(func=applyPtSlOnT1,pdObj=('molecule',events.index), \n",
    "               numThreads=cpus,close=close,events=events,ptSl=ptSI_)"
   ]
  },
  {
   "cell_type": "code",
   "execution_count": 1078,
   "metadata": {},
   "outputs": [
    {
     "data": {
      "text/html": [
       "<div>\n",
       "<style scoped>\n",
       "    .dataframe tbody tr th:only-of-type {\n",
       "        vertical-align: middle;\n",
       "    }\n",
       "\n",
       "    .dataframe tbody tr th {\n",
       "        vertical-align: top;\n",
       "    }\n",
       "\n",
       "    .dataframe thead th {\n",
       "        text-align: right;\n",
       "    }\n",
       "</style>\n",
       "<table border=\"1\" class=\"dataframe\">\n",
       "  <thead>\n",
       "    <tr style=\"text-align: right;\">\n",
       "      <th></th>\n",
       "      <th>t1</th>\n",
       "      <th>sl</th>\n",
       "      <th>pt</th>\n",
       "    </tr>\n",
       "  </thead>\n",
       "  <tbody>\n",
       "    <tr>\n",
       "      <th>2009-11-03 11:20:58</th>\n",
       "      <td>2009-11-04 11:53:41</td>\n",
       "      <td>2009-11-03 11:20:59</td>\n",
       "      <td>NaT</td>\n",
       "    </tr>\n",
       "    <tr>\n",
       "      <th>2009-11-03 11:20:59</th>\n",
       "      <td>2009-11-04 11:53:41</td>\n",
       "      <td>NaT</td>\n",
       "      <td>NaT</td>\n",
       "    </tr>\n",
       "    <tr>\n",
       "      <th>2009-12-03 13:12:16</th>\n",
       "      <td>2009-12-04 14:23:25</td>\n",
       "      <td>2009-12-03 13:13:31</td>\n",
       "      <td>NaT</td>\n",
       "    </tr>\n",
       "    <tr>\n",
       "      <th>2009-12-03 13:13:31</th>\n",
       "      <td>2009-12-04 14:23:25</td>\n",
       "      <td>NaT</td>\n",
       "      <td>2009-12-03 15:51:45</td>\n",
       "    </tr>\n",
       "    <tr>\n",
       "      <th>2009-12-03 15:51:45</th>\n",
       "      <td>2009-12-04 15:52:03</td>\n",
       "      <td>2009-12-03 15:51:48</td>\n",
       "      <td>NaT</td>\n",
       "    </tr>\n",
       "    <tr>\n",
       "      <th>...</th>\n",
       "      <td>...</td>\n",
       "      <td>...</td>\n",
       "      <td>...</td>\n",
       "    </tr>\n",
       "    <tr>\n",
       "      <th>2020-04-03 15:18:57</th>\n",
       "      <td>2020-04-06 09:31:20</td>\n",
       "      <td>NaT</td>\n",
       "      <td>NaT</td>\n",
       "    </tr>\n",
       "    <tr>\n",
       "      <th>2020-04-07 15:50:00</th>\n",
       "      <td>2020-04-08 15:50:05</td>\n",
       "      <td>2020-04-07 15:50:04</td>\n",
       "      <td>NaT</td>\n",
       "    </tr>\n",
       "    <tr>\n",
       "      <th>2020-04-07 15:50:04</th>\n",
       "      <td>2020-04-08 15:50:05</td>\n",
       "      <td>NaT</td>\n",
       "      <td>2020-04-07 15:59:00</td>\n",
       "    </tr>\n",
       "    <tr>\n",
       "      <th>2020-04-07 15:59:00</th>\n",
       "      <td>2020-04-08 15:59:00</td>\n",
       "      <td>2020-04-07 15:59:15</td>\n",
       "      <td>NaT</td>\n",
       "    </tr>\n",
       "    <tr>\n",
       "      <th>2020-04-07 15:59:15</th>\n",
       "      <td>2020-04-08 15:59:27</td>\n",
       "      <td>NaT</td>\n",
       "      <td>NaT</td>\n",
       "    </tr>\n",
       "  </tbody>\n",
       "</table>\n",
       "<p>1811 rows × 3 columns</p>\n",
       "</div>"
      ],
      "text/plain": [
       "                                     t1                  sl  \\\n",
       "2009-11-03 11:20:58 2009-11-04 11:53:41 2009-11-03 11:20:59   \n",
       "2009-11-03 11:20:59 2009-11-04 11:53:41                 NaT   \n",
       "2009-12-03 13:12:16 2009-12-04 14:23:25 2009-12-03 13:13:31   \n",
       "2009-12-03 13:13:31 2009-12-04 14:23:25                 NaT   \n",
       "2009-12-03 15:51:45 2009-12-04 15:52:03 2009-12-03 15:51:48   \n",
       "...                                 ...                 ...   \n",
       "2020-04-03 15:18:57 2020-04-06 09:31:20                 NaT   \n",
       "2020-04-07 15:50:00 2020-04-08 15:50:05 2020-04-07 15:50:04   \n",
       "2020-04-07 15:50:04 2020-04-08 15:50:05                 NaT   \n",
       "2020-04-07 15:59:00 2020-04-08 15:59:00 2020-04-07 15:59:15   \n",
       "2020-04-07 15:59:15 2020-04-08 15:59:27                 NaT   \n",
       "\n",
       "                                     pt  \n",
       "2009-11-03 11:20:58                 NaT  \n",
       "2009-11-03 11:20:59                 NaT  \n",
       "2009-12-03 13:12:16                 NaT  \n",
       "2009-12-03 13:13:31 2009-12-03 15:51:45  \n",
       "2009-12-03 15:51:45                 NaT  \n",
       "...                                 ...  \n",
       "2020-04-03 15:18:57                 NaT  \n",
       "2020-04-07 15:50:00                 NaT  \n",
       "2020-04-07 15:50:04 2020-04-07 15:59:00  \n",
       "2020-04-07 15:59:00                 NaT  \n",
       "2020-04-07 15:59:15                 NaT  \n",
       "\n",
       "[1811 rows x 3 columns]"
      ]
     },
     "execution_count": 1078,
     "metadata": {},
     "output_type": "execute_result"
    }
   ],
   "source": [
    "df0"
   ]
  },
  {
   "cell_type": "code",
   "execution_count": 1079,
   "metadata": {},
   "outputs": [
    {
     "data": {
      "text/plain": [
       "2009-11-03 11:20:58   2009-11-04 11:53:41\n",
       "2009-11-03 11:20:59   2009-11-04 11:53:41\n",
       "2009-12-03 13:12:16   2009-12-04 14:23:25\n",
       "2009-12-03 13:13:31   2009-12-04 14:23:25\n",
       "2009-12-03 15:51:45   2009-12-04 15:52:03\n",
       "                              ...        \n",
       "2020-04-03 15:18:57   2020-04-06 09:31:20\n",
       "2020-04-07 15:50:00   2020-04-08 15:50:05\n",
       "2020-04-07 15:50:04   2020-04-08 15:50:05\n",
       "2020-04-07 15:59:00   2020-04-08 15:59:00\n",
       "2020-04-07 15:59:15   2020-04-08 15:59:27\n",
       "Name: t1, Length: 1811, dtype: datetime64[ns]"
      ]
     },
     "execution_count": 1079,
     "metadata": {},
     "output_type": "execute_result"
    }
   ],
   "source": [
    "events['t1']"
   ]
  },
  {
   "cell_type": "markdown",
   "metadata": {},
   "source": [
    "* 기존 t1을 t1,sl,pt 중 가장 작은 값으로 업데이트 한다. 손실이 먼저 발생 했으면 손실 최초 손실 발생 일시를, 수익 먼저 발생 했으면 최초 수익 발생 일시를, 둘다 아니면 기존 t1을 둘다 발생 했으면 가장 빠른 일시로 업데이트 한다."
   ]
  },
  {
   "cell_type": "code",
   "execution_count": 1080,
   "metadata": {},
   "outputs": [
    {
     "data": {
      "text/plain": [
       "2009-11-03 11:20:58   2009-11-03 11:20:59\n",
       "2009-11-03 11:20:59   2009-11-04 11:53:41\n",
       "2009-12-03 13:12:16   2009-12-03 13:13:31\n",
       "2009-12-03 13:13:31   2009-12-03 15:51:45\n",
       "2009-12-03 15:51:45   2009-12-03 15:51:48\n",
       "                              ...        \n",
       "2020-04-03 15:18:57   2020-04-06 09:31:20\n",
       "2020-04-07 15:50:00   2020-04-07 15:50:04\n",
       "2020-04-07 15:50:04   2020-04-07 15:59:00\n",
       "2020-04-07 15:59:00   2020-04-07 15:59:15\n",
       "2020-04-07 15:59:15   2020-04-08 15:59:27\n",
       "Name: t1, Length: 1811, dtype: datetime64[ns]"
      ]
     },
     "execution_count": 1080,
     "metadata": {},
     "output_type": "execute_result"
    }
   ],
   "source": [
    "events['t1'] = df0.dropna(how='all').min(axis=1) # pd.min ignores nan\n",
    "events['t1']"
   ]
  },
  {
   "cell_type": "code",
   "execution_count": 1081,
   "metadata": {},
   "outputs": [
    {
     "data": {
      "text/html": [
       "<div>\n",
       "<style scoped>\n",
       "    .dataframe tbody tr th:only-of-type {\n",
       "        vertical-align: middle;\n",
       "    }\n",
       "\n",
       "    .dataframe tbody tr th {\n",
       "        vertical-align: top;\n",
       "    }\n",
       "\n",
       "    .dataframe thead th {\n",
       "        text-align: right;\n",
       "    }\n",
       "</style>\n",
       "<table border=\"1\" class=\"dataframe\">\n",
       "  <thead>\n",
       "    <tr style=\"text-align: right;\">\n",
       "      <th></th>\n",
       "      <th>t1</th>\n",
       "      <th>trgt</th>\n",
       "    </tr>\n",
       "  </thead>\n",
       "  <tbody>\n",
       "    <tr>\n",
       "      <th>2009-11-03 11:20:58</th>\n",
       "      <td>2009-11-03 11:20:59</td>\n",
       "      <td>0.138779</td>\n",
       "    </tr>\n",
       "    <tr>\n",
       "      <th>2009-11-03 11:20:59</th>\n",
       "      <td>2009-11-04 11:53:41</td>\n",
       "      <td>0.137438</td>\n",
       "    </tr>\n",
       "    <tr>\n",
       "      <th>2009-12-03 13:12:16</th>\n",
       "      <td>2009-12-03 13:13:31</td>\n",
       "      <td>0.141056</td>\n",
       "    </tr>\n",
       "    <tr>\n",
       "      <th>2009-12-03 13:13:31</th>\n",
       "      <td>2009-12-03 15:51:45</td>\n",
       "      <td>0.139685</td>\n",
       "    </tr>\n",
       "    <tr>\n",
       "      <th>2009-12-03 15:51:45</th>\n",
       "      <td>2009-12-03 15:51:48</td>\n",
       "      <td>0.189304</td>\n",
       "    </tr>\n",
       "    <tr>\n",
       "      <th>...</th>\n",
       "      <td>...</td>\n",
       "      <td>...</td>\n",
       "    </tr>\n",
       "    <tr>\n",
       "      <th>2020-04-03 15:18:57</th>\n",
       "      <td>2020-04-06 09:31:20</td>\n",
       "      <td>1.391250</td>\n",
       "    </tr>\n",
       "    <tr>\n",
       "      <th>2020-04-07 15:50:00</th>\n",
       "      <td>2020-04-07 15:50:04</td>\n",
       "      <td>0.414122</td>\n",
       "    </tr>\n",
       "    <tr>\n",
       "      <th>2020-04-07 15:50:04</th>\n",
       "      <td>2020-04-07 15:59:00</td>\n",
       "      <td>0.410119</td>\n",
       "    </tr>\n",
       "    <tr>\n",
       "      <th>2020-04-07 15:59:00</th>\n",
       "      <td>2020-04-07 15:59:15</td>\n",
       "      <td>0.404723</td>\n",
       "    </tr>\n",
       "    <tr>\n",
       "      <th>2020-04-07 15:59:15</th>\n",
       "      <td>2020-04-08 15:59:27</td>\n",
       "      <td>0.400894</td>\n",
       "    </tr>\n",
       "  </tbody>\n",
       "</table>\n",
       "<p>1811 rows × 2 columns</p>\n",
       "</div>"
      ],
      "text/plain": [
       "                                     t1      trgt\n",
       "2009-11-03 11:20:58 2009-11-03 11:20:59  0.138779\n",
       "2009-11-03 11:20:59 2009-11-04 11:53:41  0.137438\n",
       "2009-12-03 13:12:16 2009-12-03 13:13:31  0.141056\n",
       "2009-12-03 13:13:31 2009-12-03 15:51:45  0.139685\n",
       "2009-12-03 15:51:45 2009-12-03 15:51:48  0.189304\n",
       "...                                 ...       ...\n",
       "2020-04-03 15:18:57 2020-04-06 09:31:20  1.391250\n",
       "2020-04-07 15:50:00 2020-04-07 15:50:04  0.414122\n",
       "2020-04-07 15:50:04 2020-04-07 15:59:00  0.410119\n",
       "2020-04-07 15:59:00 2020-04-07 15:59:15  0.404723\n",
       "2020-04-07 15:59:15 2020-04-08 15:59:27  0.400894\n",
       "\n",
       "[1811 rows x 2 columns]"
      ]
     },
     "execution_count": 1081,
     "metadata": {},
     "output_type": "execute_result"
    }
   ],
   "source": [
    "if side is None:events = events.drop('side',axis=1)\n",
    "events"
   ]
  },
  {
   "cell_type": "markdown",
   "metadata": {},
   "source": [
    "### ============================= getEvents Test End ============================"
   ]
  },
  {
   "cell_type": "code",
   "execution_count": 1088,
   "metadata": {
    "ExecuteTime": {
     "end_time": "2019-03-01T17:54:24.141594Z",
     "start_time": "2019-03-01T17:54:23.327391Z"
    }
   },
   "outputs": [
    {
     "name": "stderr",
     "output_type": "stream",
     "text": [
      "100%|█████████████████████████████████████████████████████████████████████████| 67585/67585 [00:03<00:00, 17864.39it/s]\n"
     ]
    },
    {
     "name": "stdout",
     "output_type": "stream",
     "text": [
      "-------------------------------------------------------------------------------\n",
      "dataframe information\n",
      "-------------------------------------------------------------------------------\n",
      "                                     t1      trgt\n",
      "2020-04-03 15:18:57 2020-04-06 09:31:20  1.391250\n",
      "2020-04-07 15:50:00 2020-04-07 15:50:04  0.414122\n",
      "2020-04-07 15:50:04 2020-04-07 15:59:00  0.410119\n",
      "2020-04-07 15:59:00 2020-04-07 15:59:15  0.404723\n",
      "2020-04-07 15:59:15 2020-04-08 15:59:27  0.400894\n",
      "--------------------------------------------------\n",
      "<class 'pandas.core.frame.DataFrame'>\n",
      "DatetimeIndex: 1811 entries, 2009-11-03 11:20:58 to 2020-04-07 15:59:15\n",
      "Data columns (total 2 columns):\n",
      " #   Column  Non-Null Count  Dtype         \n",
      "---  ------  --------------  -----         \n",
      " 0   t1      1811 non-null   datetime64[ns]\n",
      " 1   trgt    1811 non-null   float64       \n",
      "dtypes: datetime64[ns](1), float64(1)\n",
      "memory usage: 122.4 KB\n",
      "None\n",
      "-------------------------------------------------------------------------------\n",
      "\n"
     ]
    }
   ],
   "source": [
    "tEvents = getTEvents(close,h=dailyVol.mean())\n",
    "t1 = addVerticalBarrier(tEvents, close, numDays=1)\n",
    "\n",
    "# create target series\n",
    "ptsl = [1,1]\n",
    "target=dailyVol\n",
    "# select minRet\n",
    "minRet = 0.01\n",
    "\n",
    "# Run in single-threaded mode on Windows\n",
    "import platform\n",
    "if platform.system() == \"Windows\":\n",
    "    cpus = 1\n",
    "else:\n",
    "    cpus = cpu_count() - 1\n",
    "    \n",
    "events = getEvents(close,tEvents,ptsl,target,minRet,cpus,t1=t1)\n",
    "\n",
    "cprint(events)"
   ]
  },
  {
   "cell_type": "code",
   "execution_count": 1089,
   "metadata": {},
   "outputs": [
    {
     "data": {
      "text/html": [
       "<div>\n",
       "<style scoped>\n",
       "    .dataframe tbody tr th:only-of-type {\n",
       "        vertical-align: middle;\n",
       "    }\n",
       "\n",
       "    .dataframe tbody tr th {\n",
       "        vertical-align: top;\n",
       "    }\n",
       "\n",
       "    .dataframe thead th {\n",
       "        text-align: right;\n",
       "    }\n",
       "</style>\n",
       "<table border=\"1\" class=\"dataframe\">\n",
       "  <thead>\n",
       "    <tr style=\"text-align: right;\">\n",
       "      <th></th>\n",
       "      <th>t1</th>\n",
       "      <th>trgt</th>\n",
       "    </tr>\n",
       "  </thead>\n",
       "  <tbody>\n",
       "    <tr>\n",
       "      <th>2009-11-03 11:20:58</th>\n",
       "      <td>2009-11-03 11:20:59</td>\n",
       "      <td>0.138779</td>\n",
       "    </tr>\n",
       "    <tr>\n",
       "      <th>2009-11-03 11:20:59</th>\n",
       "      <td>2009-11-04 11:53:41</td>\n",
       "      <td>0.137438</td>\n",
       "    </tr>\n",
       "    <tr>\n",
       "      <th>2009-12-03 13:12:16</th>\n",
       "      <td>2009-12-03 13:13:31</td>\n",
       "      <td>0.141056</td>\n",
       "    </tr>\n",
       "    <tr>\n",
       "      <th>2009-12-03 13:13:31</th>\n",
       "      <td>2009-12-03 15:51:45</td>\n",
       "      <td>0.139685</td>\n",
       "    </tr>\n",
       "    <tr>\n",
       "      <th>2009-12-03 15:51:45</th>\n",
       "      <td>2009-12-03 15:51:48</td>\n",
       "      <td>0.189304</td>\n",
       "    </tr>\n",
       "    <tr>\n",
       "      <th>...</th>\n",
       "      <td>...</td>\n",
       "      <td>...</td>\n",
       "    </tr>\n",
       "    <tr>\n",
       "      <th>2020-04-03 15:18:57</th>\n",
       "      <td>2020-04-06 09:31:20</td>\n",
       "      <td>1.391250</td>\n",
       "    </tr>\n",
       "    <tr>\n",
       "      <th>2020-04-07 15:50:00</th>\n",
       "      <td>2020-04-07 15:50:04</td>\n",
       "      <td>0.414122</td>\n",
       "    </tr>\n",
       "    <tr>\n",
       "      <th>2020-04-07 15:50:04</th>\n",
       "      <td>2020-04-07 15:59:00</td>\n",
       "      <td>0.410119</td>\n",
       "    </tr>\n",
       "    <tr>\n",
       "      <th>2020-04-07 15:59:00</th>\n",
       "      <td>2020-04-07 15:59:15</td>\n",
       "      <td>0.404723</td>\n",
       "    </tr>\n",
       "    <tr>\n",
       "      <th>2020-04-07 15:59:15</th>\n",
       "      <td>2020-04-08 15:59:27</td>\n",
       "      <td>0.400894</td>\n",
       "    </tr>\n",
       "  </tbody>\n",
       "</table>\n",
       "<p>1811 rows × 2 columns</p>\n",
       "</div>"
      ],
      "text/plain": [
       "                                     t1      trgt\n",
       "2009-11-03 11:20:58 2009-11-03 11:20:59  0.138779\n",
       "2009-11-03 11:20:59 2009-11-04 11:53:41  0.137438\n",
       "2009-12-03 13:12:16 2009-12-03 13:13:31  0.141056\n",
       "2009-12-03 13:13:31 2009-12-03 15:51:45  0.139685\n",
       "2009-12-03 15:51:45 2009-12-03 15:51:48  0.189304\n",
       "...                                 ...       ...\n",
       "2020-04-03 15:18:57 2020-04-06 09:31:20  1.391250\n",
       "2020-04-07 15:50:00 2020-04-07 15:50:04  0.414122\n",
       "2020-04-07 15:50:04 2020-04-07 15:59:00  0.410119\n",
       "2020-04-07 15:59:00 2020-04-07 15:59:15  0.404723\n",
       "2020-04-07 15:59:15 2020-04-08 15:59:27  0.400894\n",
       "\n",
       "[1811 rows x 2 columns]"
      ]
     },
     "execution_count": 1089,
     "metadata": {},
     "output_type": "execute_result"
    }
   ],
   "source": [
    "events"
   ]
  },
  {
   "cell_type": "markdown",
   "metadata": {},
   "source": [
    "### (d) Apply `getBins` to generate labels"
   ]
  },
  {
   "cell_type": "code",
   "execution_count": 24,
   "metadata": {
    "ExecuteTime": {
     "end_time": "2019-03-01T17:54:24.550849Z",
     "start_time": "2019-03-01T17:54:24.143356Z"
    }
   },
   "outputs": [
    {
     "name": "stdout",
     "output_type": "stream",
     "text": [
      "-------------------------------------------------------------------------------\n",
      "dataframe information\n",
      "-------------------------------------------------------------------------------\n",
      "                          ret  bin\n",
      "2018-02-13 13:43:37  0.010108  1.0\n",
      "2018-02-14 10:30:48  0.015045  1.0\n",
      "2018-02-14 13:36:02  0.005056  1.0\n",
      "2018-02-15 09:31:56  0.003964  1.0\n",
      "2018-02-15 14:05:41  0.010431  1.0\n",
      "--------------------------------------------------\n",
      "<class 'pandas.core.frame.DataFrame'>\n",
      "DatetimeIndex: 929 entries, 2009-10-05 14:55:48 to 2018-02-15 14:05:41\n",
      "Data columns (total 2 columns):\n",
      "ret    929 non-null float64\n",
      "bin    929 non-null float64\n",
      "dtypes: float64(2)\n",
      "memory usage: 61.8 KB\n",
      "None\n",
      "-------------------------------------------------------------------------------\n",
      "\n",
      " 1.0    523\n",
      "-1.0    406\n",
      "Name: bin, dtype: int64\n"
     ]
    }
   ],
   "source": [
    "labels = getBins(events, close)\n",
    "cprint(labels)\n",
    "print(labels.bin.value_counts())"
   ]
  },
  {
   "cell_type": "markdown",
   "metadata": {},
   "source": [
    "## [3.2] Use snippet 3.8 to drop under-populated labels"
   ]
  },
  {
   "cell_type": "code",
   "execution_count": 25,
   "metadata": {
    "ExecuteTime": {
     "end_time": "2019-03-01T17:54:24.976600Z",
     "start_time": "2019-03-01T17:54:24.552234Z"
    }
   },
   "outputs": [
    {
     "name": "stdout",
     "output_type": "stream",
     "text": [
      "-------------------------------------------------------------------------------\n",
      "dataframe information\n",
      "-------------------------------------------------------------------------------\n",
      "                          ret  bin\n",
      "2018-02-13 13:43:37  0.010108  1.0\n",
      "2018-02-14 10:30:48  0.015045  1.0\n",
      "2018-02-14 13:36:02  0.005056  1.0\n",
      "2018-02-15 09:31:56  0.003964  1.0\n",
      "2018-02-15 14:05:41  0.010431  1.0\n",
      "--------------------------------------------------\n",
      "<class 'pandas.core.frame.DataFrame'>\n",
      "DatetimeIndex: 929 entries, 2009-10-05 14:55:48 to 2018-02-15 14:05:41\n",
      "Data columns (total 2 columns):\n",
      "ret    929 non-null float64\n",
      "bin    929 non-null float64\n",
      "dtypes: float64(2)\n",
      "memory usage: 61.8 KB\n",
      "None\n",
      "-------------------------------------------------------------------------------\n",
      "\n"
     ]
    }
   ],
   "source": [
    "clean_labels = dropLabels(labels)\n",
    "cprint(clean_labels)"
   ]
  },
  {
   "cell_type": "code",
   "execution_count": 26,
   "metadata": {
    "ExecuteTime": {
     "end_time": "2019-03-01T17:54:25.770917Z",
     "start_time": "2019-03-01T17:54:24.979035Z"
    }
   },
   "outputs": [
    {
     "data": {
      "text/plain": [
       " 1.0    523\n",
       "-1.0    406\n",
       "Name: bin, dtype: int64"
      ]
     },
     "execution_count": 26,
     "metadata": {},
     "output_type": "execute_result"
    }
   ],
   "source": [
    "clean_labels.bin.value_counts()"
   ]
  },
  {
   "cell_type": "markdown",
   "metadata": {},
   "source": [
    "## [3.3] Adjust the `getBins` function to return a `0` whenever the vertical barrier is the one touched first."
   ]
  },
  {
   "cell_type": "code",
   "execution_count": 27,
   "metadata": {
    "ExecuteTime": {
     "end_time": "2019-03-01T17:54:29.719766Z",
     "start_time": "2019-03-01T17:54:25.772774Z"
    }
   },
   "outputs": [],
   "source": [
    "def getBinsNew(events, close, t1=None):\n",
    "    '''\n",
    "    Compute event's outcome (including side information, if provided).\n",
    "    events is a DataFrame where:\n",
    "    -events.index is event's starttime\n",
    "    -events['t1'] is event's endtime\n",
    "    -events['trgt'] is event's target\n",
    "    -events['side'] (optional) implies the algo's position side\n",
    "    -t1 is original vertical barrier series\n",
    "    Case 1: ('side' not in events): bin in (-1,1) <-label by price action\n",
    "    Case 2: ('side' in events): bin in (0,1) <-label by pnl (meta-labeling)\n",
    "    '''\n",
    "    #1) prices aligned with events\n",
    "    events_=events.dropna(subset=['t1'])\n",
    "    px=events_.index.union(events_['t1'].values).drop_duplicates()\n",
    "    px=close.reindex(px,method='bfill')\n",
    "    #2) create out object\n",
    "    out=pd.DataFrame(index=events_.index)\n",
    "    out['ret']=px.loc[events_['t1'].values].values/px.loc[events_.index]-1\n",
    "    if 'side' in events_:out['ret']*=events_['side'] # meta-labeling\n",
    "    out['bin']=np.sign(out['ret'])\n",
    "    \n",
    "    if 'side' not in events_:\n",
    "        # only applies when not meta-labeling\n",
    "        # to update bin to 0 when vertical barrier is touched, we need the original\n",
    "        # vertical barrier series since the events['t1'] is the time of first \n",
    "        # touch of any barrier and not the vertical barrier specifically. \n",
    "        # The index of the intersection of the vertical barrier values and the \n",
    "        # events['t1'] values indicate which bin labels needs to be turned to 0\n",
    "        vtouch_first_idx = events[events['t1'].isin(t1.values)].index\n",
    "        out.loc[vtouch_first_idx, 'bin'] = 0.\n",
    "    \n",
    "    if 'side' in events_:out.loc[out['ret']<=0,'bin']=0 # meta-labeling\n",
    "    return out"
   ]
  },
  {
   "cell_type": "markdown",
   "metadata": {},
   "source": [
    "## [3.4] Develop moving average crossover strategy. For each obs. the model suggests a side but not size of the bet"
   ]
  },
  {
   "cell_type": "code",
   "execution_count": 28,
   "metadata": {
    "ExecuteTime": {
     "end_time": "2019-03-01T17:54:32.472289Z",
     "start_time": "2019-03-01T17:54:29.721345Z"
    }
   },
   "outputs": [
    {
     "name": "stdout",
     "output_type": "stream",
     "text": [
      "-------------------------------------------------------------------------------\n",
      "dataframe information\n",
      "-------------------------------------------------------------------------------\n",
      "                      price        fast        slow\n",
      "2018-02-26 15:31:06  115.29  115.227691  115.057569\n",
      "2018-02-26 15:40:15  115.41  115.273268  115.101623\n",
      "2018-02-26 15:49:42  115.20  115.254951  115.113920\n",
      "2018-02-26 15:59:04  115.27  115.258713  115.133430\n",
      "2018-02-26 16:16:14  115.30  115.269035  115.154251\n",
      "--------------------------------------------------\n",
      "<class 'pandas.core.frame.DataFrame'>\n",
      "DatetimeIndex: 30860 entries, 2009-09-28 09:53:49 to 2018-02-26 16:16:14\n",
      "Data columns (total 3 columns):\n",
      "price    30860 non-null float64\n",
      "fast     30860 non-null float64\n",
      "slow     30860 non-null float64\n",
      "dtypes: float64(3)\n",
      "memory usage: 964.4 KB\n",
      "None\n",
      "-------------------------------------------------------------------------------\n",
      "\n"
     ]
    }
   ],
   "source": [
    "fast_window = 3\n",
    "slow_window = 7\n",
    "\n",
    "close_df = (pd.DataFrame()\n",
    "            .assign(price=close)\n",
    "            .assign(fast=close.ewm(fast_window).mean())\n",
    "            .assign(slow=close.ewm(slow_window).mean()))\n",
    "cprint(close_df)"
   ]
  },
  {
   "cell_type": "code",
   "execution_count": 29,
   "metadata": {
    "ExecuteTime": {
     "end_time": "2019-03-01T17:54:33.757620Z",
     "start_time": "2019-03-01T17:54:32.473676Z"
    }
   },
   "outputs": [
    {
     "data": {
      "text/plain": [
       "<matplotlib.legend.Legend at 0x7ff98d92be80>"
      ]
     },
     "execution_count": 29,
     "metadata": {},
     "output_type": "execute_result"
    },
    {
     "data": {
      "image/png": "[encoded data removed]",
      "text/plain": [
       "<Figure size 792x576 with 1 Axes>"
      ]
     },
     "metadata": {
      "needs_background": "light"
     },
     "output_type": "display_data"
    }
   ],
   "source": [
    "def get_up_cross(df):\n",
    "    crit1 = df.fast.shift(1) < df.slow.shift(1)\n",
    "    crit2 = df.fast > df.slow\n",
    "    return df.fast[(crit1) & (crit2)]\n",
    "\n",
    "def get_down_cross(df):\n",
    "    crit1 = df.fast.shift(1) > df.slow.shift(1)\n",
    "    crit2 = df.fast < df.slow\n",
    "    return df.fast[(crit1) & (crit2)]\n",
    "\n",
    "up = get_up_cross(close_df)\n",
    "down = get_down_cross(close_df)\n",
    "\n",
    "f, ax = plt.subplots(figsize=(11,8))\n",
    "\n",
    "close_df.loc['2014':].plot(ax=ax, alpha=.5)\n",
    "up.loc['2014':].plot(ax=ax,ls='',marker='^', markersize=7,\n",
    "                     alpha=0.75, label='upcross', color='g')\n",
    "down.loc['2014':].plot(ax=ax,ls='',marker='v', markersize=7, \n",
    "                       alpha=0.75, label='downcross', color='r')\n",
    "\n",
    "ax.legend()"
   ]
  },
  {
   "cell_type": "markdown",
   "metadata": {},
   "source": [
    "### (a) Derive meta-labels for `ptSl = [1,2]` and `t1` where `numdays=1`. Use as `trgt` dailyVol computed by snippet 3.1 (get events with sides)"
   ]
  },
  {
   "cell_type": "code",
   "execution_count": 30,
   "metadata": {
    "ExecuteTime": {
     "end_time": "2019-03-01T17:54:34.189161Z",
     "start_time": "2019-03-01T17:54:33.760127Z"
    },
    "scrolled": true
   },
   "outputs": [
    {
     "name": "stdout",
     "output_type": "stream",
     "text": [
      "-------------------------------------------------------------------------------\n",
      "dataframe information\n",
      "-------------------------------------------------------------------------------\n",
      "                     0\n",
      "2018-02-21 11:10:00  1\n",
      "2018-02-21 15:12:30 -1\n",
      "2018-02-22 11:48:39  1\n",
      "2018-02-22 13:34:29 -1\n",
      "2018-02-23 10:01:41  1\n",
      "--------------------------------------------------\n",
      "<class 'pandas.core.frame.DataFrame'>\n",
      "DatetimeIndex: 1712 entries, 2009-09-30 09:45:21 to 2018-02-23 10:01:41\n",
      "Data columns (total 1 columns):\n",
      "0    1712 non-null int64\n",
      "dtypes: int64(1)\n",
      "memory usage: 26.8 KB\n",
      "None\n",
      "-------------------------------------------------------------------------------\n",
      "\n"
     ]
    }
   ],
   "source": [
    "side_up = pd.Series(1, index=up.index)\n",
    "side_down = pd.Series(-1, index=down.index)\n",
    "side = pd.concat([side_up,side_down]).sort_index()\n",
    "cprint(side)"
   ]
  },
  {
   "cell_type": "code",
   "execution_count": 31,
   "metadata": {
    "ExecuteTime": {
     "end_time": "2019-03-01T17:54:36.918898Z",
     "start_time": "2019-03-01T17:54:34.191595Z"
    }
   },
   "outputs": [
    {
     "name": "stderr",
     "output_type": "stream",
     "text": [
      "100%|██████████| 30858/30858 [00:01<00:00, 17281.84it/s]\n",
      "2019-03-01 10:54:36.730759 100.0% applyPtSlOnT1 done after 0.0 minutes. Remaining 0.0 minutes..\n"
     ]
    },
    {
     "name": "stdout",
     "output_type": "stream",
     "text": [
      "-------------------------------------------------------------------------------\n",
      "dataframe information\n",
      "-------------------------------------------------------------------------------\n",
      "                     side                  t1      trgt\n",
      "2018-02-13 13:43:37   NaN 2018-02-14 13:53:59  0.014365\n",
      "2018-02-14 10:30:48   NaN 2018-02-15 10:42:27  0.012136\n",
      "2018-02-14 13:36:02   NaN 2018-02-15 13:42:09  0.011688\n",
      "2018-02-15 09:31:56   NaN 2018-02-16 09:42:36  0.011244\n",
      "2018-02-15 14:05:41   NaN 2018-02-16 14:15:08  0.010183\n",
      "--------------------------------------------------\n",
      "<class 'pandas.core.frame.DataFrame'>\n",
      "DatetimeIndex: 929 entries, 2009-10-05 14:55:48 to 2018-02-15 14:05:41\n",
      "Data columns (total 3 columns):\n",
      "side    102 non-null float64\n",
      "t1      929 non-null datetime64[ns]\n",
      "trgt    929 non-null float64\n",
      "dtypes: datetime64[ns](1), float64(2)\n",
      "memory usage: 29.0 KB\n",
      "None\n",
      "-------------------------------------------------------------------------------\n",
      "\n"
     ]
    }
   ],
   "source": [
    "minRet = .01 \n",
    "ptsl=[1,2]\n",
    "\n",
    "dailyVol = getDailyVol(close_df['price'])\n",
    "tEvents = getTEvents(close_df['price'],h=dailyVol.mean())\n",
    "t1 = addVerticalBarrier(tEvents, close_df['price'], numDays=1)\n",
    "\n",
    "ma_events = getEvents(close_df['price'],tEvents,ptsl,target,minRet,cpus,\n",
    "                      t1=t1,side=side)\n",
    "cprint(ma_events)"
   ]
  },
  {
   "cell_type": "code",
   "execution_count": 32,
   "metadata": {
    "ExecuteTime": {
     "end_time": "2019-03-01T17:54:37.223058Z",
     "start_time": "2019-03-01T17:54:36.920513Z"
    }
   },
   "outputs": [
    {
     "data": {
      "text/plain": [
       " 1.0    53\n",
       "-1.0    49\n",
       "Name: side, dtype: int64"
      ]
     },
     "execution_count": 32,
     "metadata": {},
     "output_type": "execute_result"
    }
   ],
   "source": [
    "ma_events.side.value_counts()"
   ]
  },
  {
   "cell_type": "code",
   "execution_count": 33,
   "metadata": {
    "ExecuteTime": {
     "end_time": "2019-03-01T17:54:37.538874Z",
     "start_time": "2019-03-01T17:54:37.225750Z"
    }
   },
   "outputs": [],
   "source": [
    "ma_side = ma_events.dropna().side"
   ]
  },
  {
   "cell_type": "code",
   "execution_count": 34,
   "metadata": {
    "ExecuteTime": {
     "end_time": "2019-03-01T17:54:37.883132Z",
     "start_time": "2019-03-01T17:54:37.540690Z"
    },
    "scrolled": true
   },
   "outputs": [
    {
     "name": "stdout",
     "output_type": "stream",
     "text": [
      "-------------------------------------------------------------------------------\n",
      "dataframe information\n",
      "-------------------------------------------------------------------------------\n",
      "                          ret  bin\n",
      "2016-07-07 14:28:00 -0.018703  0.0\n",
      "2016-07-08 09:30:57  0.010571  1.0\n",
      "2018-02-06 10:18:08 -0.026702  0.0\n",
      "2018-02-07 15:28:09 -0.030792  0.0\n",
      "2018-02-13 09:30:00 -0.001803  0.0\n",
      "--------------------------------------------------\n",
      "<class 'pandas.core.frame.DataFrame'>\n",
      "DatetimeIndex: 102 entries, 2009-10-29 13:40:22 to 2018-02-13 09:30:00\n",
      "Data columns (total 2 columns):\n",
      "ret    102 non-null float64\n",
      "bin    102 non-null float64\n",
      "dtypes: float64(2)\n",
      "memory usage: 2.4 KB\n",
      "None\n",
      "-------------------------------------------------------------------------------\n",
      "\n"
     ]
    }
   ],
   "source": [
    "ma_bins = getBinsNew(ma_events,close_df['price'], t1).dropna()\n",
    "cprint(ma_bins)"
   ]
  },
  {
   "cell_type": "code",
   "execution_count": 35,
   "metadata": {
    "ExecuteTime": {
     "end_time": "2019-03-01T17:54:38.190267Z",
     "start_time": "2019-03-01T17:54:37.886249Z"
    }
   },
   "outputs": [
    {
     "name": "stdout",
     "output_type": "stream",
     "text": [
      "-------------------------------------------------------------------------------\n",
      "dataframe information\n",
      "-------------------------------------------------------------------------------\n",
      "                          ret  bin  side\n",
      "2016-07-07 14:28:00 -0.018703  0.0    -1\n",
      "2016-07-08 09:30:57  0.010571  1.0     1\n",
      "2018-02-06 10:18:08 -0.026702  0.0    -1\n",
      "2018-02-07 15:28:09 -0.030792  0.0     1\n",
      "2018-02-13 09:30:00 -0.001803  0.0    -1\n",
      "--------------------------------------------------\n",
      "<class 'pandas.core.frame.DataFrame'>\n",
      "DatetimeIndex: 102 entries, 2009-10-29 13:40:22 to 2018-02-13 09:30:00\n",
      "Data columns (total 3 columns):\n",
      "ret     102 non-null float64\n",
      "bin     102 non-null float64\n",
      "side    102 non-null int64\n",
      "dtypes: float64(2), int64(1)\n",
      "memory usage: 3.2 KB\n",
      "None\n",
      "-------------------------------------------------------------------------------\n",
      "\n"
     ]
    }
   ],
   "source": [
    "Xx = pd.merge_asof(ma_bins, side.to_frame().rename(columns={0:'side'}),\n",
    "                   left_index=True, right_index=True, direction='forward')\n",
    "cprint(Xx)"
   ]
  },
  {
   "cell_type": "markdown",
   "metadata": {},
   "source": [
    "### (b) Train Random Forest to decide whether to trade or not `{0,1}` since underlying model (crossing m.a.) has decided the side, `{-1,1}`"
   ]
  },
  {
   "cell_type": "code",
   "execution_count": 36,
   "metadata": {
    "ExecuteTime": {
     "end_time": "2019-03-01T17:54:38.523365Z",
     "start_time": "2019-03-01T17:54:38.192661Z"
    }
   },
   "outputs": [],
   "source": [
    "from sklearn.ensemble import RandomForestClassifier\n",
    "from sklearn.model_selection import train_test_split\n",
    "from sklearn.metrics import roc_curve, classification_report"
   ]
  },
  {
   "cell_type": "code",
   "execution_count": 37,
   "metadata": {
    "ExecuteTime": {
     "end_time": "2019-03-01T17:54:44.603030Z",
     "start_time": "2019-03-01T17:54:38.525191Z"
    }
   },
   "outputs": [
    {
     "name": "stdout",
     "output_type": "stream",
     "text": [
      "              precision    recall  f1-score   support\n",
      "\n",
      "         0.0       0.00      0.00      0.00        24\n",
      "         1.0       0.53      1.00      0.69        27\n",
      "\n",
      "   micro avg       0.53      0.53      0.53        51\n",
      "   macro avg       0.26      0.50      0.35        51\n",
      "weighted avg       0.28      0.53      0.37        51\n",
      "\n"
     ]
    },
    {
     "data": {
      "image/png": "[encoded data removed]",
      "text/plain": [
       "<Figure size 432x288 with 1 Axes>"
      ]
     },
     "metadata": {
      "needs_background": "light"
     },
     "output_type": "display_data"
    }
   ],
   "source": [
    "X = ma_side.values.reshape(-1,1)\n",
    "#X = Xx.side.values.reshape(-1,1)\n",
    "y = ma_bins.bin.values\n",
    "X_train, X_test, y_train, y_test = train_test_split(X, y, test_size=0.5,\n",
    "                                                    shuffle=False)\n",
    "\n",
    "n_estimator = 10000\n",
    "rf = RandomForestClassifier(max_depth=2, n_estimators=n_estimator,\n",
    "                            criterion='entropy', random_state=RANDOM_STATE)\n",
    "rf.fit(X_train, y_train)\n",
    "\n",
    "# The random forest model by itself\n",
    "y_pred_rf = rf.predict_proba(X_test)[:, 1]\n",
    "y_pred = rf.predict(X_test)\n",
    "fpr_rf, tpr_rf, _ = roc_curve(y_test, y_pred_rf)\n",
    "print(classification_report(y_test, y_pred))\n",
    "\n",
    "plt.figure(1)\n",
    "plt.plot([0, 1], [0, 1], 'k--')\n",
    "plt.plot(fpr_rf, tpr_rf, label='RF')\n",
    "plt.xlabel('False positive rate')\n",
    "plt.ylabel('True positive rate')\n",
    "plt.title('ROC curve')\n",
    "plt.legend(loc='best')\n",
    "plt.show()"
   ]
  },
  {
   "cell_type": "markdown",
   "metadata": {},
   "source": [
    "## [3.5] Develop mean-reverting Bollinger Band Strategy. For each obs. model suggests a side but not size of the bet."
   ]
  },
  {
   "cell_type": "code",
   "execution_count": 38,
   "metadata": {
    "ExecuteTime": {
     "end_time": "2019-03-01T17:54:44.934155Z",
     "start_time": "2019-03-01T17:54:44.604514Z"
    }
   },
   "outputs": [],
   "source": [
    "def bbands(price, window=None, width=None, numsd=None):\n",
    "    \"\"\" returns average, upper band, and lower band\"\"\"\n",
    "    ave = price.rolling(window).mean()\n",
    "    sd = price.rolling(window).std(ddof=0)\n",
    "    if width:\n",
    "        upband = ave * (1+width)\n",
    "        dnband = ave * (1-width)\n",
    "        return price, np.round(ave,3), np.round(upband,3), np.round(dnband,3)        \n",
    "    if numsd:\n",
    "        upband = ave + (sd*numsd)\n",
    "        dnband = ave - (sd*numsd)\n",
    "        return price, np.round(ave,3), np.round(upband,3), np.round(dnband,3)"
   ]
  },
  {
   "cell_type": "code",
   "execution_count": 39,
   "metadata": {
    "ExecuteTime": {
     "end_time": "2019-03-01T17:54:45.316561Z",
     "start_time": "2019-03-01T17:54:44.935929Z"
    }
   },
   "outputs": [
    {
     "name": "stdout",
     "output_type": "stream",
     "text": [
      "-------------------------------------------------------------------------------\n",
      "dataframe information\n",
      "-------------------------------------------------------------------------------\n",
      "                      price      ave    upper    lower\n",
      "2018-02-26 15:31:06  115.29  114.005  114.959  113.051\n",
      "2018-02-26 15:40:15  115.41  114.069  115.008  113.129\n",
      "2018-02-26 15:49:42  115.20  114.124  115.047  113.202\n",
      "2018-02-26 15:59:04  115.27  114.183  115.083  113.282\n",
      "2018-02-26 16:16:14  115.30  114.231  115.125  113.338\n",
      "--------------------------------------------------\n",
      "<class 'pandas.core.frame.DataFrame'>\n",
      "DatetimeIndex: 30811 entries, 2009-10-01 15:51:02 to 2018-02-26 16:16:14\n",
      "Data columns (total 4 columns):\n",
      "price    30811 non-null float64\n",
      "ave      30811 non-null float64\n",
      "upper    30811 non-null float64\n",
      "lower    30811 non-null float64\n",
      "dtypes: float64(4)\n",
      "memory usage: 1.2 MB\n",
      "None\n",
      "-------------------------------------------------------------------------------\n",
      "\n"
     ]
    }
   ],
   "source": [
    "window=50\n",
    "bb_df = pd.DataFrame()\n",
    "bb_df['price'],bb_df['ave'],bb_df['upper'],bb_df['lower']=bbands(close, window=window, numsd=1)\n",
    "bb_df.dropna(inplace=True)\n",
    "cprint(bb_df)"
   ]
  },
  {
   "cell_type": "code",
   "execution_count": 40,
   "metadata": {
    "ExecuteTime": {
     "end_time": "2019-03-01T17:54:45.892818Z",
     "start_time": "2019-03-01T17:54:45.319710Z"
    }
   },
   "outputs": [
    {
     "data": {
      "text/plain": [
       "<matplotlib.axes._subplots.AxesSubplot at 0x7ff98d590d30>"
      ]
     },
     "execution_count": 40,
     "metadata": {},
     "output_type": "execute_result"
    },
    {
     "data": {
      "image/png": "[encoded data removed]",
      "text/plain": [
       "<Figure size 792x576 with 1 Axes>"
      ]
     },
     "metadata": {
      "needs_background": "light"
     },
     "output_type": "display_data"
    }
   ],
   "source": [
    "f,ax=plt.subplots(figsize=(11,8))\n",
    "bb_df.loc['2014'].plot(ax=ax)"
   ]
  },
  {
   "cell_type": "code",
   "execution_count": 41,
   "metadata": {
    "ExecuteTime": {
     "end_time": "2019-03-01T17:54:46.625944Z",
     "start_time": "2019-03-01T17:54:45.894447Z"
    }
   },
   "outputs": [
    {
     "data": {
      "text/plain": [
       "<matplotlib.legend.Legend at 0x7ff98ca46668>"
      ]
     },
     "execution_count": 41,
     "metadata": {},
     "output_type": "execute_result"
    },
    {
     "data": {
      "image/png": "[encoded data removed]",
      "text/plain": [
       "<Figure size 792x576 with 1 Axes>"
      ]
     },
     "metadata": {
      "needs_background": "light"
     },
     "output_type": "display_data"
    }
   ],
   "source": [
    "def get_up_cross(df, col):\n",
    "    # col is price column\n",
    "    crit1 = df[col].shift(1) < df.upper.shift(1)  \n",
    "    crit2 = df[col] > df.upper\n",
    "    return df[col][(crit1) & (crit2)]\n",
    "\n",
    "def get_down_cross(df, col):\n",
    "    # col is price column    \n",
    "    crit1 = df[col].shift(1) > df.lower.shift(1) \n",
    "    crit2 = df[col] < df.lower\n",
    "    return df[col][(crit1) & (crit2)]\n",
    "\n",
    "bb_down = get_down_cross(bb_df, 'price')\n",
    "bb_up = get_up_cross(bb_df, 'price') \n",
    "\n",
    "f, ax = plt.subplots(figsize=(11,8))\n",
    "\n",
    "bb_df.loc['2014':].plot(ax=ax, alpha=.5)\n",
    "bb_up.loc['2014':].plot(ax=ax, ls='', marker='^', markersize=7,\n",
    "                        alpha=0.75, label='upcross', color='g')\n",
    "bb_down.loc['2014':].plot(ax=ax, ls='', marker='v', markersize=7, \n",
    "                          alpha=0.75, label='downcross', color='r')\n",
    "ax.legend()"
   ]
  },
  {
   "cell_type": "markdown",
   "metadata": {},
   "source": [
    "### (a) Derive meta-labels for `ptSl=[0,2]` and `t1` where `numdays=1`. Use as `trgt` dailyVol."
   ]
  },
  {
   "cell_type": "code",
   "execution_count": 42,
   "metadata": {
    "ExecuteTime": {
     "end_time": "2019-03-01T17:54:47.459211Z",
     "start_time": "2019-03-01T17:54:46.627389Z"
    }
   },
   "outputs": [
    {
     "name": "stdout",
     "output_type": "stream",
     "text": [
      "-------------------------------------------------------------------------------\n",
      "dataframe information\n",
      "-------------------------------------------------------------------------------\n",
      "                     0\n",
      "2018-02-22 13:34:29  1\n",
      "2018-02-22 14:20:25  1\n",
      "2018-02-22 14:44:33  1\n",
      "2018-02-23 13:41:26 -1\n",
      "2018-02-23 14:40:49 -1\n",
      "--------------------------------------------------\n",
      "<class 'pandas.core.frame.DataFrame'>\n",
      "DatetimeIndex: 2040 entries, 2009-10-06 09:29:52 to 2018-02-23 14:40:49\n",
      "Data columns (total 1 columns):\n",
      "0    2040 non-null int64\n",
      "dtypes: int64(1)\n",
      "memory usage: 31.9 KB\n",
      "None\n",
      "-------------------------------------------------------------------------------\n",
      "\n"
     ]
    },
    {
     "name": "stderr",
     "output_type": "stream",
     "text": [
      "2019-03-01 10:54:47.213061 9.09% applyPtSlOnT1 done after 0.0 minutes. Remaining 0.03 minutes.\r",
      "2019-03-01 10:54:47.217601 18.18% applyPtSlOnT1 done after 0.0 minutes. Remaining 0.01 minutes.\r",
      "2019-03-01 10:54:47.219915 27.27% applyPtSlOnT1 done after 0.0 minutes. Remaining 0.01 minutes.\r",
      "2019-03-01 10:54:47.222889 36.36% applyPtSlOnT1 done after 0.0 minutes. Remaining 0.01 minutes.\r",
      "2019-03-01 10:54:47.224198 45.45% applyPtSlOnT1 done after 0.0 minutes. Remaining 0.0 minutes.\r",
      "2019-03-01 10:54:47.224620 54.55% applyPtSlOnT1 done after 0.0 minutes. Remaining 0.0 minutes.\r",
      "2019-03-01 10:54:47.226273 63.64% applyPtSlOnT1 done after 0.0 minutes. Remaining 0.0 minutes.\r",
      "2019-03-01 10:54:47.227236 72.73% applyPtSlOnT1 done after 0.0 minutes. Remaining 0.0 minutes.\r",
      "2019-03-01 10:54:47.230049 81.82% applyPtSlOnT1 done after 0.0 minutes. Remaining 0.0 minutes.\r",
      "2019-03-01 10:54:47.235371 90.91% applyPtSlOnT1 done after 0.0 minutes. Remaining 0.0 minutes.\r",
      "2019-03-01 10:54:47.236315 100.0% applyPtSlOnT1 done after 0.0 minutes. Remaining 0.0 minutes.\n"
     ]
    },
    {
     "name": "stdout",
     "output_type": "stream",
     "text": [
      "-------------------------------------------------------------------------------\n",
      "dataframe information\n",
      "-------------------------------------------------------------------------------\n",
      "                     side                  t1      trgt\n",
      "2018-02-13 13:43:37  -1.0 2018-02-14 13:53:59  0.014365\n",
      "2018-02-14 10:30:48   NaN 2018-02-15 10:42:27  0.012136\n",
      "2018-02-14 13:36:02   NaN 2018-02-15 13:42:09  0.011688\n",
      "2018-02-15 09:31:56   NaN 2018-02-16 09:42:36  0.011244\n",
      "2018-02-15 14:05:41   NaN 2018-02-16 14:15:08  0.010183\n",
      "--------------------------------------------------\n",
      "<class 'pandas.core.frame.DataFrame'>\n",
      "DatetimeIndex: 929 entries, 2009-10-05 14:55:48 to 2018-02-15 14:05:41\n",
      "Data columns (total 3 columns):\n",
      "side    139 non-null float64\n",
      "t1      929 non-null datetime64[ns]\n",
      "trgt    929 non-null float64\n",
      "dtypes: datetime64[ns](1), float64(2)\n",
      "memory usage: 29.0 KB\n",
      "None\n",
      "-------------------------------------------------------------------------------\n",
      "\n",
      "-------------------------------------------------------------------------------\n",
      "dataframe information\n",
      "-------------------------------------------------------------------------------\n",
      "                     side\n",
      "2016-07-07 10:17:10  -1.0\n",
      "2016-07-08 09:30:57  -1.0\n",
      "2018-02-06 10:18:08   1.0\n",
      "2018-02-06 14:19:57   1.0\n",
      "2018-02-13 13:43:37  -1.0\n",
      "--------------------------------------------------\n",
      "<class 'pandas.core.frame.DataFrame'>\n",
      "DatetimeIndex: 139 entries, 2009-10-06 09:29:52 to 2018-02-13 13:43:37\n",
      "Data columns (total 1 columns):\n",
      "side    139 non-null float64\n",
      "dtypes: float64(1)\n",
      "memory usage: 2.2 KB\n",
      "None\n",
      "-------------------------------------------------------------------------------\n",
      "\n"
     ]
    }
   ],
   "source": [
    "bb_side_up = pd.Series(-1, index=bb_up.index) # sell on up cross for mean reversion\n",
    "bb_side_down = pd.Series(1, index=bb_down.index) # buy on down cross for mean reversion\n",
    "bb_side_raw = pd.concat([bb_side_up,bb_side_down]).sort_index()\n",
    "cprint(bb_side_raw)\n",
    "\n",
    "minRet = .01 \n",
    "ptsl=[0,2]\n",
    "bb_events = getEvents(close,tEvents,ptsl,target,minRet,cpus,t1=t1,side=bb_side_raw)\n",
    "cprint(bb_events)\n",
    "\n",
    "bb_side = bb_events.dropna().side\n",
    "cprint(bb_side)"
   ]
  },
  {
   "cell_type": "code",
   "execution_count": 43,
   "metadata": {
    "ExecuteTime": {
     "end_time": "2019-03-01T17:54:47.820661Z",
     "start_time": "2019-03-01T17:54:47.460801Z"
    }
   },
   "outputs": [
    {
     "data": {
      "text/plain": [
       " 1.0    72\n",
       "-1.0    67\n",
       "Name: side, dtype: int64"
      ]
     },
     "execution_count": 43,
     "metadata": {},
     "output_type": "execute_result"
    }
   ],
   "source": [
    "bb_side.value_counts()"
   ]
  },
  {
   "cell_type": "code",
   "execution_count": 44,
   "metadata": {
    "ExecuteTime": {
     "end_time": "2019-03-01T17:54:48.192517Z",
     "start_time": "2019-03-01T17:54:47.823058Z"
    }
   },
   "outputs": [
    {
     "name": "stdout",
     "output_type": "stream",
     "text": [
      "-------------------------------------------------------------------------------\n",
      "dataframe information\n",
      "-------------------------------------------------------------------------------\n",
      "                          ret  bin\n",
      "2016-07-07 10:17:10 -0.003791  0.0\n",
      "2016-07-08 09:30:57 -0.010571  0.0\n",
      "2018-02-06 10:18:08  0.025085  1.0\n",
      "2018-02-06 14:19:57  0.028779  1.0\n",
      "2018-02-13 13:43:37 -0.010108  0.0\n",
      "--------------------------------------------------\n",
      "<class 'pandas.core.frame.DataFrame'>\n",
      "DatetimeIndex: 139 entries, 2009-10-06 09:29:52 to 2018-02-13 13:43:37\n",
      "Data columns (total 2 columns):\n",
      "ret    139 non-null float64\n",
      "bin    139 non-null float64\n",
      "dtypes: float64(2)\n",
      "memory usage: 3.3 KB\n",
      "None\n",
      "-------------------------------------------------------------------------------\n",
      "\n",
      "0.0    79\n",
      "1.0    60\n",
      "Name: bin, dtype: int64\n"
     ]
    }
   ],
   "source": [
    "bb_bins = getBins(bb_events,close).dropna()\n",
    "cprint(bb_bins)\n",
    "print(bb_bins.bin.value_counts())"
   ]
  },
  {
   "cell_type": "markdown",
   "metadata": {},
   "source": [
    "### (b) train random forest to decide to trade or not. Use features: volatility, serial correlation, and the crossing moving averages from exercise 2."
   ]
  },
  {
   "cell_type": "code",
   "execution_count": 45,
   "metadata": {
    "ExecuteTime": {
     "end_time": "2019-03-01T17:54:48.508454Z",
     "start_time": "2019-03-01T17:54:48.195468Z"
    }
   },
   "outputs": [],
   "source": [
    "def returns(s):\n",
    "    arr = np.diff(np.log(s))\n",
    "    return (pd.Series(arr, index=s.index[1:]))\n",
    "\n",
    "def df_rolling_autocorr(df, window, lag=1):\n",
    "    \"\"\"Compute rolling column-wise autocorrelation for a DataFrame.\"\"\"\n",
    "\n",
    "    return (df.rolling(window=window)\n",
    "            .corr(df.shift(lag))) # could .dropna() here\n",
    "\n",
    "#df_rolling_autocorr(d1, window=21).dropna().head()"
   ]
  },
  {
   "cell_type": "code",
   "execution_count": 46,
   "metadata": {
    "ExecuteTime": {
     "end_time": "2019-03-01T17:54:48.863084Z",
     "start_time": "2019-03-01T17:54:48.511289Z"
    }
   },
   "outputs": [
    {
     "name": "stdout",
     "output_type": "stream",
     "text": [
      "-------------------------------------------------------------------------------\n",
      "dataframe information\n",
      "-------------------------------------------------------------------------------\n",
      "                     srl_corr\n",
      "2018-02-26 15:31:06  0.028037\n",
      "2018-02-26 15:40:15  0.015957\n",
      "2018-02-26 15:49:42  0.032877\n",
      "2018-02-26 15:59:04  0.046014\n",
      "2018-02-26 16:16:14  0.109129\n",
      "--------------------------------------------------\n",
      "<class 'pandas.core.frame.DataFrame'>\n",
      "DatetimeIndex: 30859 entries, 2009-09-28 10:06:04 to 2018-02-26 16:16:14\n",
      "Data columns (total 1 columns):\n",
      "srl_corr    30809 non-null float64\n",
      "dtypes: float64(1)\n",
      "memory usage: 482.2 KB\n",
      "None\n",
      "-------------------------------------------------------------------------------\n",
      "\n"
     ]
    }
   ],
   "source": [
    "srl_corr = df_rolling_autocorr(returns(close), window=window).rename('srl_corr')\n",
    "cprint(srl_corr)"
   ]
  },
  {
   "cell_type": "code",
   "execution_count": 47,
   "metadata": {
    "ExecuteTime": {
     "end_time": "2019-03-01T17:54:49.215766Z",
     "start_time": "2019-03-01T17:54:48.864737Z"
    }
   },
   "outputs": [
    {
     "name": "stdout",
     "output_type": "stream",
     "text": [
      "-------------------------------------------------------------------------------\n",
      "dataframe information\n",
      "-------------------------------------------------------------------------------\n",
      "                          vol  ma_side  srl_corr\n",
      "2016-07-07 14:28:00  0.012624     -1.0  0.251865\n",
      "2016-07-08 09:30:57  0.011944      1.0  0.238590\n",
      "2018-02-06 10:18:08  0.013317     -1.0  0.123961\n",
      "2018-02-07 15:28:09  0.024870      1.0 -0.005597\n",
      "2018-02-13 09:30:00  0.017363     -1.0  0.198935\n",
      "--------------------------------------------------\n",
      "<class 'pandas.core.frame.DataFrame'>\n",
      "DatetimeIndex: 102 entries, 2009-10-29 13:40:22 to 2018-02-13 09:30:00\n",
      "Data columns (total 3 columns):\n",
      "vol         102 non-null float64\n",
      "ma_side     102 non-null float64\n",
      "srl_corr    102 non-null float64\n",
      "dtypes: float64(3)\n",
      "memory usage: 3.2 KB\n",
      "None\n",
      "-------------------------------------------------------------------------------\n",
      "\n"
     ]
    }
   ],
   "source": [
    "features = (pd.DataFrame()\n",
    "            .assign(vol=bb_events.trgt)\n",
    "            .assign(ma_side=ma_side)\n",
    "            .assign(srl_corr=srl_corr)\n",
    "            .drop_duplicates()\n",
    "            .dropna())\n",
    "cprint(features)"
   ]
  },
  {
   "cell_type": "code",
   "execution_count": 48,
   "metadata": {
    "ExecuteTime": {
     "end_time": "2019-03-01T17:54:49.534835Z",
     "start_time": "2019-03-01T17:54:49.218405Z"
    }
   },
   "outputs": [
    {
     "name": "stdout",
     "output_type": "stream",
     "text": [
      "-------------------------------------------------------------------------------\n",
      "dataframe information\n",
      "-------------------------------------------------------------------------------\n",
      "                          vol  ma_side  srl_corr  bin\n",
      "2016-07-07 14:28:00  0.012624     -1.0  0.251865  0.0\n",
      "2016-07-08 09:30:57  0.011944      1.0  0.238590  0.0\n",
      "2018-02-06 10:18:08  0.013317     -1.0  0.123961  1.0\n",
      "2018-02-07 15:28:09  0.024870      1.0 -0.005597  0.0\n",
      "2018-02-13 09:30:00  0.017363     -1.0  0.198935  0.0\n",
      "--------------------------------------------------\n",
      "<class 'pandas.core.frame.DataFrame'>\n",
      "DatetimeIndex: 102 entries, 2009-10-29 13:40:22 to 2018-02-13 09:30:00\n",
      "Data columns (total 4 columns):\n",
      "vol         102 non-null float64\n",
      "ma_side     102 non-null float64\n",
      "srl_corr    102 non-null float64\n",
      "bin         102 non-null float64\n",
      "dtypes: float64(4)\n",
      "memory usage: 4.0 KB\n",
      "None\n",
      "-------------------------------------------------------------------------------\n",
      "\n"
     ]
    }
   ],
   "source": [
    "Xy = (pd.merge_asof(features, bb_bins[['bin']], \n",
    "                    left_index=True, right_index=True, \n",
    "                    direction='forward').dropna())\n",
    "cprint(Xy)"
   ]
  },
  {
   "cell_type": "code",
   "execution_count": 49,
   "metadata": {
    "ExecuteTime": {
     "end_time": "2019-03-01T17:54:49.873144Z",
     "start_time": "2019-03-01T17:54:49.536775Z"
    }
   },
   "outputs": [
    {
     "data": {
      "text/plain": [
       "0.0    60\n",
       "1.0    42\n",
       "Name: bin, dtype: int64"
      ]
     },
     "execution_count": 49,
     "metadata": {},
     "output_type": "execute_result"
    }
   ],
   "source": [
    "Xy.bin.value_counts()"
   ]
  },
  {
   "cell_type": "code",
   "execution_count": 50,
   "metadata": {
    "ExecuteTime": {
     "end_time": "2019-03-01T17:54:56.011226Z",
     "start_time": "2019-03-01T17:54:49.875226Z"
    }
   },
   "outputs": [
    {
     "name": "stdout",
     "output_type": "stream",
     "text": [
      "              precision    recall  f1-score   support\n",
      "\n",
      "    no_trade       0.47      0.73      0.58        26\n",
      "       trade       0.36      0.16      0.22        25\n",
      "\n",
      "   micro avg       0.45      0.45      0.45        51\n",
      "   macro avg       0.42      0.45      0.40        51\n",
      "weighted avg       0.42      0.45      0.40        51\n",
      "\n"
     ]
    },
    {
     "data": {
      "image/png": "[encoded data removed]",
      "text/plain": [
       "<Figure size 432x288 with 1 Axes>"
      ]
     },
     "metadata": {
      "needs_background": "light"
     },
     "output_type": "display_data"
    }
   ],
   "source": [
    "X = Xy.drop('bin',axis=1).values\n",
    "y = Xy['bin'].values\n",
    "\n",
    "X_train, X_test, y_train, y_test = train_test_split(X, y, test_size=0.5,\n",
    "                                                    shuffle=False)\n",
    "\n",
    "n_estimator = 10000\n",
    "rf = RandomForestClassifier(max_depth=2, n_estimators=n_estimator,\n",
    "                            criterion='entropy', random_state=RANDOM_STATE)\n",
    "rf.fit(X_train, y_train)\n",
    "\n",
    "# The random forest model by itself\n",
    "y_pred_rf = rf.predict_proba(X_test)[:, 1]\n",
    "y_pred = rf.predict(X_test)\n",
    "fpr_rf, tpr_rf, _ = roc_curve(y_test, y_pred_rf)\n",
    "print(classification_report(y_test, y_pred, target_names=['no_trade','trade']))\n",
    "\n",
    "plt.figure(1)\n",
    "plt.plot([0, 1], [0, 1], 'k--')\n",
    "plt.plot(fpr_rf, tpr_rf, label='RF')\n",
    "plt.xlabel('False positive rate')\n",
    "plt.ylabel('True positive rate')\n",
    "plt.title('ROC curve')\n",
    "plt.legend(loc='best')\n",
    "plt.show()"
   ]
  },
  {
   "cell_type": "markdown",
   "metadata": {
    "ExecuteTime": {
     "end_time": "2018-06-12T14:52:40.235268Z",
     "start_time": "2018-06-12T14:52:39.912077Z"
    }
   },
   "source": [
    "### (c) What is accuracy of predictions from primary model if the secondary model does not filter bets? What is classification report?"
   ]
  },
  {
   "cell_type": "code",
   "execution_count": 51,
   "metadata": {
    "ExecuteTime": {
     "end_time": "2019-03-01T17:55:02.893334Z",
     "start_time": "2019-03-01T17:54:56.012559Z"
    },
    "scrolled": false
   },
   "outputs": [
    {
     "name": "stderr",
     "output_type": "stream",
     "text": [
      "2019-03-01 10:54:56.611727 9.09% applyPtSlOnT1 done after 0.0 minutes. Remaining 0.03 minutes.\r",
      "2019-03-01 10:54:56.612903 18.18% applyPtSlOnT1 done after 0.0 minutes. Remaining 0.01 minutes.\r",
      "2019-03-01 10:54:56.613181 27.27% applyPtSlOnT1 done after 0.0 minutes. Remaining 0.01 minutes.\r",
      "2019-03-01 10:54:56.615975 36.36% applyPtSlOnT1 done after 0.0 minutes. Remaining 0.0 minutes.\r",
      "2019-03-01 10:54:56.624309 45.45% applyPtSlOnT1 done after 0.0 minutes. Remaining 0.0 minutes.\r",
      "2019-03-01 10:54:56.626470 54.55% applyPtSlOnT1 done after 0.0 minutes. Remaining 0.0 minutes.\r",
      "2019-03-01 10:54:56.629972 63.64% applyPtSlOnT1 done after 0.0 minutes. Remaining 0.0 minutes.\r",
      "2019-03-01 10:54:56.632532 72.73% applyPtSlOnT1 done after 0.0 minutes. Remaining 0.0 minutes.\r",
      "2019-03-01 10:54:56.633112 81.82% applyPtSlOnT1 done after 0.0 minutes. Remaining 0.0 minutes.\r",
      "2019-03-01 10:54:56.639612 90.91% applyPtSlOnT1 done after 0.0 minutes. Remaining 0.0 minutes.\r",
      "2019-03-01 10:54:56.657881 100.0% applyPtSlOnT1 done after 0.0 minutes. Remaining 0.0 minutes.\n"
     ]
    },
    {
     "name": "stdout",
     "output_type": "stream",
     "text": [
      "-------------------------------------------------------------------------------\n",
      "dataframe information\n",
      "-------------------------------------------------------------------------------\n",
      "                                     t1      trgt\n",
      "2018-02-13 13:43:37 2018-02-14 13:53:59  0.014365\n",
      "2018-02-14 10:30:48 2018-02-15 10:42:27  0.012136\n",
      "2018-02-14 13:36:02 2018-02-15 13:42:09  0.011688\n",
      "2018-02-15 09:31:56 2018-02-16 09:42:36  0.011244\n",
      "2018-02-15 14:05:41 2018-02-16 14:15:08  0.010183\n",
      "--------------------------------------------------\n",
      "<class 'pandas.core.frame.DataFrame'>\n",
      "DatetimeIndex: 929 entries, 2009-10-05 14:55:48 to 2018-02-15 14:05:41\n",
      "Data columns (total 2 columns):\n",
      "t1      929 non-null datetime64[ns]\n",
      "trgt    929 non-null float64\n",
      "dtypes: datetime64[ns](1), float64(1)\n",
      "memory usage: 21.8 KB\n",
      "None\n",
      "-------------------------------------------------------------------------------\n",
      "\n",
      "-------------------------------------------------------------------------------\n",
      "dataframe information\n",
      "-------------------------------------------------------------------------------\n",
      "                          ret  bin\n",
      "2018-02-13 13:43:37  0.010108  1.0\n",
      "2018-02-14 10:30:48  0.010876  1.0\n",
      "2018-02-14 13:36:02  0.005056  1.0\n",
      "2018-02-15 09:31:56  0.003964  1.0\n",
      "2018-02-15 14:05:41  0.004842  1.0\n",
      "--------------------------------------------------\n",
      "<class 'pandas.core.frame.DataFrame'>\n",
      "DatetimeIndex: 929 entries, 2009-10-05 14:55:48 to 2018-02-15 14:05:41\n",
      "Data columns (total 2 columns):\n",
      "ret    929 non-null float64\n",
      "bin    929 non-null float64\n",
      "dtypes: float64(2)\n",
      "memory usage: 21.8 KB\n",
      "None\n",
      "-------------------------------------------------------------------------------\n",
      "\n",
      "-------------------------------------------------------------------------------\n",
      "dataframe information\n",
      "-------------------------------------------------------------------------------\n",
      "                          vol  ma_side  srl_corr\n",
      "2016-07-07 14:28:00  0.012624     -1.0  0.251865\n",
      "2016-07-08 09:30:57  0.011944      1.0  0.238590\n",
      "2018-02-06 10:18:08  0.013317     -1.0  0.123961\n",
      "2018-02-07 15:28:09  0.024870      1.0 -0.005597\n",
      "2018-02-13 09:30:00  0.017363     -1.0  0.198935\n",
      "--------------------------------------------------\n",
      "<class 'pandas.core.frame.DataFrame'>\n",
      "DatetimeIndex: 102 entries, 2009-10-29 13:40:22 to 2018-02-13 09:30:00\n",
      "Data columns (total 3 columns):\n",
      "vol         102 non-null float64\n",
      "ma_side     102 non-null float64\n",
      "srl_corr    102 non-null float64\n",
      "dtypes: float64(3)\n",
      "memory usage: 3.2 KB\n",
      "None\n",
      "-------------------------------------------------------------------------------\n",
      "\n",
      "-------------------------------------------------------------------------------\n",
      "dataframe information\n",
      "-------------------------------------------------------------------------------\n",
      "                          vol  ma_side  srl_corr  bin\n",
      "2016-07-07 14:28:00  0.012624     -1.0  0.251865  1.0\n",
      "2016-07-08 09:30:57  0.011944      1.0  0.238590  1.0\n",
      "2018-02-06 10:18:08  0.013317     -1.0  0.123961  1.0\n",
      "2018-02-07 15:28:09  0.024870      1.0 -0.005597 -1.0\n",
      "2018-02-13 09:30:00  0.017363     -1.0  0.198935  1.0\n",
      "--------------------------------------------------\n",
      "<class 'pandas.core.frame.DataFrame'>\n",
      "DatetimeIndex: 102 entries, 2009-10-29 13:40:22 to 2018-02-13 09:30:00\n",
      "Data columns (total 4 columns):\n",
      "vol         102 non-null float64\n",
      "ma_side     102 non-null float64\n",
      "srl_corr    102 non-null float64\n",
      "bin         102 non-null float64\n",
      "dtypes: float64(4)\n",
      "memory usage: 4.0 KB\n",
      "None\n",
      "-------------------------------------------------------------------------------\n",
      "\n",
      "              precision    recall  f1-score   support\n",
      "\n",
      "    no_trade       0.39      0.43      0.41        21\n",
      "       trade       0.57      0.53      0.55        30\n",
      "\n",
      "   micro avg       0.49      0.49      0.49        51\n",
      "   macro avg       0.48      0.48      0.48        51\n",
      "weighted avg       0.50      0.49      0.49        51\n",
      "\n"
     ]
    },
    {
     "data": {
      "image/png": "[encoded data removed]",
      "text/plain": [
       "<Figure size 432x288 with 1 Axes>"
      ]
     },
     "metadata": {
      "needs_background": "light"
     },
     "output_type": "display_data"
    }
   ],
   "source": [
    "minRet = .01 \n",
    "ptsl=[0,2]\n",
    "bb_events = getEvents(close,tEvents,ptsl,target,minRet,cpus,t1=t1)\n",
    "cprint(bb_events)\n",
    "\n",
    "bb_bins = getBins(bb_events,close).dropna()\n",
    "cprint(bb_bins)\n",
    "\n",
    "features = (pd.DataFrame()\n",
    "            .assign(vol=bb_events.trgt)\n",
    "            .assign(ma_side=ma_side)\n",
    "            .assign(srl_corr=srl_corr)\n",
    "            .drop_duplicates()\n",
    "            .dropna())\n",
    "cprint(features)\n",
    "\n",
    "Xy = (pd.merge_asof(features, bb_bins[['bin']], \n",
    "                    left_index=True, right_index=True, \n",
    "                    direction='forward').dropna())\n",
    "cprint(Xy)\n",
    "\n",
    "### run model ###\n",
    "X = Xy.drop('bin',axis=1).values\n",
    "y = Xy['bin'].values\n",
    "\n",
    "X_train, X_test, y_train, y_test = train_test_split(X, y, test_size=0.5,\n",
    "                                                    shuffle=False)\n",
    "\n",
    "n_estimator = 10000\n",
    "rf = RandomForestClassifier(max_depth=2, n_estimators=n_estimator,\n",
    "                            criterion='entropy', random_state=RANDOM_STATE)\n",
    "rf.fit(X_train, y_train)\n",
    "\n",
    "# The random forest model by itself\n",
    "y_pred_rf = rf.predict_proba(X_test)[:, 1]\n",
    "y_pred = rf.predict(X_test)\n",
    "fpr_rf, tpr_rf, _ = roc_curve(y_test, y_pred_rf)\n",
    "print(classification_report(y_test, y_pred, \n",
    "                            target_names=['no_trade','trade']))\n",
    "\n",
    "plt.figure(1)\n",
    "plt.plot([0, 1], [0, 1], 'k--')\n",
    "plt.plot(fpr_rf, tpr_rf, label='RF')\n",
    "plt.xlabel('False positive rate')\n",
    "plt.ylabel('True positive rate')\n",
    "plt.title('ROC curve')\n",
    "plt.legend(loc='best')\n",
    "plt.show()"
   ]
  },
  {
   "cell_type": "code",
   "execution_count": null,
   "metadata": {},
   "outputs": [],
   "source": []
  }
 ],
 "metadata": {
  "kernelspec": {
   "display_name": "Python 3",
   "language": "python",
   "name": "python3"
  },
  "language_info": {
   "codemirror_mode": {
    "name": "ipython",
    "version": 3
   },
   "file_extension": ".py",
   "mimetype": "text/x-python",
   "name": "python",
   "nbconvert_exporter": "python",
   "pygments_lexer": "ipython3",
   "version": "3.7.3"
  },
  "toc": {
   "base_numbering": 1,
   "nav_menu": {
    "height": "490px",
    "width": "355px"
   },
   "number_sections": true,
   "sideBar": true,
   "skip_h1_title": false,
   "title_cell": "Table of Contents",
   "title_sidebar": "Contents",
   "toc_cell": true,
   "toc_position": {
    "height": "calc(100% - 180px)",
    "left": "10px",
    "top": "150px",
    "width": "346px"
   },
   "toc_section_display": true,
   "toc_window_display": true
  },
  "varInspector": {
   "cols": {
    "lenName": 16,
    "lenType": 16,
    "lenVar": 40
   },
   "kernels_config": {
    "python": {
     "delete_cmd_postfix": "",
     "delete_cmd_prefix": "del ",
     "library": "var_list.py",
     "varRefreshCmd": "print(var_dic_list())"
    },
    "r": {
     "delete_cmd_postfix": ") ",
     "delete_cmd_prefix": "rm(",
     "library": "var_list.r",
     "varRefreshCmd": "cat(var_dic_list()) "
    }
   },
   "types_to_exclude": [
    "module",
    "function",
    "builtin_function_or_method",
    "instance",
    "_Feature"
   ],
   "window_display": false
  }
 },
 "nbformat": 4,
 "nbformat_minor": 2
}
